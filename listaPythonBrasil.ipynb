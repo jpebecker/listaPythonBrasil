{
 "cells": [
  {
   "cell_type": "markdown",
   "id": "12f60c42-3ac1-4595-8921-acbcedc0c782",
   "metadata": {},
   "source": [
    "Lista PythonBrasil Completa - Resolvida por João Pedro Becker Schneider\n",
    "PythonBrasil exercises solved by João Pedro Becker Schneider"
   ]
  },
  {
   "cell_type": "markdown",
   "id": "b3d99e50-1183-4628-9b04-d2be4a04e71d",
   "metadata": {},
   "source": [
    "--------------------------------------------------------Lista 1 - Estrutura Sequencial------------------------------------------------------------------\n",
    "--------------------------------------------------------------------------------------------------------------------------------------------------------\n",
    "\n",
    "1)Faça um Programa que mostre a mensagem \"Alo mundo\" na tela."
   ]
  },
  {
   "cell_type": "code",
   "execution_count": null,
   "id": "aeb798ff-82e9-4047-bd11-08b16754a528",
   "metadata": {},
   "outputs": [],
   "source": [
    "print(\"Alo mundo\")"
   ]
  },
  {
   "cell_type": "markdown",
   "id": "50958204-734d-4cd9-a7eb-630c81d60f47",
   "metadata": {},
   "source": [
    "2)Faça um Programa que peça um número e então mostre a mensagem O número informado foi [número]."
   ]
  },
  {
   "cell_type": "code",
   "execution_count": null,
   "id": "a56eb692-a087-464a-9111-8d8bc2ec95b5",
   "metadata": {},
   "outputs": [],
   "source": [
    "num = int(input(\"digite um número: \"))\n",
    "print(\"O número informado foi [{}].\".format(num))"
   ]
  },
  {
   "cell_type": "markdown",
   "id": "de0e07fb-3d0a-4dec-bdd0-cfda88c62ee2",
   "metadata": {},
   "source": [
    "3)Faça um Programa que peça dois números e imprima a soma."
   ]
  },
  {
   "cell_type": "code",
   "execution_count": null,
   "id": "28eb4f83-0c2b-431d-bd54-262225980045",
   "metadata": {},
   "outputs": [],
   "source": [
    "X = int(input(\"Digite um número: \"))\n",
    "Y = int(input(\"Digite outro número: \"))\n",
    "\n",
    "print(\"A soma dos números vale: {}\".format(X+Y))\n"
   ]
  },
  {
   "cell_type": "markdown",
   "id": "1f727db6-ab3f-4b1a-83ca-adc4cf902588",
   "metadata": {},
   "source": [
    "4)Faça um Programa que peça as 4 notas bimestrais e mostre a média."
   ]
  },
  {
   "cell_type": "code",
   "execution_count": null,
   "id": "cf0ae7a2-8d5d-49ad-ae04-60a886ce4146",
   "metadata": {},
   "outputs": [],
   "source": [
    "nota1 = float(input(\"Digite a primeira nota: \"))\n",
    "nota2 = float(input(\"Digite a segunda nota: \"))\n",
    "nota3 = float(input(\"Digite a terceira nota: \"))\n",
    "nota4 = float(input(\"Digite a última nota: \"))\n",
    "\n",
    "print(\"A média das notas é {}\".format((nota1+nota2+nota3+nota4)/4))"
   ]
  },
  {
   "cell_type": "markdown",
   "id": "1532f158-9e18-4df7-ac0b-62fadb43431b",
   "metadata": {},
   "source": [
    "5)Faça um Programa que converta metros para centímetros."
   ]
  },
  {
   "cell_type": "code",
   "execution_count": null,
   "id": "ad65e9ab-f8ea-46af-b6eb-583086a82dd3",
   "metadata": {},
   "outputs": [],
   "source": [
    "m = int(input(\"Digite uma distância em metros: \"))\n",
    "\n",
    "print(\"A distância {}m corresponde a {}cm \".format(m,m*100))\n"
   ]
  },
  {
   "cell_type": "markdown",
   "id": "bef2ea65-000f-4704-9160-f2bbeee890a8",
   "metadata": {},
   "source": [
    "6)Faça um Programa que peça o raio de um círculo, calcule e mostre sua área."
   ]
  },
  {
   "cell_type": "code",
   "execution_count": null,
   "id": "1c778103-6d6d-4536-8983-091ce32495e7",
   "metadata": {},
   "outputs": [],
   "source": [
    "import math\n",
    "R = int(input(\"Digite o valor em cm do raio de um círculo: \"))\n",
    "area = math.pi*(R**2)\n",
    "\n",
    "print(\"A área do circulo equivale à {}cm²\".format(round((area),2)))"
   ]
  },
  {
   "cell_type": "markdown",
   "id": "a56e322a-294f-4dbc-be1f-d57370144716",
   "metadata": {},
   "source": [
    "7)Faça um Programa que calcule a área de um quadrado, em seguida mostre o dobro desta área para o usuário."
   ]
  },
  {
   "cell_type": "code",
   "execution_count": null,
   "id": "d25e2ad1-7527-42f9-a1d0-3eb201f2db0d",
   "metadata": {},
   "outputs": [],
   "source": [
    "L = int(input(\"Digite o valor em cm de um dos lados de um quadrado: \"))\n",
    "area = L**2\n",
    "\n",
    "print(\"O dobro do valor da área calculada equivale à {}cm²\".format(area*2))"
   ]
  },
  {
   "cell_type": "markdown",
   "id": "0a9c879a-b825-4b46-b01e-698ad4a9155a",
   "metadata": {},
   "source": [
    "8)Faça um Programa que pergunte quanto você ganha por hora e o número de horas trabalhadas no mês. Calcule e mostre o total do seu salário no referido mês."
   ]
  },
  {
   "cell_type": "markdown",
   "id": "22206d8b-1e06-4d82-970e-1a69573c348c",
   "metadata": {},
   "source": [
    "GanHora = int(input(\"Digite o valor remunerado por hora trabalhada em reais: \"))\n",
    "Horas = int(input(\"Digite a quantidade de horas trabalhadas no mês: \"))\n",
    "\n",
    "print(\"O valor do seu salário bruto é R${}.\".format(GanHora*Horas))\n"
   ]
  },
  {
   "cell_type": "markdown",
   "id": "48bccd63-56ee-4534-bb60-66c7afd88550",
   "metadata": {},
   "source": [
    "9)Faça um Programa que peça a temperatura em graus Fahrenheit, transforme e mostre a temperatura em graus Celsius.\n",
    "C = 5 * ((F-32) / 9)."
   ]
  },
  {
   "cell_type": "code",
   "execution_count": null,
   "id": "8a02c545-834d-4ab0-8e88-1a6a1ce7ccf2",
   "metadata": {},
   "outputs": [],
   "source": [
    "F = float(input(\"Digite uma temperatura em ºF: \"))\n",
    "\n",
    "print(\"A temperatura convertida em Celsius equivale à {}ºC\".format(round((5*((F-32)/9)),2)))"
   ]
  },
  {
   "cell_type": "markdown",
   "id": "9be58a9a-d896-4c52-89bc-1a852aacaf63",
   "metadata": {},
   "source": [
    "10)Faça um Programa que peça a temperatura em graus Celsius, transforme e mostre em graus Fahrenheit."
   ]
  },
  {
   "cell_type": "code",
   "execution_count": null,
   "id": "e05cc581-fd71-4e8e-a856-4243c4e8d60f",
   "metadata": {},
   "outputs": [],
   "source": [
    "C = float(input(\"Digite uma temperatura em ºC: \"))\n",
    "\n",
    "print(\"A temperatura convertida em Celsius equivale à ºF {}.\".format((C*(9/5))+32))"
   ]
  },
  {
   "cell_type": "markdown",
   "id": "88e70e3e-0a4e-40fb-a654-623d9227a5bb",
   "metadata": {},
   "source": [
    "11)Faça um Programa que peça 2 números inteiros e um número real. Calcule e mostre:\r\n",
    "o produto do dobro do primeiro com metade do segundo .\r\n",
    "a soma do triplo do primeiro com o terceiro.\r\n",
    "o terceiro elevado ao cubo."
   ]
  },
  {
   "cell_type": "code",
   "execution_count": null,
   "id": "f2da9711-af67-4383-9aae-c60f1e6fb7a6",
   "metadata": {},
   "outputs": [],
   "source": [
    "A = int(input(\"Digite um número inteiro: \"))\n",
    "B = int(input(\"Digite outro número inteiro: \"))\n",
    "R = float(input(\"Digite um número real: \"))\n",
    "\n",
    "print(int(2*A + B/2))\n",
    "print()\n",
    "print(float(A*3 + R))\n",
    "print()\n",
    "print(round((R**3),2))\n",
    "print(\"end\")\n"
   ]
  },
  {
   "cell_type": "markdown",
   "id": "e1d355f8-562b-411a-9d53-0a325e64f703",
   "metadata": {},
   "source": [
    "12)Tendo como dados de entrada a altura de uma pessoa, construa um algoritmo que calcule seu peso ideal, usando a seguinte fórmula: (72.7*altura) - 58"
   ]
  },
  {
   "cell_type": "code",
   "execution_count": null,
   "id": "5b57b509-d6ce-4a79-aafd-b46f4ceb41de",
   "metadata": {},
   "outputs": [],
   "source": [
    "altura = int(input(\"Digite sua altura em cm: \"))\n",
    "\n",
    "print(\"Seu peso ideal é {}KG\".format((72.7*(altura/100))-58))"
   ]
  },
  {
   "cell_type": "markdown",
   "id": "562c516e-7b75-4ac8-8ec1-8e6de0fd6a5f",
   "metadata": {},
   "source": [
    "13)Tendo como dado de entrada a altura (h) de uma pessoa, construa um algoritmo que calcule seu peso ideal, utilizando as seguintes fórmulas:\n",
    "Para homens: (72.7*h) - 58\n",
    "Para mulheres: (62.1*h) - 44.7"
   ]
  },
  {
   "cell_type": "code",
   "execution_count": null,
   "id": "94e7092e-d276-449e-8fda-22efea4cb00c",
   "metadata": {},
   "outputs": [],
   "source": [
    "h = int(input(\"Digite sua altura em cm: \"))\n",
    "\n",
    "print(\"Seu peso ideal é {}KG caso seja Homem e {}KG caso seja Mulher.\".format(round((72.7*(h/100))-58,2) , round(((62.1*(h/100))-44.7),2)))"
   ]
  },
  {
   "cell_type": "markdown",
   "id": "cb09d5bb-504b-43df-a684-e9fe3fe1832a",
   "metadata": {},
   "source": [
    "14)João Papo-de-Pescador, homem de bem, comprou um microcomputador para controlar o rendimento diário de seu trabalho. Toda vez que ele traz um peso de peixes maior que o estabelecido pelo regulamento de pesca do estado de São Paulo (50 quilos) deve pagar uma multa de R$ 4,00 por quilo excedente. João precisa que você faça um programa que leia a variável peso (peso de peixes) e calcule o excesso. Gravar na variável excesso a quantidade de quilos além do limite e na variável multa o valor da multa que João deverá pagar. Imprima os dados do programa com as mensagens adequadas."
   ]
  },
  {
   "cell_type": "code",
   "execution_count": null,
   "id": "c1b4f969-72f5-4c01-8a4e-ce70866f711e",
   "metadata": {},
   "outputs": [],
   "source": [
    "peso = round((float(input(\"Digite o peso dos peixes em quilos: \"))),2)\n",
    "\n",
    "if(peso<=50):\n",
    "    print(\"Não houve excesso de peso\")\n",
    "else:\n",
    "    excesso = int(peso - 50)\n",
    "    multa = excesso*4\n",
    "    print(\"Houve excesso de {} quilos e João deverá pagar R${} de multa.\".format(excesso,multa))\n",
    "\n",
    "print()\n",
    "print(\"Fim de programa\")"
   ]
  },
  {
   "cell_type": "markdown",
   "id": "574badbd-0bd4-455e-8562-6e9dcca6c86c",
   "metadata": {},
   "source": [
    "15)Faça um Programa que pergunte quanto você ganha por hora e o número de horas trabalhadas no mês. Calcule e mostre o total do seu salário no referido mês, sabendo-se que são descontados 11% para o Imposto de Renda, 8% para o INSS e 5% para o sindicato, faça um programa que nos dê:\n",
    "salário bruto.\n",
    "quanto pagou ao INSS.\n",
    "quanto pagou ao sindicato.\n",
    "o salário líquido.\n",
    "calcule os descontos e o salário líquido, conforme a tabela abaixo:\n",
    "+ Salário Bruto : R$\n",
    "- IR (11%) : R$\n",
    "- INSS (8%) : R$\n",
    "- Sindicato ( 5%) : R$\n",
    "= Salário Liquido : R$\n",
    "Obs.: Salário Bruto - Descontos = Salário Líquido."
   ]
  },
  {
   "cell_type": "code",
   "execution_count": null,
   "id": "da4a3801-e0df-4294-b225-90b9d6cb9b65",
   "metadata": {},
   "outputs": [],
   "source": [
    "GanHora = int(input(\"Digite o valor remunerado por hora em reais: \"))\n",
    "Horas   = int(input(\"Digite a quantidade de horas trabalhadas no mês: \"))\n",
    "\n",
    "SalBruto = GanHora*Horas\n",
    "IR = (SalBruto/100)*11\n",
    "INSS = (SalBruto/100)*8\n",
    "Sind = (SalBruto/100)*5\n",
    "Liquid = SalBruto - (INSS + IR + Sind)\n",
    "print()\n",
    "print(\"+ Salário Bruto:  R${}\".format(SalBruto))\n",
    "print(\"- IR (11%)     :  R${}\".format(IR))\n",
    "print(\"- INSS(8%)     :  R${}\".format(INSS))\n",
    "print(\"- Sindicato(5%):  R${}\".format(Sind))\n",
    "print(\"-------------------------\")\n",
    "print(\"= Salário Líquido:R${}\".format(Liquid))\n",
    "print()\n",
    "print(\"Fim de programa\")"
   ]
  },
  {
   "cell_type": "markdown",
   "id": "f1de9362-1d02-48c7-aa26-ddf56c0cfaf0",
   "metadata": {},
   "source": [
    "16)Faça um programa para uma loja de tintas. O programa deverá pedir o tamanho em metros quadrados da área a ser pintada. Considere que a cobertura da tinta é de 1 litro para cada 3 metros quadrados e que a tinta é vendida em latas de 18 litros, que custam R$ 80,00. Informe ao usuário a quantidades de latas de tinta a serem compradas e o preço total."
   ]
  },
  {
   "cell_type": "code",
   "execution_count": null,
   "id": "5213aa60-8c4c-438e-b9a7-8fa3fe2d6596",
   "metadata": {},
   "outputs": [],
   "source": [
    "metros = int(input(\"Digite o tamanho em metros quadrados da área a ser pintada: \"))\n",
    "Ltintas=1\n",
    "if(metros<=54):\n",
    "    print(\"Você precisará de apenas 1 lata de tinta e o preço total é de {} reais.\".format(Ltintas*80))\n",
    "else:\n",
    "    Ltintas = round(metros/54)\n",
    "    print(\"Você precisará de {} latas de tinta para pintar {}m² e o preço total será de {} reais.\".format(Ltintas,metros,Ltintas*80))"
   ]
  },
  {
   "cell_type": "markdown",
   "id": "8db09696-8d4d-4f29-b23b-3bbac77ae7b2",
   "metadata": {},
   "source": [
    "17)Faça um Programa para uma loja de tintas. O programa deverá pedir o tamanho em metros quadrados da área a ser pintada. Considere que a cobertura da tinta é de 1 litro para cada 6 metros quadrados e que a tinta é vendida em latas de 18 litros, que custam R$ 80,00 ou em galões de 3,6 litros, que custam R$ 25,00.\r\n",
    "Informe ao usuário as quantidades de tinta a serem compradas e os respectivos preços em 3 situações:\r\n",
    "comprar apenas latas de 18 litros;\r\n",
    "comprar apenas galões de 3,6 litros;\r\n",
    "misturar latas e galões, de forma que o desperdício de tinta seja menor. Acrescente 10% de folga e sempre arredonde os valores para cima, isto é, considere latas cheias."
   ]
  },
  {
   "cell_type": "code",
   "execution_count": null,
   "id": "072443f1-013c-4946-b0a1-9ba4a0801e11",
   "metadata": {},
   "outputs": [],
   "source": [
    "import math\n",
    "metros = int(input(\"Digite o tamanho em metros quadrados da área a ser pintada: \"))\n",
    "print()\n",
    "L18 = 0 #COBERTURA = 108m2\n",
    "L3 = 0 #COBERTURA = 21.6m2 ou 22 arredondado\n",
    "cobertura = 0\n",
    "preco = 0\n",
    "#calculo em L18-------------------\n",
    "if(metros>=108):#cobertura mínima\n",
    "    L18 = metros/108\n",
    "    print(\"A quantidade de apenas latas de 18L é: {}\".format(math.ceil(L18)))\n",
    "    preco = math.ceil(L18)*80\n",
    "    print(\"Preço em Latas de 18L: R${}\".format(preco))\n",
    "else:\n",
    "    print(\"Metragem insuficiente para cálculo em latas de 18L\")\n",
    "    \n",
    "#calculo em L3------------------\n",
    "if(metros>=22):\n",
    "    L3 = metros/22\n",
    "    print(\"A quantidade de apenas galões de 3.6L é: {}\".format(math.ceil(L3)))\n",
    "    preco = math.ceil(L3)*25\n",
    "    print(\"Preço em galões de 3.6L: R${}\".format(preco))\n",
    "else:\n",
    "    print(\"Em {}m² o mínimo a se utilizar é 1 galão de tinta\".format(metros))\n",
    "    print(\"Preço de um galão de 3.6L: R${}\".format(25.00))\n",
    "    \n",
    "#calculo em l18 e l3--------------\n",
    "##o foco é não desperdiçar tinta\n",
    "\n",
    "if((metros/6) <= 15 ): #CONSUMO DE TINTA ATÉ GALOES\n",
    "    #até onde vale a pena ir com os galões\n",
    "    if(metros<=22):\n",
    "        print(\"Em {}m² o mínimo a se utilizar é 1 galão de tinta\".format(metros))\n",
    "        print(\"Preço de um galão de 3.6L: R${}\".format(25.00))\n",
    "    else:\n",
    "        L3 = ((metros/6)/3.6)\n",
    "        print(\"Em {}m² o mais econômico é utilizar {} galões de tinta\".format(metros,math.ceil(L3)))\n",
    "        preco = math.ceil(L3)*25\n",
    "        print(\"Preço em galões de 3.6L: R${}\".format(preco))\n",
    "else: #se for maior que o compensável de galoes\n",
    "    L18 = 0\n",
    "    L3 = 0\n",
    "    cobertura = round((metros/6),2)\n",
    "    print(\"Litros necessários de tinta: {}L\".format(cobertura))\n",
    "    print()\n",
    "    while(cobertura>=18):\n",
    "        L18+=1\n",
    "        cobertura -= 18\n",
    "    while(cobertura>=3.6):\n",
    "        L3+=1\n",
    "        cobertura -= 3.6\n",
    "    if(cobertura<3.6):\n",
    "        L3+=1\n",
    "        cobertura -= 3.6\n",
    "        \n",
    "print(\"Quantidade de Latas de 18L combinadas: {} latas\".format(L18))\n",
    "print(\"Quantidade de Galões de 3.6L combinados: {} galões\".format(L3))\n",
    "print(\"Desperdício de {} litros de tinta.\".format(cobertura*-1))\n",
    "preco = L18*80 + L3*25\n",
    "print(\"Preço total combinado: R${}\".format(preco))\n",
    "print()\n",
    "print(\"end\")"
   ]
  },
  {
   "cell_type": "markdown",
   "id": "a15d8566-4527-438f-9751-23322b3d85a4",
   "metadata": {},
   "source": [
    "18)Faça um programa que peça o tamanho de um arquivo para download (em MB) e a velocidade de um link de Internet (em Mbps), calcule e informe o tempo aproximado de download do arquivo usando este link (em minutos)."
   ]
  },
  {
   "cell_type": "code",
   "execution_count": null,
   "id": "277987c4-7f9c-42da-93cf-246685ac666d",
   "metadata": {},
   "outputs": [],
   "source": [
    "import math\n",
    "tam = int(input(\"Digite o tamanho em Megabytes do arquivo para download: \"))\n",
    "print(\"Tamanho do Download: {}MB\".format(tam))\n",
    "vel = int(input(\"Digite a velocidade do link de internet em Megabits por segundo: \"))\n",
    "print(\"Velocidade da internet: {}Mbps\".format(vel))\n",
    "segundos = float((tam*8)/vel)\n",
    "MIN = 0\n",
    "if(segundos<=60):\n",
    "    print(\"O tempo aproximado de download é menor do que um minuto, correpondente a {} segundos.\".format(math.ceil(segundos)))\n",
    "else:\n",
    "    while(segundos>60):\n",
    "        MIN += 1\n",
    "        segundos -= 60\n",
    "    print(\"O tempo aproximado de download em minutos é de {}min e {}seg.\".format(MIN,math.ceil(segundos)))"
   ]
  },
  {
   "cell_type": "markdown",
   "id": "660060d6-c855-4890-ba54-6bdaca50bd5b",
   "metadata": {},
   "source": [
    "--------------------------------------------------------Lista 2 - Estrutura de Decisão---------------------------------------------------------------\n",
    "-----------------------------------------------------------------------------------------------------------------------------------------------------\n",
    "\n",
    "1)Faça um Programa que peça dois números e imprima o maior deles."
   ]
  },
  {
   "cell_type": "code",
   "execution_count": null,
   "id": "fa5cdf7d-d3a9-4e1d-9e6b-489bcb8577ad",
   "metadata": {},
   "outputs": [],
   "source": [
    "A = int(input(\"Digite um número para atribuir A: \"))\n",
    "B = int(input(\"Digite outro número para atribuir B: \"))\n",
    "\n",
    "if(A>B):\n",
    "    print(\"A é maior que B\")\n",
    "elif(A==B):\n",
    "    print(\"A e B são iguais\")\n",
    "else:\n",
    "    print(\"B é maior que A\")"
   ]
  },
  {
   "cell_type": "markdown",
   "id": "e671aa8e-98b7-408c-a1ca-a44c659563f2",
   "metadata": {},
   "source": [
    "2)Faça um Programa que peça um valor e mostre na tela se o valor é positivo ou negativo."
   ]
  },
  {
   "cell_type": "code",
   "execution_count": null,
   "id": "1ef6bd34-2421-45ea-bdd8-3e22ee65b3a8",
   "metadata": {},
   "outputs": [],
   "source": [
    "A = int(input(\"Digite um número para atribuir A \"))\n",
    "\n",
    "if(A>0):\n",
    "    print(\"A é positivo\")\n",
    "elif(A<0):\n",
    "    print(\"A é negativo\")\n",
    "else:\n",
    "    print(\"A é nulo\")"
   ]
  },
  {
   "cell_type": "markdown",
   "id": "fd20e255-53ef-4d3c-8053-6c041f31b64c",
   "metadata": {},
   "source": [
    "3)Faça um Programa que verifique se uma letra digitada é \"F\" ou \"M\". Conforme a letra escrever: F - Feminino, M - Masculino, Sexo Inválido."
   ]
  },
  {
   "cell_type": "code",
   "execution_count": null,
   "id": "629cb300-32ac-401d-803e-eeafd5890c80",
   "metadata": {},
   "outputs": [],
   "source": [
    "letra = input(\"Digite F ou M: \")\n",
    "\n",
    "if(letra==\"F\" or letra==\"f\"):\n",
    "    print(\"Feminino\")\n",
    "elif(letra==\"M\" or letra==\"m\"):\n",
    "    print(\"Masculino\")\n",
    "else:\n",
    "    print(\"Sexo Inválido\")\n",
    "print(\"end\")"
   ]
  },
  {
   "cell_type": "markdown",
   "id": "6fac5968-4194-4932-a234-7b81fdcd8940",
   "metadata": {},
   "source": [
    "4)Faça um Programa que verifique se uma letra digitada é vogal ou consoante."
   ]
  },
  {
   "cell_type": "code",
   "execution_count": null,
   "id": "75c1123e-0fc8-49cd-b230-061e17a3bbab",
   "metadata": {},
   "outputs": [],
   "source": [
    "letra = input(\"Digite uma letra: \").upper()\n",
    "\n",
    "if(letra==\"A\" or letra==\"E\" or letra==\"I\" or letra==\"O\" or letra==\"U\"):\n",
    "    print(\"{} é vogal\".format(letra))\n",
    "else:\n",
    "    print(\"{} é consoante\".format(letra))\n",
    "    \n",
    "print(\"end\")"
   ]
  },
  {
   "cell_type": "markdown",
   "id": "1bfa1091-0ae3-4fe8-bdf5-4a3c923d1883",
   "metadata": {},
   "source": [
    "5)Faça um programa para a leitura de duas notas parciais de um aluno. O programa deve calcular a média alcançada por aluno e apresentar:\r\n",
    "A mensagem \"Aprovado\", se a média alcançada for maior ou igual a sete;\r\n",
    "A mensagem \"Reprovado\", se a média for menor do que sete;\r\n",
    "A mensagem \"Aprovado com Distinção\", se a média for igual a dez."
   ]
  },
  {
   "cell_type": "code",
   "execution_count": null,
   "id": "57070190-7167-4c83-9253-b9a0be6af4fb",
   "metadata": {},
   "outputs": [],
   "source": [
    "N1 = float(input(\"Digite a primeira nota parciaL: \"))\n",
    "N2 = float(input(\"Digite a segunda nota parciaL: \"))\n",
    "media = (N1+N2)/2\n",
    "\n",
    "if(media==10):\n",
    "    print(\"Aprovado com Distinção\")\n",
    "elif(media>=7):\n",
    "    print(\"Aprovado\")\n",
    "else:\n",
    "    print(\"Reprovado\")\n",
    "\n",
    "print(\"end\")"
   ]
  },
  {
   "cell_type": "markdown",
   "id": "76fd88a1-bf9e-49c2-907b-39abfd71642d",
   "metadata": {},
   "source": [
    "6)Faça um Programa que leia três números e mostre o maior deles."
   ]
  },
  {
   "cell_type": "code",
   "execution_count": null,
   "id": "47a8621b-a3fc-4887-8bfc-3f229cf935d7",
   "metadata": {},
   "outputs": [],
   "source": [
    "A = int(input(\"Digite um número para atribuir A: \"))\n",
    "B = int(input(\"Digite um número para atribuir B: \"))\n",
    "C = int(input(\"Digite um número para atribuir C: \"))\n",
    "\n",
    "if(A>B):\n",
    "    if(A>C):\n",
    "        print(\"A é o maior\")\n",
    "    elif(A==C):\n",
    "        print(\"A e C são os maiores\")\n",
    "    else:\n",
    "        print(\"C é o maior\")\n",
    "else:\n",
    "    if(A==B and B==C):\n",
    "        print(\"Não há maior, todos são iguais\")\n",
    "    elif(B==C):\n",
    "        print(\"B e C são os maiores\")\n",
    "    elif(B==A):\n",
    "        print(\"A e B são os maiores\")\n",
    "    elif(B>C):\n",
    "        print(\"B é o maior\")\n",
    "    else:\n",
    "        print(\"C é o maior\")\n",
    "\n",
    "print()\n",
    "print(\"end\")"
   ]
  },
  {
   "cell_type": "markdown",
   "id": "4986cde7-1edd-4838-b1e9-3dff2ad8d0f2",
   "metadata": {},
   "source": [
    "7)Faça um Programa que leia três números e mostre o maior e o menor deles."
   ]
  },
  {
   "cell_type": "code",
   "execution_count": null,
   "id": "c80a2fcd-6993-4ca1-88c3-7732afdb2f10",
   "metadata": {},
   "outputs": [],
   "source": [
    "A = int(input(\"Digite um número para atribuir A: \"))\n",
    "B = int(input(\"Digite um número para atribuir B: \"))\n",
    "C = int(input(\"Digite um número para atribuir C: \"))\n",
    "if(A>B):\n",
    "    #B é o menor\n",
    "    if(A>C):\n",
    "        print(\"A é o maior\")\n",
    "        print(\"e\")\n",
    "        print(\"B é o menor\")\n",
    "    elif(A==C):\n",
    "        print(\"A e C são os maiores\")\n",
    "        print(\"e\")\n",
    "        print(\"B é o menor\")\n",
    "    else:\n",
    "        print(\"C é o maior\")\n",
    "        print(\"e\")\n",
    "        print(\"B é o menor\")\n",
    "else:\n",
    "    if(A==B and B==C):\n",
    "        print(\"Não há maior, todos são iguais\")\n",
    "    elif(B==C):\n",
    "        print(\"B e C são os maiores\")\n",
    "        print(\"e\")\n",
    "        print(\"A é o menor\")\n",
    "    elif(B==A):\n",
    "        print(\"A e B são os maiores\")\n",
    "        print(\"e\")\n",
    "        print(\"C é o menor\")\n",
    "    elif(B>C):\n",
    "        print(\"B é o maior\")\n",
    "        print(\"e\")\n",
    "        print(\"A é o menor\")\n",
    "    else:\n",
    "        print(\"C é o maior\")\n",
    "        print(\"e\")\n",
    "        print(\"A é o menor\")\n",
    "\n",
    "print()\n",
    "print(\"end\")"
   ]
  },
  {
   "cell_type": "markdown",
   "id": "e3e2116e-86de-4ffe-adaf-2b8f02910f27",
   "metadata": {},
   "source": [
    "8)Faça um programa que pergunte o preço de três produtos e informe qual produto você deve comprar, sabendo que a decisão é sempre pelo mais barato."
   ]
  },
  {
   "cell_type": "code",
   "execution_count": null,
   "id": "81dc00d9-0cfb-461a-a75b-77d2f5e3e625",
   "metadata": {},
   "outputs": [],
   "source": [
    "A = float(input(\"Digite o preço de um produto A: \"))\n",
    "B = float(input(\"Digite o preço de um produto B: \"))\n",
    "C = float(input(\"Digite o preço de um produto C: \"))\n",
    "if(A<B):\n",
    "    if(A<C):\n",
    "        print(\"Compre o produto A.\")\n",
    "    else:\n",
    "        print(\"Compre o produto C.\")\n",
    "else:\n",
    "    if(B<C):\n",
    "        print(\"Compre o produto B.\")\n",
    "    else:\n",
    "        print(\"Compre o produto C.\")\n",
    "\n",
    "print()\n",
    "print(\"end\")"
   ]
  },
  {
   "cell_type": "markdown",
   "id": "ff833d60-3027-45df-a0a2-baa532b27ad5",
   "metadata": {},
   "source": [
    "9)Faça um Programa que leia três números e mostre-os em ordem decrescente."
   ]
  },
  {
   "cell_type": "code",
   "execution_count": null,
   "id": "26f0fe4f-5054-42c4-9a2c-82a9470752b3",
   "metadata": {},
   "outputs": [],
   "source": [
    "A = int(input(\"Digite um número: \"))\n",
    "B = int(input(\"Digite outro número: \"))\n",
    "C = int(input(\"Digite um último número: \"))\n",
    "ordem = []\n",
    "\n",
    "if(A>B):\n",
    "    #A maior que B\n",
    "    if(A>C):\n",
    "        #A maior que C\n",
    "        if(B<C):\n",
    "            #B menor que C\n",
    "            ordem = [B,C,A]\n",
    "        else:\n",
    "            ordem = [C,B,A]\n",
    "    else:\n",
    "        #A menor que C e maior B\n",
    "        ordem = [B,A,C]\n",
    "else:\n",
    "    #A menor que B\n",
    "    if(B>C):\n",
    "        #B e maior que C\n",
    "        if(C>A):\n",
    "            ordem = [A,C,B]\n",
    "        else:\n",
    "            ordem = [C,A,B]\n",
    "        #B e menor que C\n",
    "    else:\n",
    "        ordem = [A,B,C]\n",
    "print(ordem)"
   ]
  },
  {
   "cell_type": "markdown",
   "id": "20c3de1b-09c0-44b9-a425-3dba843146f2",
   "metadata": {},
   "source": [
    "10)Faça um Programa que pergunte em que turno você estuda. Peça para digitar M-matutino ou V-Vespertino ou N- Noturno. Imprima a mensagem \"Bom Dia!\", \"Boa Tarde!\" ou \"Boa Noite!\" ou \"Valor Inválido!\", conforme o caso."
   ]
  },
  {
   "cell_type": "code",
   "execution_count": null,
   "id": "5128807d-c658-4847-a9cc-de58c920e42f",
   "metadata": {},
   "outputs": [],
   "source": [
    "letra = input(\"Digite M ou V ou N: \").upper()\n",
    "\n",
    "if(letra==\"M\"):\n",
    "    print(\"Bom Dia!\")\n",
    "elif(letra==\"V\"):\n",
    "    print(\"Boa tarde!\")\n",
    "elif(letra==\"N\"):\n",
    "    print(\"Boa Noite!\")\n",
    "else:\n",
    "    print(\"Valor Inválido\")\n",
    "print(\"end\")"
   ]
  },
  {
   "cell_type": "markdown",
   "id": "d97c14e3-202d-462e-a8b7-54149e42bb29",
   "metadata": {},
   "source": [
    "11)As Organizações Tabajara resolveram dar um aumento de salário aos seus colaboradores e lhe contraram para desenvolver o programa que calculará os reajustes.\n",
    "Faça um programa que recebe o salário de um colaborador e o reajuste segundo o seguinte critério, baseado no salário atual:\n",
    "salários até R$ 280,00 (incluindo) : aumento de 20%\n",
    "salários entre R$ 280,00 e R$ 700,00 : aumento de 15%\n",
    "salários entre R$ 700,00 e R$ 1500,00 : aumento de 10%\n",
    "salários de R$ 1500,00 em diante : aumento de 5% \n",
    "Após o aumento ser realizado, informe na tela:\n",
    "o salário antes do reajuste;\n",
    "o percentual de aumento aplicado;\n",
    "o valor do aumento;\n",
    "o novo salário, após o aumento."
   ]
  },
  {
   "cell_type": "code",
   "execution_count": null,
   "id": "be01d81b-62e1-4bc8-b94e-9cc7b4eb9484",
   "metadata": {},
   "outputs": [],
   "source": [
    "S = int(input(\"Digite o salário atual do funcionário em reais: \"))\n",
    "perc = 0\n",
    "if(S<200):\n",
    "    perc = 20\n",
    "elif(S<700):\n",
    "    perc = 15\n",
    "elif(S<1500):\n",
    "    perc = 10\n",
    "else:\n",
    "    perc = 5\n",
    "\n",
    "print(\"Salário antes do reajuste     : R${}\".format(S))\n",
    "print(\"Percentual de aumento aplicado: {}%\".format(perc))\n",
    "print(\"Valor do aumento              : R${}\".format((S/100)*perc))\n",
    "print(\"Novo salário após reajuste    : R${}\".format(S + (S/100)*perc))\n",
    "print()\n",
    "print(\"end\")"
   ]
  },
  {
   "cell_type": "markdown",
   "id": "3440b204-9a6f-4b60-94bb-c57b2390baf1",
   "metadata": {},
   "source": [
    "12)Faça um programa para o cálculo de uma folha de pagamento, sabendo que os descontos são do Imposto de Renda, que depende do salário bruto (conforme tabela abaixo) e 3% para o Sindicato e que o FGTS corresponde a 11% do Salário Bruto, mas não é descontado (é a empresa que deposita). O Salário Líquido corresponde ao Salário Bruto menos os descontos. O programa deverá pedir ao usuário o valor da sua hora e a quantidade de horas trabalhadas no mês.\n",
    "Desconto do IR:\n",
    "Salário Bruto até 900 (inclusive) - isento\n",
    "Salário Bruto até 1500 (inclusive) - desconto de 5%\n",
    "Salário Bruto até 2500 (inclusive) - desconto de 10%\n",
    "Salário Bruto acima de 2500 - desconto de 20% Imprima na tela as informações, dispostas conforme o exemplo abaixo. No exemplo o valor da hora é 5 e a quantidade de hora é 220.\n",
    "        Salário Bruto: (5 * 220)        : R$ 1100,00\n",
    "        (-) IR (5%)                     : R$   55,00  \n",
    "        (-) INSS ( 10%)                 : R$  110,00\n",
    "        FGTS (11%)                      : R$  121,00\n",
    "        Total de descontos              : R$  165,00\n",
    "        Salário Liquido                 : R$  935,00"
   ]
  },
  {
   "cell_type": "code",
   "execution_count": null,
   "id": "76ea89aa-4e8f-43c7-82a6-d9280b23a440",
   "metadata": {},
   "outputs": [],
   "source": [
    "GanHora = int(input(\"Digite o valor remunerado por hora em reais: \"))\n",
    "Horas   = int(input(\"Digite a quantidade de horas trabalhadas no mês: \"))\n",
    "IR = 0\n",
    "DescontoIR = 0\n",
    "SalBruto = GanHora*Horas\n",
    "FGTS = ((SalBruto/100)*11)\n",
    "INSS = ((SalBruto/100)*10)\n",
    "Sind = ((SalBruto/100)*3)\n",
    "\n",
    "if(SalBruto>900):\n",
    "    if(SalBruto<=1500):\n",
    "        IR=5\n",
    "        DescontoIR = ((SalBruto/100)*IR)\n",
    "    elif(SalBruto<=2500):\n",
    "        IR=10\n",
    "        DescontoIR = ((SalBruto/100)*IR)\n",
    "    else:\n",
    "        IR=20\n",
    "        DescontoIR = ((SalBruto/100)*IR)\n",
    "\n",
    "Liquid = SalBruto - (FGTS+INSS+DescontoIR+Sind)\n",
    "\n",
    "print()\n",
    "print(\"-------Folha de Pagamento-------\")\n",
    "print()\n",
    "print(\"Salário Bruto: ({} * {})  : R${}\".format(GanHora,Horas,SalBruto))\n",
    "print(\"(-) IR ({}%)               : R${}\".format(IR,round(DescontoIR),2))\n",
    "print(\"(-) INSS (10%)             : R${}\".format(round((INSS),2)))\n",
    "print(\"FGTS (11%)                 : R${}\".format(round((FGTS),2)))\n",
    "print(\"Sindicato (3%)             : R${}\".format(round((Sind),2)))\n",
    "print(\"Total de descontos         : R${}\".format(round(float(DescontoIR+INSS+FGTS+Sind),2)))\n",
    "print(\"---------------------------------\")\n",
    "print(\"Salário Líquido            : R${}\".format(round(Liquid),2))\n",
    "print()\n",
    "print(\"Fim de programa\")"
   ]
  },
  {
   "cell_type": "markdown",
   "id": "47881be7-0c25-4d55-bde1-91c0a37e8fa5",
   "metadata": {},
   "source": [
    "13)Faça um Programa que leia um número e exiba o dia correspondente da semana. (1-Domingo, 2- Segunda, etc.), se digitar outro valor deve aparecer valor inválido."
   ]
  },
  {
   "cell_type": "code",
   "execution_count": null,
   "id": "9142a246-dc95-480e-a82a-4d541015a359",
   "metadata": {},
   "outputs": [],
   "source": [
    "number = int(input(\"Digite um número entre 1 e 7: \"))\n",
    "while(number>7 or number<1):\n",
    "    print(\"valor inválido\")\n",
    "    number = int(input(\"Digite um número entre 1 e 7: \"))\n",
    "if(number==1):\n",
    "    print()\n",
    "    print(\"Domingo\")\n",
    "elif(number==2):\n",
    "    print()\n",
    "    print(\"Segunda\")\n",
    "elif(number==3):\n",
    "    print()\n",
    "    print(\"Terça\")\n",
    "elif(number==4):\n",
    "    print()\n",
    "    print(\"Quarta\")\n",
    "elif(number==5):\n",
    "    print()\n",
    "    print(\"Quinta\")\n",
    "elif(number==6):\n",
    "    print()\n",
    "    print(\"Sexta\")\n",
    "elif(number==7):\n",
    "    print()\n",
    "    print(\"Sábado\")\n",
    "print()\n",
    "print(\"Fim do programa\")"
   ]
  },
  {
   "cell_type": "markdown",
   "id": "1cd7b786-5109-4823-91ac-87c5a99e6fc9",
   "metadata": {},
   "source": [
    "14)Faça um programa que lê as duas notas parciais obtidas por um aluno numa disciplina ao longo de um semestre, e calcule a sua média. A atribuição de conceitos obedece à tabela abaixo:\r\n",
    "  Média de Aproveitamento  Conceito\r\n",
    "  Entre 9.0 e 10.0        A\r\n",
    "  Entre 7.5 e 9.0         B\r\n",
    "  Entre 6.0 e 7.5         C\r\n",
    "  Entre 4.0 e 6.0         D\r\n",
    "  Entre 4.0 e zero        E\r\n",
    "O algoritmo deve mostrar na tela as notas, a média, o conceito correspondente e a mensagem “APROVADO” se o conceito for A, B ou C ou “REPROVADO” se o conceito for D ou E."
   ]
  },
  {
   "cell_type": "code",
   "execution_count": null,
   "id": "784f5ac4-8927-4e15-8274-7e3be730d0a3",
   "metadata": {},
   "outputs": [],
   "source": [
    "N1 = float(input(\"Digite a primeira nota parciaL: \"))\n",
    "N2 = float(input(\"Digite a segunda nota parciaL: \"))\n",
    "media = (N1+N2)/2\n",
    "C = \"\"\n",
    "\n",
    "if(media>=9):\n",
    "    C = \"A\"\n",
    "elif(media>=7.5):\n",
    "    C = \"B\"\n",
    "elif(media>=6):\n",
    "    C = \"C\"\n",
    "elif(media>=4):\n",
    "    C = \"D\"\n",
    "else:\n",
    "    C = \"E\"\n",
    "\n",
    "print()\n",
    "print(\"Notas   : {} e {}\".format(N1,N2))\n",
    "print(\"Média   : {}\".format(media))\n",
    "print(\"Conceito: {}\".format(C))\n",
    "if(C==\"D\" or C==\"E\"):\n",
    "    print(\"Reprovado\")\n",
    "else:\n",
    "    print(\"Aprovado\")\n",
    "print()\n",
    "print(\"End\")"
   ]
  },
  {
   "cell_type": "markdown",
   "id": "1f2ea892-3b88-4556-8202-c7c5568e616d",
   "metadata": {},
   "source": [
    "15)Faça um Programa que peça os 3 lados de um triângulo. O programa deverá informar se os valores podem ser um triângulo. Indique, caso os lados formem um triângulo, se o mesmo é: equilátero, isósceles ou escaleno.\n",
    "Dicas:\n",
    "Três lados formam um triângulo quando a soma de quaisquer dois lados for maior que o terceiro;\n",
    "Triângulo Equilátero: três lados iguais;\n",
    "Triângulo Isósceles: quaisquer dois lados iguais;\n",
    "Triângulo Escaleno: três lados diferentes;"
   ]
  },
  {
   "cell_type": "code",
   "execution_count": null,
   "id": "156229a7-9628-481f-8cdf-17f8620ad2f7",
   "metadata": {},
   "outputs": [],
   "source": [
    "A = int(input(\"Digite o Lado A de um triângulo: \"))\n",
    "B = int(input(\"Digite o Lado B de um triângulo: \"))\n",
    "C = int(input(\"Digite o Lado C de um triângulo: \"))\n",
    "\n",
    "if(A>B+C or B>A+C or C>A+B):\n",
    "    print(\"Os lados digitados não formam um triângulo.\")\n",
    "else:\n",
    "    if(A==B):\n",
    "        if(A==C):\n",
    "            print(\"Triângulo Equilátero\")\n",
    "        else:\n",
    "            print(\"Triângulo Isósceles\")\n",
    "    else:\n",
    "        if(A==C):\n",
    "            print(\"Triângulo Isósceles\")\n",
    "        else:\n",
    "            print(\"Triângulo Escaleno\")\n",
    "\n",
    "print()\n",
    "print(\"End\")"
   ]
  },
  {
   "cell_type": "markdown",
   "id": "59e474dc-2d13-4b38-b334-b4f6b84b9125",
   "metadata": {},
   "source": [
    "16)Faça um programa que calcule as raízes de uma equação do segundo grau, na forma ax²+ bx + c. O programa deverá pedir os valores de a, b e c e fazer as consistências, informando ao usuário nas seguintes situações:\n",
    "Se o usuário informar o valor de A igual a zero, a equação não é do segundo grau e o programa não deve pedir os demais valores, sendo encerrado;\n",
    "Se o delta calculado for negativo, a equação não possui raizes reais. Informe ao usuário e encerre o programa;\n",
    "Se o delta calculado for igual a zero a equação possui apenas uma raiz real; informe-a ao usuário;\n",
    "Se o delta for positivo, a equação possui duas raiz reais; informe-as ao usuário;"
   ]
  },
  {
   "cell_type": "code",
   "execution_count": null,
   "id": "3356e104-7b1c-4257-9d5d-dfd07f55fee1",
   "metadata": {},
   "outputs": [],
   "source": [
    "A = int(input(\"Digite o valor A da equação: \"))\n",
    "if(A==0):\n",
    "    print(\"A equação não é de segundo grau se A for igual a 0\")\n",
    "else:\n",
    "    Delta = 0\n",
    "    Raiz = 0\n",
    "    RaizA = 0\n",
    "    B = int(input(\"Digite o valor B da equação: \"))\n",
    "    C = int(input(\"Digite o valor C da equação: \"))\n",
    "    Delta = ((B**2) - (4*A*C))\n",
    "    print(\"Delta: {}\".format(Delta))\n",
    "    if(Delta==0):\n",
    "        print(\"A equação possui apenas uma raiz real\")\n",
    "        Raiz = (-B + Delta**(1/2))/(2*A)\n",
    "        print(\"A raiz real é {}.\".format(round(Raiz)))\n",
    "    elif(Delta>0):\n",
    "        print(\"A equação possui duas raizes reais\")\n",
    "        Raiz = (-B + Delta**(1/2))/(2*A)\n",
    "        RaizA = (-B + Delta**(1/2))/(2*A)\n",
    "        print(\"As raízes reais são {} e {}.\".format(round(Raiz),round(RaizA)))\n",
    "    else:\n",
    "        print(\"A equação não possui raízes reais porque o Delta é negativo\")\n",
    "        \n",
    "print(\"End\")"
   ]
  },
  {
   "cell_type": "markdown",
   "id": "5912c42c-1f13-4284-b2bc-e3da94bd3cd9",
   "metadata": {},
   "source": [
    "17)Faça um Programa que peça um número correspondente a um determinado ano e em seguida informe se este ano é ou não bissexto."
   ]
  },
  {
   "cell_type": "code",
   "execution_count": null,
   "id": "2a5ef626-7822-432d-b396-faf46e1af7f6",
   "metadata": {},
   "outputs": [],
   "source": [
    "ano = int(input(\"Digite um ano qualquer: \"))\n",
    "#multíplo de 4 e não multiplo por 100 ou multiplo de 400\n",
    "\n",
    "if(ano%4==0 and ano%100!=0 or ano%400==0):\n",
    "    print(\"{} é ano bissexto\".format(ano))\n",
    "else:\n",
    "    print(\"{} não é ano bissexto\".format(ano))\n",
    "print(\"end\")"
   ]
  },
  {
   "cell_type": "markdown",
   "id": "c095f84e-fa79-403a-8c79-a4230762a4d8",
   "metadata": {},
   "source": [
    "18)Faça um Programa que peça uma data no formato dd/mm/aaaa e determine se a mesma é uma data válida."
   ]
  },
  {
   "cell_type": "code",
   "execution_count": null,
   "id": "445b6767-a31c-4feb-b054-15db5b1c9feb",
   "metadata": {},
   "outputs": [],
   "source": [
    "dia = input(\"Digite uma data no formato: dd/mm/aaaa\")\n",
    "if(\"/\" in dia):\n",
    "    Data = [] \n",
    "    Data = (dia.split(sep=\"/\",maxsplit=4)) #método que separa a string com a barra, mas e se não tiver barra?\n",
    "\n",
    "    for i, elemento in enumerate(Data): #transforma string para int\n",
    "        Data[i] = int(elemento)\n",
    "\n",
    "    if(Data[2]%4==0 and Data[2]%100!=0  or Data[2]%400==0):#ano bissexto\n",
    "        if(Data[0]>29 and Data[1]==2):#fevereiro tem 29 dias\n",
    "            print(\"Data Incorreta\")\n",
    "        else:\n",
    "            if(Data[1]>12): #12 meses\n",
    "                print(\"Data incorreta\")\n",
    "            elif(Data[2]<0): #ano menor que 0\n",
    "                print(\"Data Incorreta\")\n",
    "            elif(Data[0]>30 and Data[1]==(4 or 6 or 9 or 11)):#MESES COM 30 DIAS\n",
    "                print(\"Data Incorreta\")\n",
    "            elif(Data[0]>31):#DIAS NORMAIS EM UM MÊS\n",
    "                print(\"Data Incorreta\")\n",
    "                \n",
    "            print(\"Data correta: {}/{}/{}\".format(Data[0],Data[1],Data[2]))\n",
    "    else:#NAO bissexto\n",
    "        if(Data[1]>12): #12 meses\n",
    "            print(\"Data incorreta\")\n",
    "        elif(Data[2]<0): #ano menor que 0\n",
    "            print(\"Data Incorreta\")\n",
    "        elif(Data[0]>28 and Data[1]==2):#fevereiro tem 28 dias normalmente\n",
    "            print(\"Data Incorreta\")\n",
    "        elif(Data[0]>30 and Data[1]==4,6,9,11):#MESES COM 30 DIAS\n",
    "            print(\"Data Incorreta\")\n",
    "        elif(Data[0]>31):#DIAS NORMAIS EM UM MÊS\n",
    "            print(\"Data Incorreta\")\n",
    "        else:\n",
    "            print(\"Data correta: {}/{}/{}\".format(Data[0],Data[1],Data[2]))\n",
    "        \n",
    "else:\n",
    "    print(\"Formato incorreto, digite a data com '/'\")\n",
    "\n",
    "print(\"end\")"
   ]
  },
  {
   "cell_type": "markdown",
   "id": "5db794d8-3b69-4dad-b25b-3644f879ffc2",
   "metadata": {},
   "source": [
    "19)Faça um Programa que leia um número inteiro menor que 1000 e imprima a quantidade de centenas, dezenas e unidades do mesmo.\r\n",
    "Observando os termos no plural a colocação do \"e\", da vírgula entre outros. Exemplo:\r\n",
    "326 = 3 centenas, 2 dezenas e 6 unidades\r\n",
    "12 = 1 dezena e 2 unidades Testar com: 326, 300, 100, 320, 310,305, 301, 101, 311, 111, 25, 20, 10, 21, 11, 1, 7 e 16"
   ]
  },
  {
   "cell_type": "code",
   "execution_count": null,
   "id": "9e71b7b0-123d-45d7-a218-7f46fea67041",
   "metadata": {},
   "outputs": [],
   "source": [
    "num = int(input(\"Digite um número entre 0 e 1000: \"))\n",
    "\n",
    "while(num >= 1000 or num <= 0):#verificacao se digitou certo\n",
    "    print(\"Número digitado incorreto\")\n",
    "    num = int(input(\"Digite novamente um número entre 0 e 1000\"))\n",
    "\n",
    "\n",
    "numS = str(num)#converte int pra str\n",
    "if(num<100):#adicionando o caracter nulo de centena\n",
    "    numS = \"0\" + numS\n",
    "    if(num<10):#adicionando o caracter nulo de dezena\n",
    "        numS = \"0\" + numS\n",
    "lista = list(numS)##separa cada caracter\n",
    "\n",
    "for i, elemento in enumerate(lista): #transforma string para int dentro da lista\n",
    "    lista[i] = int(elemento)\n",
    "\n",
    "if(lista[0]>0):\n",
    "    if(lista[0]<=1):# UMA centena\n",
    "        if(lista[1]<=1):# UMA dezena\n",
    "            if(lista[2]<=1):# UMA unidade\n",
    "                print(f\"{num} = {lista[0]} centena, {lista[1]} dezena e {lista[2]} unidade.\")\n",
    "            else:\n",
    "                print(f\"{num} = {lista[0]} centena, {lista[1]} dezena e {lista[2]} unidades.\")\n",
    "        else:#mais de uma dezena\n",
    "            if(lista[2]<=1):# UMA unidade\n",
    "                print(f\"{num} = {lista[0]} centena, {lista[1]} dezenas e {lista[2]} unidade.\")\n",
    "            else:\n",
    "                print(f\"{num} = {lista[0]} centena, {lista[1]} dezenas e {lista[2]} unidades.\")\n",
    "    else:\n",
    "        if(lista[1]<=1):# UMA dezena\n",
    "            if(lista[2]<=1):# UMA unidade\n",
    "                print(f\"{num} = {lista[0]} centenas, {lista[1]} dezena e {lista[2]} unidade.\")\n",
    "            else:\n",
    "                print(f\"{num} = {lista[0]} centenas, {lista[1]} dezena e {lista[2]} unidades.\")\n",
    "        else:#mais de uma dezena\n",
    "            if(lista[2]<=1):# UMA unidade\n",
    "                print(f\"{num} = {lista[0]} centenas, {lista[1]} dezenas e {lista[2]} unidade.\")\n",
    "            else:\n",
    "                print(f\"{num} = {lista[0]} centenas, {lista[1]} dezenas e {lista[2]} unidades.\")\n",
    "else:\n",
    "    if(lista[1]<=1):# UMA dezena\n",
    "        if(lista[2]<=1):# UMA unidade\n",
    "            print(f\"{num} = {lista[0]} centena, {lista[1]} dezena e {lista[2]} unidade.\")\n",
    "        else:\n",
    "            print(f\"{num} = {lista[0]} centena, {lista[1]} dezena e {lista[2]} unidades.\")\n",
    "    else:#mais de uma dezena\n",
    "        if(lista[2]<=1):# UMA unidade\n",
    "            print(f\"{num} = {lista[0]} centena, {lista[1]} dezenas e {lista[2]} unidade.\")\n",
    "        else:\n",
    "            print(f\"{num} = {lista[0]} centena, {lista[1]} dezenas e {lista[2]} unidades.\")\n",
    "print(\"End\")"
   ]
  },
  {
   "cell_type": "markdown",
   "id": "0e7f8f45-a827-4565-bea8-b9cb03465ea4",
   "metadata": {},
   "source": [
    "20)Faça um Programa para leitura de três notas parciais de um aluno. O programa deve calcular a média alcançada por aluno e presentar:\r\n",
    "A mensagem \"Aprovado\", se a média for maior ou igual a 7, com a respectiva média alcançada;\r\n",
    "A mensagem \"Reprovado\", se a média for menor do que 7, com a respectiva média alcançada;\r\n",
    "A mensagem \"Aprovado com Distinção\", se a média for igual a 10."
   ]
  },
  {
   "cell_type": "code",
   "execution_count": null,
   "id": "3c5f002b-f552-4be1-83dc-c07d7e64c626",
   "metadata": {},
   "outputs": [],
   "source": [
    "n1 = float(input(\"Digite a primeira nota parcial: \"))\n",
    "n2 = float(input(\"Digite a segunda nota parcial: \"))\n",
    "n3 = float(input(\"Digite a terceira nota parcial: \"))\n",
    "media = (n1+n2+n3)/3\n",
    "\n",
    "if(media==10):\n",
    "    print(\"Aprovado com Distinção. Média: {}\".format(round(media,2)))\n",
    "else:\n",
    "    if(media>=7):\n",
    "        print(\"Aprovado. Média: {}\".format(round(media,2)))\n",
    "    else:\n",
    "        print(\"Reprovado. Média: {}\".format(round(media,2)))"
   ]
  },
  {
   "cell_type": "markdown",
   "id": "c15a5750-636c-4c0b-a83b-2ed3f7757387",
   "metadata": {},
   "source": [
    "21)Faça um Programa para um caixa eletrônico. O programa deverá perguntar ao usuário a valor do saque e depois informar quantas notas de cada valor serão fornecidas. As notas disponíveis serão as de 1, 5, 10, 50 e 100 reais. O valor mínimo é de 10 reais e o máximo de 600 reais. O programa não deve se preocupar com a quantidade de notas existentes na máquina.\r\n",
    "Exemplo 1: Para sacar a quantia de 256 reais, o programa fornece duas notas de 100, uma nota de 50, uma nota de 5 e uma nota de 1;\r\n",
    "Exemplo 2: Para sacar a quantia de 399 reais, o programa fornece três notas de 100, uma nota de 50, quatro notas de 10, uma nota de 5 e quatro notas de 1."
   ]
  },
  {
   "cell_type": "code",
   "execution_count": null,
   "id": "0be5b31a-bec5-448e-8138-02ff1d346efb",
   "metadata": {},
   "outputs": [],
   "source": [
    "saque = int(input(\"Digite o valor do saque em reais: R$\"))\n",
    "N100 = 0\n",
    "N50 = 0\n",
    "N10 = 0\n",
    "N5= 0\n",
    "N1= 0\n",
    "while(saque<10 or saque>600):#bloqueia os valores especificos\n",
    "    saque = int(input(\"Valor bloqueado, digite o valor do saque novamente: R$\"))\n",
    "    \n",
    "s = saque\n",
    "while(saque>=100):\n",
    "    saque -= 100\n",
    "    N100  += 1\n",
    "while(saque>=50):\n",
    "    saque -= 50\n",
    "    N50   += 1\n",
    "while(saque>=10):\n",
    "    saque -= 10\n",
    "    N10   += 1\n",
    "while(saque>=5):\n",
    "    saque -= 5\n",
    "    N5   += 1\n",
    "while(saque>=1):\n",
    "    saque -= 1\n",
    "    N1   += 1\n",
    "\n",
    "if(N100>0):\n",
    "    if(N50>0):\n",
    "        if(N10>0):\n",
    "            if(N5>0):\n",
    "                if(N1>0):\n",
    "                    print(f\"Valor do saque: R${s}. Notas Recebidas: {N100} de R$100.00, {N50} de R$50.00, {N10} de R$10.00, {N5} de R$5.00 e {N1} de R$1.00.\")\n",
    "                else:\n",
    "                    print(f\"Valor do saque: R${s}. Notas Recebidas: {N100} de R$100.00, {N50} de R$50.00, {N10} de R$10.00 e {N5} de R$5.00.\")\n",
    "            else:\n",
    "                if(N1>0):\n",
    "                    print(f\"Valor do saque: R${s}. Notas Recebidas: {N100} de R$100.00, {N50} de R$50.00, {N10} de R$10.00 e {N1} de R$1.00.\")\n",
    "                else:\n",
    "                    print(f\"Valor do saque: R${s}. Notas Recebidas: {N100} de R$100.00, {N50} de R$50.00 e {N10} de R$10.00.\")\n",
    "        else:\n",
    "            if(N5>0):\n",
    "                if(N1>0):\n",
    "                    print(f\"Valor do saque: R${s}. Notas Recebidas: {N100} de R$100.00, {N50} de R$50.00, {N5} de R$5.00 e {N1} de R$1.00.\")\n",
    "                else:\n",
    "                    print(f\"Valor do saque: R${s}. Notas Recebidas: {N100} de R$100.00, {N50} de R$50.00 e {N5} de R$5.00.\")\n",
    "            else:\n",
    "                if(N1>0):\n",
    "                    print(f\"Valor do saque: R${s}. Notas Recebidas: {N100} de R$100.00, {N50} de R$50.00 e {N1} de R$1.00.\")\n",
    "                else:\n",
    "                    print(f\"Valor do saque: R${s}. Notas Recebidas: {N100} de R$100.00 e {N50} de R$50.00.\")\n",
    "    else:\n",
    "        if(N10>0):\n",
    "            if(N5>0):\n",
    "                if(N1>0):\n",
    "                    print(f\"Valor do saque: R${s}. Notas Recebidas: {N100} de R$100.00, {N10} de R$10.00, {N5} de R$5.00 e {N1} de R$1.00.\")\n",
    "                else:\n",
    "                    print(f\"Valor do saque: R${s}. Notas Recebidas: {N100} de R$100.00, {N10} de R$10.00 e {N5} de R$5.00.\")\n",
    "            else:\n",
    "                if(N1>0):\n",
    "                    print(f\"Valor do saque: R${s}. Notas Recebidas: {N100} de R$100.00, {N10} de R$10.00 e {N1} de R$1.00.\")\n",
    "                else:\n",
    "                    print(f\"Valor do saque: R${s}. Notas Recebidas: {N100} de R$100.00 e {N10} de R$10.00.\")\n",
    "        else:\n",
    "            if(N5>0):\n",
    "                if(N1>0):\n",
    "                    print(f\"Valor do saque: R${s}. Notas Recebidas: {N100} de R$100.00, {N5} de R$5.00 e {N1} de R$1.00.\")\n",
    "                else:\n",
    "                    print(f\"Valor do saque: R${s}. Notas Recebidas: {N100} de R$100.00 e {N5} de R$5.00.\")\n",
    "            else:\n",
    "                if(N1>0):\n",
    "                    print(f\"Valor do saque: R${s}. Notas Recebidas: {N100} de R$100.00 e {N1} de R$1.00.\")\n",
    "                else:\n",
    "                    print(f\"Valor do saque: R${s}. Notas Recebidas: {N100} de R$100.00.\")\n",
    "else:\n",
    "    if(N50>0):\n",
    "        if(N10>0):\n",
    "            if(N5>0):\n",
    "                if(N1>0):\n",
    "                    print(f\"Valor do saque: R${s}. Notas Recebidas: {N50} de R$50.00, {N10} de R$10.00, {N5} de R$5.00 e {N1} de R$1.00.\")\n",
    "                else:\n",
    "                    print(f\"Valor do saque: R${s}. Notas Recebidas: {N50} de R$50.00, {N10} de R$10.00 e {N5} de R$5.00.\")\n",
    "            else:\n",
    "                if(N1>0):\n",
    "                    print(f\"Valor do saque: R${s}. Notas Recebidas: {N50} de R$50.00, {N10} de R$10.00 e {N1} de R$1.00.\")\n",
    "                else:\n",
    "                    print(f\"Valor do saque: R${s}. Notas Recebidas: {N50} de R$50.00 e {N10} de R$10.00.\")\n",
    "        else:\n",
    "            if(N5>0):\n",
    "                if(N1>0):\n",
    "                    print(f\"Valor do saque: R${s}. Notas Recebidas: {N50} de R$50.00, {N5} de R$5.00 e {N1} de R$1.00.\")\n",
    "                else:\n",
    "                    print(f\"Valor do saque: R${s}. Notas Recebidas: {N50} de R$50.00 e {N5} de R$5.00.\")\n",
    "            else:\n",
    "                if(N1>0):\n",
    "                    print(f\"Valor do saque: R${s}. Notas Recebidas: {N50} de R$50.00 e {N1} de R$1.00.\")\n",
    "                else:\n",
    "                    print(f\"Valor do saque: R${s}. Notas Recebidas: {N50} de R$50.00.\")\n",
    "    else:\n",
    "        if(N10>0):\n",
    "            if(N5>0):\n",
    "                if(N1>0):\n",
    "                    print(f\"Valor do saque: R${s}. Notas Recebidas: {N10} de R$10.00, {N5} de R$5.00 e {N1} de R$1.00.\")\n",
    "                else:\n",
    "                    print(f\"Valor do saque: R${s}. Notas Recebidas: {N10} de R$10.00 e {N5} de R$5.00.\")\n",
    "            else:\n",
    "                if(N1>0):\n",
    "                    print(f\"Valor do saque: R${s}. Notas Recebidas: {N10} de R$10.00 e {N1} de R$1.00.\")\n",
    "                else:\n",
    "                    print(f\"Valor do saque: R${s}. Notas Recebidas: {N10} de R$10.00.\")\n",
    "        else:\n",
    "            if(N5>0):\n",
    "                if(N1>0):\n",
    "                    print(f\"Valor do saque: R${s}. Notas Recebidas: {N5} de R$5.00 e {N1} de R$1.00.\")\n",
    "                else:\n",
    "                    print(f\"Valor do saque: R${s}. Notas Recebidas: {N5} de R$5.00.\")\n",
    "            else:\n",
    "                if(N1>0):\n",
    "                    print(f\"Valor do saque: R${s}. Notas Recebidas: {N1} de R$1.00.\")\n",
    "\n",
    "print(\"end\")"
   ]
  },
  {
   "cell_type": "markdown",
   "id": "76e19c48-4c41-475a-9e53-75277fde3278",
   "metadata": {},
   "source": [
    "22)Faça um Programa que peça um número inteiro e determine se ele é par ou impar. Dica: utilize o operador módulo (resto da divisão)."
   ]
  },
  {
   "cell_type": "code",
   "execution_count": null,
   "id": "4cd0bbc8-4599-4080-b646-1962831d5f63",
   "metadata": {},
   "outputs": [],
   "source": [
    "num = int(input(\"Digite um número inteiro: \"))\n",
    "\n",
    "if(num%2==0):\n",
    "    print(\"{} é par\".format(num))\n",
    "else:\n",
    "    print(\"{} é ímpar\".format(num))"
   ]
  },
  {
   "cell_type": "markdown",
   "id": "36c2b885-e703-4988-840c-d5f4664a86a9",
   "metadata": {},
   "source": [
    "23)Faça um programa que peça um número e informe se o número é inteiro ou decimal. Dica: utilize uma função de arredondamento."
   ]
  },
  {
   "cell_type": "code",
   "execution_count": null,
   "id": "72e2b57e-72b5-4b64-a36d-53d2bdd303f7",
   "metadata": {},
   "outputs": [],
   "source": [
    "num = float(input(\"Digite um número qualquer: \"))\n",
    "\n",
    "if(num.is_integer()):\n",
    "    print(\"{} é um número inteiro.\".format(int(num)))\n",
    "else:\n",
    "    print(\"{} é um número decimal.\".format(num))"
   ]
  },
  {
   "cell_type": "markdown",
   "id": "b70cf5f8-f719-4325-8af5-43e4f3bd3e1c",
   "metadata": {},
   "source": [
    "24)Faça um Programa que leia 2 números e em seguida pergunte ao usuário qual operação ele deseja realizar. O resultado da operação deve ser acompanhado de uma frase que diga se o número é:\r\n",
    "par ou ímpar;\r\n",
    "positivo ou negativo;\r\n",
    "inteiro ou decimal."
   ]
  },
  {
   "cell_type": "code",
   "execution_count": null,
   "id": "9abc4502-486b-45d6-b678-952db87bf467",
   "metadata": {},
   "outputs": [],
   "source": [
    "A = int(input(\"Digite um número: \"))\n",
    "B = int(input(\"Digite outro número: \"))\n",
    "print(\"{} e {}\".format(A,B))\n",
    "\n",
    "OP = input(\"Digite a operação que deseja realizar( + ou - ou X ou / ): \")\n",
    "\n",
    "while(OP != \"+\" and OP != \"-\" and OP.upper()!=\"X\" and OP != \"/\"):#verifica se operacao e valida\n",
    "    print(\"Operação inválida!\")\n",
    "    OP = input(\"Digite a operação que deseja realizar( + ou - ou X ou / ): \")\n",
    "    \n",
    "result = 0\n",
    "if(OP == \"+\"): #faz a operacao\n",
    "    result = A + B\n",
    "    print(\"Operação: {} + {} = {}\".format(A,B,result))\n",
    "elif(OP == \"-\"):\n",
    "    result = A - B\n",
    "    print(\"Operação: {} - {} = {}\".format(A,B,result))\n",
    "elif(OP.upper() == \"X\"):\n",
    "    result = A*B\n",
    "    print(\"Operação: {} x {} = {}\".format(A,B,result))\n",
    "else:\n",
    "    result = A/B\n",
    "    print(\"Operação: {} / {} = {}\".format(A,B,result))\n",
    "    \n",
    "if(result.is_integer()):\n",
    "    if(result%2==0):\n",
    "        if(result>0):\n",
    "            print(\"{} é Inteiro,Par e Positivo.\".format(result))\n",
    "        else:\n",
    "            print(\"{} é Inteiro,Par e Negativo.\".format(result))\n",
    "    else:\n",
    "        if(result>0):\n",
    "            print(\"{} é Inteiro,Impar e Positivo.\".format(result))\n",
    "        else:\n",
    "            print(\"{} é Inteiro,Impar e Negativo.\".format(result))\n",
    "else:\n",
    "    if(result%2==0):\n",
    "        if(result>0):\n",
    "            print(\"{} é Decimal,Par e Positivo.\".format(result))\n",
    "        else:\n",
    "            print(\"{} é Decimal,Par e Negativo.\".format(result))\n",
    "    else:\n",
    "        if(result>0):\n",
    "            print(\"{} é Decimal,Impar e Positivo.\".format(result))\n",
    "        else:\n",
    "            print(\"{} é Decimal,Impar e Negativo.\".format(result))\n",
    "print()\n",
    "print(\"End\")"
   ]
  },
  {
   "cell_type": "markdown",
   "id": "98e67deb-bc3c-4ef8-9ecd-c84066085e4a",
   "metadata": {},
   "source": [
    "25)Faça um programa que faça 5 perguntas para uma pessoa sobre um crime. As perguntas são:\r\n",
    "\"Telefonou para a vítima?\"\r\n",
    "\"Esteve no local do crime?\"\r\n",
    "\"Mora perto da vítima?\"\r\n",
    "\"Devia para a vítima?\"\r\n",
    "\"Já trabalhou com a víti\n",
    "ma?\" O programa deve no final emitir uma classificação sobre a participação da pessoa no crime. Se a pessoa responder positivamente a 2 questões ela deve ser classificada como \"Suspeita\", entre 3 e 4 como \"Cúmplice\" e 5 como \"Assassino\". Caso contrário, ele será classificado como \"Inocente\"."
   ]
  },
  {
   "cell_type": "code",
   "execution_count": null,
   "id": "d56be317-2be2-4bc4-930b-c2f0f86f7c0a",
   "metadata": {},
   "outputs": [],
   "source": [
    "print(\"Iniciando interrogação...responda apenas com S para SIM e N para NÃO\")\n",
    "S = 0\n",
    "Rpt =  input(\"Você telefonou para a vítima? \")\n",
    "Rpt += input(\"Você esteve no local do crime? \")\n",
    "Rpt += input(\"Você mora perto daa vítima? \")\n",
    "Rpt += input(\"Você devia algo para a vítima? \")\n",
    "Rpt += input(\"Você já trabalhou com a vítima? \")\n",
    "\n",
    "lista = list(Rpt.upper())\n",
    "\n",
    "for i,resposta in enumerate(lista):#conto as resposta Sim na lista\n",
    "    if(lista[i] == \"S\"):\n",
    "        S+=1\n",
    "\n",
    "if(S==2):\n",
    "    print(\"Você é Suspeita\")\n",
    "else:\n",
    "    if(S==3 or S==4):\n",
    "        print(\"Você é Cúmplice\")\n",
    "    elif(S==5):\n",
    "        print(\"Você é o Assassino\")\n",
    "    else:\n",
    "        print(\"Você é inocente\")\n",
    "\n",
    "print(\"end\")"
   ]
  },
  {
   "cell_type": "markdown",
   "id": "974ad794-c245-4f80-bb29-56dd8006a6b5",
   "metadata": {},
   "source": [
    "26)Um posto está vendendo combustíveis com a seguinte tabela de descontos:\n",
    "Álcool:\n",
    "até 20 litros, desconto de 3% por litro\n",
    "acima de 20 litros, desconto de 5% por litro\n",
    "Gasolina:\n",
    "até 20 litros, desconto de 4% por litro\n",
    "acima de 20 litros, desconto de 6% por litro \n",
    "Escreva um algoritmo que leia o número de litros vendidos, o tipo de combustível (codificado da seguinte forma: A-álcool, G-gasolina), calcule e imprima o valor a ser pago pelo cliente sabendo-se que o preço do litro da gasolina é R$ 2,50 e o preço do litro do álcool é R$ 1,90."
   ]
  },
  {
   "cell_type": "code",
   "execution_count": null,
   "id": "3a5cc8e0-d194-4260-9b84-4c0317b6c1eb",
   "metadata": {},
   "outputs": [],
   "source": [
    "gas = float(input(\"Digite a quantidade de combustível abastecido em Litros: \"))\n",
    "tipo = input(\"Qual o combustível abastecido? (G ou A)\")\n",
    "\n",
    "while(tipo.upper() != \"A\" and tipo.upper() != \"G\"):\n",
    "    print(\"Comando errado, digite novamente\")\n",
    "    tipo = input(\"Qual o combustível abastecido? (G ou A)\")\n",
    "\n",
    "if(tipo == \"A\"):\n",
    "    if(gas<=20):\n",
    "        print(f\"{gas} litros abastecidos. Valor a ser pago: R${round(((gas*1.90)-((gas/100)*3)),2)}\")\n",
    "    else:\n",
    "         print(f\"{gas} litros abastecidos. Valor a ser pago: R${round(((gas*1.90)-((gas/100)*5)),2)}\")\n",
    "else:\n",
    "    if(gas<=20):\n",
    "        print(f\"{gas} litros abastecidos. Valor a ser pago: R${round(((gas*1.90)-((gas/100)*4)),2)}\")\n",
    "    else:\n",
    "         print(f\"{gas} litros abastecidos. Valor a ser pago: R${round(((gas*1.90)-((gas/100)*6)),2)}\")\n",
    "\n",
    "print(\"end\")"
   ]
  },
  {
   "cell_type": "markdown",
   "id": "6da4cf17-d673-4e62-9355-fcf4c759d7c1",
   "metadata": {},
   "source": [
    "27)Uma fruteira está vendendo frutas com a seguinte tabela de preços:\r\n",
    "                    Até 5 Kg            Acima de 5 Kg\r\n",
    "Morango         R$ 2,50 por Kg          R$ 2,20 por Kg\r\n",
    "Maçã            R$ 1,80 por Kg          R$ 1,50 por Kg\r\n",
    "Se o cliente comprar mais de 8 Kg em frutas ou o valor total da compra ultrapassar R$ 25,00, receberá ainda um desconto de 10% sobre este total. Escreva um algoritmo para ler a quantidade (em Kg) de morangos e a quantidade (em Kg) de maças adquiridas e escreva o valor a ser pago pelo cliente."
   ]
  },
  {
   "cell_type": "code",
   "execution_count": null,
   "id": "6b784d9c-ad52-438b-a053-7c677d7fe358",
   "metadata": {},
   "outputs": [],
   "source": [
    "morango = int(input(\"Digite a quantidade em Kgs de morangos comprados: \"))\n",
    "maca = int(input(\"Digite a quantidade em Kgs de maças comprados: \"))\n",
    "preco = 0\n",
    "\n",
    "if(morango<=5):\n",
    "    preco += morango*2.5\n",
    "elif(morango>5):\n",
    "    preco += morango*2.2\n",
    "\n",
    "if(maca<=5):\n",
    "    preco += maca*1.8\n",
    "elif(maca>5):\n",
    "    preco += maca*1.5\n",
    "\n",
    "if(morango+maca>8 or preco>25):\n",
    "    print(\"Valor promocional a ser pago: R${}\".format(round((preco - ((preco/100)*10)),2)))\n",
    "else:\n",
    "    print(\"Valor a ser pago: R${}\".format(preco))\n",
    "\n",
    "print(\"end\")"
   ]
  },
  {
   "cell_type": "markdown",
   "id": "34befcff-b9a8-4c4e-ada2-7440fcf5dc59",
   "metadata": {},
   "source": [
    "28)O Hipermercado Tabajara está com uma promoção de carnes que é imperdível. Confira:\n",
    "\n",
    "                      Até 5 Kg           Acima de 5 Kg\n",
    "File Duplo      R$ 4,90 por Kg          R$ 5,80 por Kg\n",
    "Alcatra         R$ 5,90 por Kg          R$ 6,80 por Kg\n",
    "Picanha         R$ 6,90 por Kg          R$ 7,80 por Kg\n",
    "\n",
    "Para atender a todos os clientes, cada cliente poderá levar apenas um dos tipos de carne da promoção, porém não há limites para a quantidade de carne por cliente. Se compra for feita no cartão Tabajara o cliente receberá ainda um desconto de 5% sobre o total da compra. \n",
    "Escreva um programa que peça o tipo e a quantidade de carne comprada pelo usuário e gere um cupom fiscal, contendo as informações da compra: tipo e quantidade de carne, preço total, tipo de pagamento, valor do desconto e valor a pagar."
   ]
  },
  {
   "cell_type": "code",
   "execution_count": null,
   "id": "baed5739-2c90-45bd-b83e-433b7dbbfe1e",
   "metadata": {},
   "outputs": [],
   "source": [
    "tipo = input(\"Digite o tipo de carne comprada (FD - Filé Duplo ou A - Alcatra ou P - Picanha: \")\n",
    "while(tipo.upper() != \"FD\" and tipo.upper() != \"A\" and tipo.upper() != \"P\"):\n",
    "    print(\"Tipo de carne inválida, digite novamente\")\n",
    "    print()\n",
    "    tipo = input(\"Digite o tipo de carne comprada (FD - Filé Duplo ou A - Alcatra ou P - Picanha: \")\n",
    "    \n",
    "qtd = int(input(\"Digite a quantidade em Kgs de carne comprada: \"))\n",
    "preco = 0\n",
    "\n",
    "if(tipo == \"FD\"):\n",
    "    if(qtd<=5):\n",
    "        preco = qtd*4.9\n",
    "    else:\n",
    "        preco = qtd*5.8\n",
    "    print(f\"Carne Comprada: Filé Duplo. Quantidade: {qtd}Kg. Preço Total: R${preco}. Valor com desconto Tabajara: R${preco - (preco/100)*5}\")\n",
    "elif(tipo == \"A\"):\n",
    "    if(qtd<=5):\n",
    "        preco = qtd*5.9\n",
    "    else:\n",
    "        preco = qtd*6.8\n",
    "    print(f\"Carne Comprada: Alcatra. Quantidade: {qtd}Kg. Preço Total: R${preco}. Valor com desconto Tabajara: R${preco - (preco/100)*5}\")\n",
    "elif(tipo == \"P\"):\n",
    "    if(qtd<=5):\n",
    "        preco = qtd*6.9\n",
    "    else:\n",
    "        preco = qtd*7.8\n",
    "    print(f\"Carne Comprada: Picanha. Quantidade: {qtd}Kg. Preço Total: R${preco}. Valor com desconto Tabajara: R${preco - (preco/100)*5}\")\n",
    "\n",
    "print(\"end\")"
   ]
  },
  {
   "cell_type": "markdown",
   "id": "34bdc72b-3876-4f25-bb07-26096eb067fd",
   "metadata": {},
   "source": [
    "--------------------------------------------------------Lista 3 - Estrutura de Repetição-------------------------------------------------------------\n",
    "-----------------------------------------------------------------------------------------------------------------------------------------------------"
   ]
  }
 ],
 "metadata": {
  "kernelspec": {
   "display_name": "Python 3 (ipykernel)",
   "language": "python",
   "name": "python3"
  },
  "language_info": {
   "codemirror_mode": {
    "name": "ipython",
    "version": 3
   },
   "file_extension": ".py",
   "mimetype": "text/x-python",
   "name": "python",
   "nbconvert_exporter": "python",
   "pygments_lexer": "ipython3",
   "version": "3.12.4"
  }
 },
 "nbformat": 4,
 "nbformat_minor": 5
}
