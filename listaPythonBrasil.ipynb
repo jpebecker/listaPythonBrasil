{
 "cells": [
  {
   "cell_type": "markdown",
   "id": "12f60c42-3ac1-4595-8921-acbcedc0c782",
   "metadata": {},
   "source": [
    "Lista PythonBrasil Completa - Resolvida por João Pedro Becker Schneider\n",
    "PythonBrasil exercises solved by João Pedro Becker Schneider"
   ]
  },
  {
   "cell_type": "markdown",
   "id": "b3d99e50-1183-4628-9b04-d2be4a04e71d",
   "metadata": {},
   "source": [
    "--------------------------------------------------------Lista 1 - Estrutura Sequencial------------------------------------------------------------------\n",
    "--------------------------------------------------------------------------------------------------------------------------------------------------------\n",
    "\n",
    "1)Faça um Programa que mostre a mensagem \"Alo mundo\" na tela."
   ]
  },
  {
   "cell_type": "code",
   "execution_count": null,
   "id": "aeb798ff-82e9-4047-bd11-08b16754a528",
   "metadata": {},
   "outputs": [],
   "source": [
    "print(\"Alo mundo\")"
   ]
  },
  {
   "cell_type": "markdown",
   "id": "50958204-734d-4cd9-a7eb-630c81d60f47",
   "metadata": {},
   "source": [
    "2)Faça um Programa que peça um número e então mostre a mensagem O número informado foi [número]."
   ]
  },
  {
   "cell_type": "code",
   "execution_count": null,
   "id": "a56eb692-a087-464a-9111-8d8bc2ec95b5",
   "metadata": {},
   "outputs": [],
   "source": [
    "num = int(input(\"digite um número: \"))\n",
    "print(\"O número informado foi [{}].\".format(num))"
   ]
  },
  {
   "cell_type": "markdown",
   "id": "de0e07fb-3d0a-4dec-bdd0-cfda88c62ee2",
   "metadata": {},
   "source": [
    "3)Faça um Programa que peça dois números e imprima a soma."
   ]
  },
  {
   "cell_type": "code",
   "execution_count": null,
   "id": "28eb4f83-0c2b-431d-bd54-262225980045",
   "metadata": {},
   "outputs": [],
   "source": [
    "X = int(input(\"Digite um número: \"))\n",
    "Y = int(input(\"Digite outro número: \"))\n",
    "\n",
    "print(\"A soma dos números vale: {}\".format(X+Y))\n"
   ]
  },
  {
   "cell_type": "markdown",
   "id": "1f727db6-ab3f-4b1a-83ca-adc4cf902588",
   "metadata": {},
   "source": [
    "4)Faça um Programa que peça as 4 notas bimestrais e mostre a média."
   ]
  },
  {
   "cell_type": "code",
   "execution_count": null,
   "id": "cf0ae7a2-8d5d-49ad-ae04-60a886ce4146",
   "metadata": {},
   "outputs": [],
   "source": [
    "nota1 = float(input(\"Digite a primeira nota: \"))\n",
    "nota2 = float(input(\"Digite a segunda nota: \"))\n",
    "nota3 = float(input(\"Digite a terceira nota: \"))\n",
    "nota4 = float(input(\"Digite a última nota: \"))\n",
    "\n",
    "print(\"A média das notas é {}\".format((nota1+nota2+nota3+nota4)/4))"
   ]
  },
  {
   "cell_type": "markdown",
   "id": "1532f158-9e18-4df7-ac0b-62fadb43431b",
   "metadata": {},
   "source": [
    "5)Faça um Programa que converta metros para centímetros."
   ]
  },
  {
   "cell_type": "code",
   "execution_count": null,
   "id": "ad65e9ab-f8ea-46af-b6eb-583086a82dd3",
   "metadata": {},
   "outputs": [],
   "source": [
    "m = int(input(\"Digite uma distância em metros: \"))\n",
    "\n",
    "print(\"A distância {}m corresponde a {}cm \".format(m,m*100))\n"
   ]
  },
  {
   "cell_type": "markdown",
   "id": "bef2ea65-000f-4704-9160-f2bbeee890a8",
   "metadata": {},
   "source": [
    "6)Faça um Programa que peça o raio de um círculo, calcule e mostre sua área."
   ]
  },
  {
   "cell_type": "code",
   "execution_count": null,
   "id": "1c778103-6d6d-4536-8983-091ce32495e7",
   "metadata": {},
   "outputs": [],
   "source": [
    "import math\n",
    "R = int(input(\"Digite o valor em cm do raio de um círculo: \"))\n",
    "area = math.pi*(R**2)\n",
    "\n",
    "print(\"A área do circulo equivale à {}cm²\".format(round((area),2)))"
   ]
  },
  {
   "cell_type": "markdown",
   "id": "a56e322a-294f-4dbc-be1f-d57370144716",
   "metadata": {},
   "source": [
    "7)Faça um Programa que calcule a área de um quadrado, em seguida mostre o dobro desta área para o usuário."
   ]
  },
  {
   "cell_type": "code",
   "execution_count": null,
   "id": "d25e2ad1-7527-42f9-a1d0-3eb201f2db0d",
   "metadata": {},
   "outputs": [],
   "source": [
    "L = int(input(\"Digite o valor em cm de um dos lados de um quadrado: \"))\n",
    "area = L**2\n",
    "\n",
    "print(\"O dobro do valor da área calculada equivale à {}cm²\".format(area*2))"
   ]
  },
  {
   "cell_type": "markdown",
   "id": "0a9c879a-b825-4b46-b01e-698ad4a9155a",
   "metadata": {},
   "source": [
    "8)Faça um Programa que pergunte quanto você ganha por hora e o número de horas trabalhadas no mês. Calcule e mostre o total do seu salário no referido mês."
   ]
  },
  {
   "cell_type": "markdown",
   "id": "22206d8b-1e06-4d82-970e-1a69573c348c",
   "metadata": {},
   "source": [
    "GanHora = int(input(\"Digite o valor remunerado por hora trabalhada em reais: \"))\n",
    "Horas = int(input(\"Digite a quantidade de horas trabalhadas no mês: \"))\n",
    "\n",
    "print(\"O valor do seu salário bruto é R${}.\".format(GanHora*Horas))\n"
   ]
  },
  {
   "cell_type": "markdown",
   "id": "48bccd63-56ee-4534-bb60-66c7afd88550",
   "metadata": {},
   "source": [
    "9)Faça um Programa que peça a temperatura em graus Fahrenheit, transforme e mostre a temperatura em graus Celsius.\n",
    "C = 5 * ((F-32) / 9)."
   ]
  },
  {
   "cell_type": "code",
   "execution_count": null,
   "id": "8a02c545-834d-4ab0-8e88-1a6a1ce7ccf2",
   "metadata": {},
   "outputs": [],
   "source": [
    "F = float(input(\"Digite uma temperatura em ºF: \"))\n",
    "\n",
    "print(\"A temperatura convertida em Celsius equivale à {}ºC\".format(round((5*((F-32)/9)),2)))"
   ]
  },
  {
   "cell_type": "markdown",
   "id": "9be58a9a-d896-4c52-89bc-1a852aacaf63",
   "metadata": {},
   "source": [
    "10)Faça um Programa que peça a temperatura em graus Celsius, transforme e mostre em graus Fahrenheit."
   ]
  },
  {
   "cell_type": "code",
   "execution_count": null,
   "id": "e05cc581-fd71-4e8e-a856-4243c4e8d60f",
   "metadata": {},
   "outputs": [],
   "source": [
    "C = float(input(\"Digite uma temperatura em ºC: \"))\n",
    "\n",
    "print(\"A temperatura convertida em Celsius equivale à ºF {}.\".format((C*(9/5))+32))"
   ]
  },
  {
   "cell_type": "markdown",
   "id": "88e70e3e-0a4e-40fb-a654-623d9227a5bb",
   "metadata": {},
   "source": [
    "11)Faça um Programa que peça 2 números inteiros e um número real. Calcule e mostre:\r\n",
    "o produto do dobro do primeiro com metade do segundo .\r\n",
    "a soma do triplo do primeiro com o terceiro.\r\n",
    "o terceiro elevado ao cubo."
   ]
  },
  {
   "cell_type": "code",
   "execution_count": null,
   "id": "f2da9711-af67-4383-9aae-c60f1e6fb7a6",
   "metadata": {},
   "outputs": [],
   "source": [
    "A = int(input(\"Digite um número inteiro: \"))\n",
    "B = int(input(\"Digite outro número inteiro: \"))\n",
    "R = float(input(\"Digite um número real: \"))\n",
    "\n",
    "print(int(2*A + B/2))\n",
    "print()\n",
    "print(float(A*3 + R))\n",
    "print()\n",
    "print(round((R**3),2))\n",
    "print(\"end\")\n"
   ]
  },
  {
   "cell_type": "markdown",
   "id": "e1d355f8-562b-411a-9d53-0a325e64f703",
   "metadata": {},
   "source": [
    "12)Tendo como dados de entrada a altura de uma pessoa, construa um algoritmo que calcule seu peso ideal, usando a seguinte fórmula: (72.7*altura) - 58"
   ]
  },
  {
   "cell_type": "code",
   "execution_count": null,
   "id": "5b57b509-d6ce-4a79-aafd-b46f4ceb41de",
   "metadata": {},
   "outputs": [],
   "source": [
    "altura = int(input(\"Digite sua altura em cm: \"))\n",
    "\n",
    "print(\"Seu peso ideal é {}KG\".format((72.7*(altura/100))-58))"
   ]
  },
  {
   "cell_type": "markdown",
   "id": "562c516e-7b75-4ac8-8ec1-8e6de0fd6a5f",
   "metadata": {},
   "source": [
    "13)Tendo como dado de entrada a altura (h) de uma pessoa, construa um algoritmo que calcule seu peso ideal, utilizando as seguintes fórmulas:\n",
    "Para homens: (72.7*h) - 58\n",
    "Para mulheres: (62.1*h) - 44.7"
   ]
  },
  {
   "cell_type": "code",
   "execution_count": null,
   "id": "94e7092e-d276-449e-8fda-22efea4cb00c",
   "metadata": {},
   "outputs": [],
   "source": [
    "h = int(input(\"Digite sua altura em cm: \"))\n",
    "\n",
    "print(\"Seu peso ideal é {}KG caso seja Homem e {}KG caso seja Mulher.\".format(round((72.7*(h/100))-58,2) , round(((62.1*(h/100))-44.7),2)))"
   ]
  },
  {
   "cell_type": "markdown",
   "id": "cb09d5bb-504b-43df-a684-e9fe3fe1832a",
   "metadata": {},
   "source": [
    "14)João Papo-de-Pescador, homem de bem, comprou um microcomputador para controlar o rendimento diário de seu trabalho. Toda vez que ele traz um peso de peixes maior que o estabelecido pelo regulamento de pesca do estado de São Paulo (50 quilos) deve pagar uma multa de R$ 4,00 por quilo excedente. João precisa que você faça um programa que leia a variável peso (peso de peixes) e calcule o excesso. Gravar na variável excesso a quantidade de quilos além do limite e na variável multa o valor da multa que João deverá pagar. Imprima os dados do programa com as mensagens adequadas."
   ]
  },
  {
   "cell_type": "code",
   "execution_count": null,
   "id": "c1b4f969-72f5-4c01-8a4e-ce70866f711e",
   "metadata": {},
   "outputs": [],
   "source": [
    "peso = round((float(input(\"Digite o peso dos peixes em quilos: \"))),2)\n",
    "\n",
    "if(peso<=50):\n",
    "    print(\"Não houve excesso de peso\")\n",
    "else:\n",
    "    excesso = int(peso - 50)\n",
    "    multa = excesso*4\n",
    "    print(\"Houve excesso de {} quilos e João deverá pagar R${} de multa.\".format(excesso,multa))\n",
    "\n",
    "print()\n",
    "print(\"Fim de programa\")"
   ]
  },
  {
   "cell_type": "markdown",
   "id": "574badbd-0bd4-455e-8562-6e9dcca6c86c",
   "metadata": {},
   "source": [
    "15)Faça um Programa que pergunte quanto você ganha por hora e o número de horas trabalhadas no mês. Calcule e mostre o total do seu salário no referido mês, sabendo-se que são descontados 11% para o Imposto de Renda, 8% para o INSS e 5% para o sindicato, faça um programa que nos dê:\n",
    "salário bruto.\n",
    "quanto pagou ao INSS.\n",
    "quanto pagou ao sindicato.\n",
    "o salário líquido.\n",
    "calcule os descontos e o salário líquido, conforme a tabela abaixo:\n",
    "+ Salário Bruto : R$\n",
    "- IR (11%) : R$\n",
    "- INSS (8%) : R$\n",
    "- Sindicato ( 5%) : R$\n",
    "= Salário Liquido : R$\n",
    "Obs.: Salário Bruto - Descontos = Salário Líquido."
   ]
  },
  {
   "cell_type": "code",
   "execution_count": null,
   "id": "da4a3801-e0df-4294-b225-90b9d6cb9b65",
   "metadata": {},
   "outputs": [],
   "source": [
    "GanHora = int(input(\"Digite o valor remunerado por hora em reais: \"))\n",
    "Horas   = int(input(\"Digite a quantidade de horas trabalhadas no mês: \"))\n",
    "\n",
    "SalBruto = GanHora*Horas\n",
    "IR = (SalBruto/100)*11\n",
    "INSS = (SalBruto/100)*8\n",
    "Sind = (SalBruto/100)*5\n",
    "Liquid = SalBruto - (INSS + IR + Sind)\n",
    "print()\n",
    "print(\"+ Salário Bruto:  R${}\".format(SalBruto))\n",
    "print(\"- IR (11%)     :  R${}\".format(IR))\n",
    "print(\"- INSS(8%)     :  R${}\".format(INSS))\n",
    "print(\"- Sindicato(5%):  R${}\".format(Sind))\n",
    "print(\"-------------------------\")\n",
    "print(\"= Salário Líquido:R${}\".format(Liquid))\n",
    "print()\n",
    "print(\"Fim de programa\")"
   ]
  },
  {
   "cell_type": "markdown",
   "id": "f1de9362-1d02-48c7-aa26-ddf56c0cfaf0",
   "metadata": {},
   "source": [
    "16)Faça um programa para uma loja de tintas. O programa deverá pedir o tamanho em metros quadrados da área a ser pintada. Considere que a cobertura da tinta é de 1 litro para cada 3 metros quadrados e que a tinta é vendida em latas de 18 litros, que custam R$ 80,00. Informe ao usuário a quantidades de latas de tinta a serem compradas e o preço total."
   ]
  },
  {
   "cell_type": "code",
   "execution_count": null,
   "id": "5213aa60-8c4c-438e-b9a7-8fa3fe2d6596",
   "metadata": {},
   "outputs": [],
   "source": [
    "metros = int(input(\"Digite o tamanho em metros quadrados da área a ser pintada: \"))\n",
    "Ltintas=1\n",
    "if(metros<=54):\n",
    "    print(\"Você precisará de apenas 1 lata de tinta e o preço total é de {} reais.\".format(Ltintas*80))\n",
    "else:\n",
    "    Ltintas = round(metros/54)\n",
    "    print(\"Você precisará de {} latas de tinta para pintar {}m² e o preço total será de {} reais.\".format(Ltintas,metros,Ltintas*80))"
   ]
  },
  {
   "cell_type": "markdown",
   "id": "8db09696-8d4d-4f29-b23b-3bbac77ae7b2",
   "metadata": {},
   "source": [
    "17)Faça um Programa para uma loja de tintas. O programa deverá pedir o tamanho em metros quadrados da área a ser pintada. Considere que a cobertura da tinta é de 1 litro para cada 6 metros quadrados e que a tinta é vendida em latas de 18 litros, que custam R$ 80,00 ou em galões de 3,6 litros, que custam R$ 25,00.\r\n",
    "Informe ao usuário as quantidades de tinta a serem compradas e os respectivos preços em 3 situações:\r\n",
    "comprar apenas latas de 18 litros;\r\n",
    "comprar apenas galões de 3,6 litros;\r\n",
    "misturar latas e galões, de forma que o desperdício de tinta seja menor. Acrescente 10% de folga e sempre arredonde os valores para cima, isto é, considere latas cheias."
   ]
  },
  {
   "cell_type": "code",
   "execution_count": null,
   "id": "072443f1-013c-4946-b0a1-9ba4a0801e11",
   "metadata": {},
   "outputs": [],
   "source": [
    "import math\n",
    "metros = int(input(\"Digite o tamanho em metros quadrados da área a ser pintada: \"))\n",
    "print()\n",
    "L18 = 0 #COBERTURA = 108m2\n",
    "L3 = 0 #COBERTURA = 21.6m2 ou 22 arredondado\n",
    "cobertura = 0\n",
    "preco = 0\n",
    "#calculo em L18-------------------\n",
    "if(metros>=108):#cobertura mínima\n",
    "    L18 = metros/108\n",
    "    print(\"A quantidade de apenas latas de 18L é: {}\".format(math.ceil(L18)))\n",
    "    preco = math.ceil(L18)*80\n",
    "    print(\"Preço em Latas de 18L: R${}\".format(preco))\n",
    "else:\n",
    "    print(\"Metragem insuficiente para cálculo em latas de 18L\")\n",
    "    \n",
    "#calculo em L3------------------\n",
    "if(metros>=22):\n",
    "    L3 = metros/22\n",
    "    print(\"A quantidade de apenas galões de 3.6L é: {}\".format(math.ceil(L3)))\n",
    "    preco = math.ceil(L3)*25\n",
    "    print(\"Preço em galões de 3.6L: R${}\".format(preco))\n",
    "else:\n",
    "    print(\"Em {}m² o mínimo a se utilizar é 1 galão de tinta\".format(metros))\n",
    "    print(\"Preço de um galão de 3.6L: R${}\".format(25.00))\n",
    "    \n",
    "#calculo em l18 e l3--------------\n",
    "##o foco é não desperdiçar tinta\n",
    "\n",
    "if((metros/6) <= 15 ): #CONSUMO DE TINTA ATÉ GALOES\n",
    "    #até onde vale a pena ir com os galões\n",
    "    if(metros<=22):\n",
    "        print(\"Em {}m² o mínimo a se utilizar é 1 galão de tinta\".format(metros))\n",
    "        print(\"Preço de um galão de 3.6L: R${}\".format(25.00))\n",
    "    else:\n",
    "        L3 = ((metros/6)/3.6)\n",
    "        print(\"Em {}m² o mais econômico é utilizar {} galões de tinta\".format(metros,math.ceil(L3)))\n",
    "        preco = math.ceil(L3)*25\n",
    "        print(\"Preço em galões de 3.6L: R${}\".format(preco))\n",
    "else: #se for maior que o compensável de galoes\n",
    "    L18 = 0\n",
    "    L3 = 0\n",
    "    cobertura = round((metros/6),2)\n",
    "    print(\"Litros necessários de tinta: {}L\".format(cobertura))\n",
    "    print()\n",
    "    while(cobertura>=18):\n",
    "        L18+=1\n",
    "        cobertura -= 18\n",
    "    while(cobertura>=3.6):\n",
    "        L3+=1\n",
    "        cobertura -= 3.6\n",
    "    if(cobertura<3.6):\n",
    "        L3+=1\n",
    "        cobertura -= 3.6\n",
    "        \n",
    "print(\"Quantidade de Latas de 18L combinadas: {} latas\".format(L18))\n",
    "print(\"Quantidade de Galões de 3.6L combinados: {} galões\".format(L3))\n",
    "print(\"Desperdício de {} litros de tinta.\".format(cobertura*-1))\n",
    "preco = L18*80 + L3*25\n",
    "print(\"Preço total combinado: R${}\".format(preco))\n",
    "print()\n",
    "print(\"end\")"
   ]
  },
  {
   "cell_type": "markdown",
   "id": "a15d8566-4527-438f-9751-23322b3d85a4",
   "metadata": {},
   "source": [
    "18)Faça um programa que peça o tamanho de um arquivo para download (em MB) e a velocidade de um link de Internet (em Mbps), calcule e informe o tempo aproximado de download do arquivo usando este link (em minutos)."
   ]
  },
  {
   "cell_type": "code",
   "execution_count": null,
   "id": "277987c4-7f9c-42da-93cf-246685ac666d",
   "metadata": {},
   "outputs": [],
   "source": [
    "import math\n",
    "tam = int(input(\"Digite o tamanho em Megabytes do arquivo para download: \"))\n",
    "print(\"Tamanho do Download: {}MB\".format(tam))\n",
    "vel = int(input(\"Digite a velocidade do link de internet em Megabits por segundo: \"))\n",
    "print(\"Velocidade da internet: {}Mbps\".format(vel))\n",
    "segundos = float((tam*8)/vel)\n",
    "MIN = 0\n",
    "if(segundos<=60):\n",
    "    print(\"O tempo aproximado de download é menor do que um minuto, correpondente a {} segundos.\".format(math.ceil(segundos)))\n",
    "else:\n",
    "    while(segundos>60):\n",
    "        MIN += 1\n",
    "        segundos -= 60\n",
    "    print(\"O tempo aproximado de download em minutos é de {}min e {}seg.\".format(MIN,math.ceil(segundos)))"
   ]
  },
  {
   "cell_type": "code",
   "execution_count": null,
   "id": "ab5a134d-311e-4fee-aefe-31272e158bbf",
   "metadata": {},
   "outputs": [],
   "source": [
    "--------------------------------------------------------Lista 2 - Estrutura de Decisão------------------------------------------------------------------\n",
    "--------------------------------------------------------------------------------------------------------------------------------------------------------\n"
   ]
  }
 ],
 "metadata": {
  "kernelspec": {
   "display_name": "Python 3 (ipykernel)",
   "language": "python",
   "name": "python3"
  },
  "language_info": {
   "codemirror_mode": {
    "name": "ipython",
    "version": 3
   },
   "file_extension": ".py",
   "mimetype": "text/x-python",
   "name": "python",
   "nbconvert_exporter": "python",
   "pygments_lexer": "ipython3",
   "version": "3.12.4"
  }
 },
 "nbformat": 4,
 "nbformat_minor": 5
}
