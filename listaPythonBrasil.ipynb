{
 "cells": [
  {
   "cell_type": "markdown",
   "id": "12f60c42-3ac1-4595-8921-acbcedc0c782",
   "metadata": {},
   "source": [
    "Lista PythonBrasil Completa - Resolvida por João Pedro Becker Schneider\n",
    "PythonBrasil exercises solved by João Pedro Becker Schneider"
   ]
  },
  {
   "cell_type": "markdown",
   "id": "b3d99e50-1183-4628-9b04-d2be4a04e71d",
   "metadata": {},
   "source": [
    "--------------------------------------------------------Lista 1 - Estrutura Sequencial------------------------------------------------------------------\n",
    "--------------------------------------------------------------------------------------------------------------------------------------------------------\n",
    "\n",
    "1)Faça um Programa que mostre a mensagem \"Alo mundo\" na tela."
   ]
  },
  {
   "cell_type": "code",
   "execution_count": null,
   "id": "aeb798ff-82e9-4047-bd11-08b16754a528",
   "metadata": {},
   "outputs": [],
   "source": [
    "print(\"Alo mundo\")"
   ]
  },
  {
   "cell_type": "markdown",
   "id": "50958204-734d-4cd9-a7eb-630c81d60f47",
   "metadata": {},
   "source": [
    "2)Faça um Programa que peça um número e então mostre a mensagem O número informado foi [número]."
   ]
  },
  {
   "cell_type": "code",
   "execution_count": null,
   "id": "a56eb692-a087-464a-9111-8d8bc2ec95b5",
   "metadata": {},
   "outputs": [],
   "source": [
    "num = int(input(\"digite um número: \"))\n",
    "print(\"O número informado foi [{}].\".format(num))"
   ]
  },
  {
   "cell_type": "markdown",
   "id": "de0e07fb-3d0a-4dec-bdd0-cfda88c62ee2",
   "metadata": {},
   "source": [
    "3)Faça um Programa que peça dois números e imprima a soma."
   ]
  },
  {
   "cell_type": "code",
   "execution_count": null,
   "id": "28eb4f83-0c2b-431d-bd54-262225980045",
   "metadata": {},
   "outputs": [],
   "source": [
    "X = int(input(\"Digite um número: \"))\n",
    "Y = int(input(\"Digite outro número: \"))\n",
    "\n",
    "print(\"A soma dos números vale: {}\".format(X+Y))\n"
   ]
  },
  {
   "cell_type": "markdown",
   "id": "1f727db6-ab3f-4b1a-83ca-adc4cf902588",
   "metadata": {},
   "source": [
    "4)Faça um Programa que peça as 4 notas bimestrais e mostre a média."
   ]
  },
  {
   "cell_type": "code",
   "execution_count": null,
   "id": "cf0ae7a2-8d5d-49ad-ae04-60a886ce4146",
   "metadata": {},
   "outputs": [],
   "source": [
    "nota1 = float(input(\"Digite a primeira nota: \"))\n",
    "nota2 = float(input(\"Digite a segunda nota: \"))\n",
    "nota3 = float(input(\"Digite a terceira nota: \"))\n",
    "nota4 = float(input(\"Digite a última nota: \"))\n",
    "\n",
    "print(\"A média das notas é {}\".format((nota1+nota2+nota3+nota4)/4))"
   ]
  },
  {
   "cell_type": "markdown",
   "id": "1532f158-9e18-4df7-ac0b-62fadb43431b",
   "metadata": {},
   "source": [
    "5)Faça um Programa que converta metros para centímetros."
   ]
  },
  {
   "cell_type": "code",
   "execution_count": null,
   "id": "ad65e9ab-f8ea-46af-b6eb-583086a82dd3",
   "metadata": {},
   "outputs": [],
   "source": [
    "m = int(input(\"Digite uma distância em metros: \"))\n",
    "\n",
    "print(\"A distância {}m corresponde a {}cm \".format(m,m*100))\n"
   ]
  },
  {
   "cell_type": "markdown",
   "id": "bef2ea65-000f-4704-9160-f2bbeee890a8",
   "metadata": {},
   "source": [
    "6)Faça um Programa que peça o raio de um círculo, calcule e mostre sua área."
   ]
  },
  {
   "cell_type": "code",
   "execution_count": null,
   "id": "1c778103-6d6d-4536-8983-091ce32495e7",
   "metadata": {},
   "outputs": [],
   "source": [
    "import math\n",
    "R = int(input(\"Digite o valor em cm do raio de um círculo: \"))\n",
    "area = math.pi*(R**2)\n",
    "\n",
    "print(\"A área do circulo equivale à {}cm²\".format(round((area),2)))"
   ]
  },
  {
   "cell_type": "markdown",
   "id": "a56e322a-294f-4dbc-be1f-d57370144716",
   "metadata": {},
   "source": [
    "7)Faça um Programa que calcule a área de um quadrado, em seguida mostre o dobro desta área para o usuário."
   ]
  },
  {
   "cell_type": "code",
   "execution_count": null,
   "id": "d25e2ad1-7527-42f9-a1d0-3eb201f2db0d",
   "metadata": {},
   "outputs": [],
   "source": [
    "L = int(input(\"Digite o valor em cm de um dos lados de um quadrado: \"))\n",
    "area = L**2\n",
    "\n",
    "print(\"O dobro do valor da área calculada equivale à {}cm²\".format(area*2))"
   ]
  },
  {
   "cell_type": "markdown",
   "id": "0a9c879a-b825-4b46-b01e-698ad4a9155a",
   "metadata": {},
   "source": [
    "8)Faça um Programa que pergunte quanto você ganha por hora e o número de horas trabalhadas no mês. Calcule e mostre o total do seu salário no referido mês."
   ]
  },
  {
   "cell_type": "markdown",
   "id": "22206d8b-1e06-4d82-970e-1a69573c348c",
   "metadata": {},
   "source": [
    "GanHora = int(input(\"Digite o valor remunerado por hora trabalhada em reais: \"))\n",
    "Horas = int(input(\"Digite a quantidade de horas trabalhadas no mês: \"))\n",
    "\n",
    "print(\"O valor do seu salário bruto é R${}.\".format(GanHora*Horas))\n"
   ]
  },
  {
   "cell_type": "markdown",
   "id": "48bccd63-56ee-4534-bb60-66c7afd88550",
   "metadata": {},
   "source": [
    "9)Faça um Programa que peça a temperatura em graus Fahrenheit, transforme e mostre a temperatura em graus Celsius.\n",
    "C = 5 * ((F-32) / 9)."
   ]
  },
  {
   "cell_type": "code",
   "execution_count": null,
   "id": "8a02c545-834d-4ab0-8e88-1a6a1ce7ccf2",
   "metadata": {},
   "outputs": [],
   "source": [
    "F = float(input(\"Digite uma temperatura em ºF: \"))\n",
    "\n",
    "print(\"A temperatura convertida em Celsius equivale à {}ºC\".format(round((5*((F-32)/9)),2)))"
   ]
  },
  {
   "cell_type": "markdown",
   "id": "9be58a9a-d896-4c52-89bc-1a852aacaf63",
   "metadata": {},
   "source": [
    "10)Faça um Programa que peça a temperatura em graus Celsius, transforme e mostre em graus Fahrenheit."
   ]
  },
  {
   "cell_type": "code",
   "execution_count": null,
   "id": "e05cc581-fd71-4e8e-a856-4243c4e8d60f",
   "metadata": {},
   "outputs": [],
   "source": [
    "C = float(input(\"Digite uma temperatura em ºC: \"))\n",
    "\n",
    "print(\"A temperatura convertida em Celsius equivale à ºF {}.\".format((C*(9/5))+32))"
   ]
  },
  {
   "cell_type": "markdown",
   "id": "88e70e3e-0a4e-40fb-a654-623d9227a5bb",
   "metadata": {},
   "source": [
    "11)Faça um Programa que peça 2 números inteiros e um número real. Calcule e mostre:\r\n",
    "o produto do dobro do primeiro com metade do segundo .\r\n",
    "a soma do triplo do primeiro com o terceiro.\r\n",
    "o terceiro elevado ao cubo."
   ]
  },
  {
   "cell_type": "code",
   "execution_count": null,
   "id": "f2da9711-af67-4383-9aae-c60f1e6fb7a6",
   "metadata": {},
   "outputs": [],
   "source": [
    "A = int(input(\"Digite um número inteiro: \"))\n",
    "B = int(input(\"Digite outro número inteiro: \"))\n",
    "R = float(input(\"Digite um número real: \"))\n",
    "\n",
    "print(int(2*A + B/2))\n",
    "print()\n",
    "print(float(A*3 + R))\n",
    "print()\n",
    "print(round((R**3),2))\n",
    "print(\"end\")\n"
   ]
  },
  {
   "cell_type": "markdown",
   "id": "e1d355f8-562b-411a-9d53-0a325e64f703",
   "metadata": {},
   "source": [
    "12)Tendo como dados de entrada a altura de uma pessoa, construa um algoritmo que calcule seu peso ideal, usando a seguinte fórmula: (72.7*altura) - 58"
   ]
  },
  {
   "cell_type": "code",
   "execution_count": null,
   "id": "5b57b509-d6ce-4a79-aafd-b46f4ceb41de",
   "metadata": {},
   "outputs": [],
   "source": [
    "altura = int(input(\"Digite sua altura em cm: \"))\n",
    "\n",
    "print(\"Seu peso ideal é {}KG\".format((72.7*(altura/100))-58))"
   ]
  },
  {
   "cell_type": "markdown",
   "id": "562c516e-7b75-4ac8-8ec1-8e6de0fd6a5f",
   "metadata": {},
   "source": [
    "13)Tendo como dado de entrada a altura (h) de uma pessoa, construa um algoritmo que calcule seu peso ideal, utilizando as seguintes fórmulas:\n",
    "Para homens: (72.7*h) - 58\n",
    "Para mulheres: (62.1*h) - 44.7"
   ]
  },
  {
   "cell_type": "code",
   "execution_count": null,
   "id": "94e7092e-d276-449e-8fda-22efea4cb00c",
   "metadata": {},
   "outputs": [],
   "source": [
    "h = int(input(\"Digite sua altura em cm: \"))\n",
    "\n",
    "print(\"Seu peso ideal é {}KG caso seja Homem e {}KG caso seja Mulher.\".format(round((72.7*(h/100))-58,2) , round(((62.1*(h/100))-44.7),2)))"
   ]
  },
  {
   "cell_type": "markdown",
   "id": "cb09d5bb-504b-43df-a684-e9fe3fe1832a",
   "metadata": {},
   "source": [
    "14)João Papo-de-Pescador, homem de bem, comprou um microcomputador para controlar o rendimento diário de seu trabalho. Toda vez que ele traz um peso de peixes maior que o estabelecido pelo regulamento de pesca do estado de São Paulo (50 quilos) deve pagar uma multa de R$ 4,00 por quilo excedente. João precisa que você faça um programa que leia a variável peso (peso de peixes) e calcule o excesso. Gravar na variável excesso a quantidade de quilos além do limite e na variável multa o valor da multa que João deverá pagar. Imprima os dados do programa com as mensagens adequadas."
   ]
  },
  {
   "cell_type": "code",
   "execution_count": null,
   "id": "c1b4f969-72f5-4c01-8a4e-ce70866f711e",
   "metadata": {},
   "outputs": [],
   "source": [
    "peso = round((float(input(\"Digite o peso dos peixes em quilos: \"))),2)\n",
    "\n",
    "if(peso<=50):\n",
    "    print(\"Não houve excesso de peso\")\n",
    "else:\n",
    "    excesso = int(peso - 50)\n",
    "    multa = excesso*4\n",
    "    print(\"Houve excesso de {} quilos e João deverá pagar R${} de multa.\".format(excesso,multa))\n",
    "\n",
    "print()\n",
    "print(\"Fim de programa\")"
   ]
  },
  {
   "cell_type": "markdown",
   "id": "574badbd-0bd4-455e-8562-6e9dcca6c86c",
   "metadata": {},
   "source": [
    "15)Faça um Programa que pergunte quanto você ganha por hora e o número de horas trabalhadas no mês. Calcule e mostre o total do seu salário no referido mês, sabendo-se que são descontados 11% para o Imposto de Renda, 8% para o INSS e 5% para o sindicato, faça um programa que nos dê:\n",
    "salário bruto.\n",
    "quanto pagou ao INSS.\n",
    "quanto pagou ao sindicato.\n",
    "o salário líquido.\n",
    "calcule os descontos e o salário líquido, conforme a tabela abaixo:\n",
    "+ Salário Bruto : R$\n",
    "- IR (11%) : R$\n",
    "- INSS (8%) : R$\n",
    "- Sindicato ( 5%) : R$\n",
    "= Salário Liquido : R$\n",
    "Obs.: Salário Bruto - Descontos = Salário Líquido."
   ]
  },
  {
   "cell_type": "code",
   "execution_count": null,
   "id": "da4a3801-e0df-4294-b225-90b9d6cb9b65",
   "metadata": {},
   "outputs": [],
   "source": [
    "GanHora = int(input(\"Digite o valor remunerado por hora em reais: \"))\n",
    "Horas   = int(input(\"Digite a quantidade de horas trabalhadas no mês: \"))\n",
    "\n",
    "SalBruto = GanHora*Horas\n",
    "IR = (SalBruto/100)*11\n",
    "INSS = (SalBruto/100)*8\n",
    "Sind = (SalBruto/100)*5\n",
    "Liquid = SalBruto - (INSS + IR + Sind)\n",
    "print()\n",
    "print(\"+ Salário Bruto:  R${}\".format(SalBruto))\n",
    "print(\"- IR (11%)     :  R${}\".format(IR))\n",
    "print(\"- INSS(8%)     :  R${}\".format(INSS))\n",
    "print(\"- Sindicato(5%):  R${}\".format(Sind))\n",
    "print(\"-------------------------\")\n",
    "print(\"= Salário Líquido:R${}\".format(Liquid))\n",
    "print()\n",
    "print(\"Fim de programa\")"
   ]
  },
  {
   "cell_type": "markdown",
   "id": "f1de9362-1d02-48c7-aa26-ddf56c0cfaf0",
   "metadata": {},
   "source": [
    "16)Faça um programa para uma loja de tintas. O programa deverá pedir o tamanho em metros quadrados da área a ser pintada. Considere que a cobertura da tinta é de 1 litro para cada 3 metros quadrados e que a tinta é vendida em latas de 18 litros, que custam R$ 80,00. Informe ao usuário a quantidades de latas de tinta a serem compradas e o preço total."
   ]
  },
  {
   "cell_type": "code",
   "execution_count": null,
   "id": "5213aa60-8c4c-438e-b9a7-8fa3fe2d6596",
   "metadata": {},
   "outputs": [],
   "source": [
    "metros = int(input(\"Digite o tamanho em metros quadrados da área a ser pintada: \"))\n",
    "Ltintas=1\n",
    "if(metros<=54):\n",
    "    print(\"Você precisará de apenas 1 lata de tinta e o preço total é de {} reais.\".format(Ltintas*80))\n",
    "else:\n",
    "    Ltintas = round(metros/54)\n",
    "    print(\"Você precisará de {} latas de tinta para pintar {}m² e o preço total será de {} reais.\".format(Ltintas,metros,Ltintas*80))"
   ]
  },
  {
   "cell_type": "markdown",
   "id": "8db09696-8d4d-4f29-b23b-3bbac77ae7b2",
   "metadata": {},
   "source": [
    "17)Faça um Programa para uma loja de tintas. O programa deverá pedir o tamanho em metros quadrados da área a ser pintada. Considere que a cobertura da tinta é de 1 litro para cada 6 metros quadrados e que a tinta é vendida em latas de 18 litros, que custam R$ 80,00 ou em galões de 3,6 litros, que custam R$ 25,00.\r\n",
    "Informe ao usuário as quantidades de tinta a serem compradas e os respectivos preços em 3 situações:\r\n",
    "comprar apenas latas de 18 litros;\r\n",
    "comprar apenas galões de 3,6 litros;\r\n",
    "misturar latas e galões, de forma que o desperdício de tinta seja menor. Acrescente 10% de folga e sempre arredonde os valores para cima, isto é, considere latas cheias."
   ]
  },
  {
   "cell_type": "code",
   "execution_count": null,
   "id": "072443f1-013c-4946-b0a1-9ba4a0801e11",
   "metadata": {},
   "outputs": [],
   "source": [
    "import math\n",
    "metros = int(input(\"Digite o tamanho em metros quadrados da área a ser pintada: \"))\n",
    "print()\n",
    "L18 = 0 #COBERTURA = 108m2\n",
    "L3 = 0 #COBERTURA = 21.6m2 ou 22 arredondado\n",
    "cobertura = 0\n",
    "preco = 0\n",
    "#calculo em L18-------------------\n",
    "if(metros>=108):#cobertura mínima\n",
    "    L18 = metros/108\n",
    "    print(\"A quantidade de apenas latas de 18L é: {}\".format(math.ceil(L18)))\n",
    "    preco = math.ceil(L18)*80\n",
    "    print(\"Preço em Latas de 18L: R${}\".format(preco))\n",
    "else:\n",
    "    print(\"Metragem insuficiente para cálculo em latas de 18L\")\n",
    "    \n",
    "#calculo em L3------------------\n",
    "if(metros>=22):\n",
    "    L3 = metros/22\n",
    "    print(\"A quantidade de apenas galões de 3.6L é: {}\".format(math.ceil(L3)))\n",
    "    preco = math.ceil(L3)*25\n",
    "    print(\"Preço em galões de 3.6L: R${}\".format(preco))\n",
    "else:\n",
    "    print(\"Em {}m² o mínimo a se utilizar é 1 galão de tinta\".format(metros))\n",
    "    print(\"Preço de um galão de 3.6L: R${}\".format(25.00))\n",
    "    \n",
    "#calculo em l18 e l3--------------\n",
    "##o foco é não desperdiçar tinta\n",
    "\n",
    "if((metros/6) <= 15 ): #CONSUMO DE TINTA ATÉ GALOES\n",
    "    #até onde vale a pena ir com os galões\n",
    "    if(metros<=22):\n",
    "        print(\"Em {}m² o mínimo a se utilizar é 1 galão de tinta\".format(metros))\n",
    "        print(\"Preço de um galão de 3.6L: R${}\".format(25.00))\n",
    "    else:\n",
    "        L3 = ((metros/6)/3.6)\n",
    "        print(\"Em {}m² o mais econômico é utilizar {} galões de tinta\".format(metros,math.ceil(L3)))\n",
    "        preco = math.ceil(L3)*25\n",
    "        print(\"Preço em galões de 3.6L: R${}\".format(preco))\n",
    "else: #se for maior que o compensável de galoes\n",
    "    L18 = 0\n",
    "    L3 = 0\n",
    "    cobertura = round((metros/6),2)\n",
    "    print(\"Litros necessários de tinta: {}L\".format(cobertura))\n",
    "    print()\n",
    "    while(cobertura>=18):\n",
    "        L18+=1\n",
    "        cobertura -= 18\n",
    "    while(cobertura>=3.6):\n",
    "        L3+=1\n",
    "        cobertura -= 3.6\n",
    "    if(cobertura<3.6):\n",
    "        L3+=1\n",
    "        cobertura -= 3.6\n",
    "        \n",
    "print(\"Quantidade de Latas de 18L combinadas: {} latas\".format(L18))\n",
    "print(\"Quantidade de Galões de 3.6L combinados: {} galões\".format(L3))\n",
    "print(\"Desperdício de {} litros de tinta.\".format(cobertura*-1))\n",
    "preco = L18*80 + L3*25\n",
    "print(\"Preço total combinado: R${}\".format(preco))\n",
    "print()\n",
    "print(\"end\")"
   ]
  },
  {
   "cell_type": "markdown",
   "id": "a15d8566-4527-438f-9751-23322b3d85a4",
   "metadata": {},
   "source": [
    "18)Faça um programa que peça o tamanho de um arquivo para download (em MB) e a velocidade de um link de Internet (em Mbps), calcule e informe o tempo aproximado de download do arquivo usando este link (em minutos)."
   ]
  },
  {
   "cell_type": "code",
   "execution_count": null,
   "id": "277987c4-7f9c-42da-93cf-246685ac666d",
   "metadata": {},
   "outputs": [],
   "source": [
    "import math\n",
    "tam = int(input(\"Digite o tamanho em Megabytes do arquivo para download: \"))\n",
    "print(\"Tamanho do Download: {}MB\".format(tam))\n",
    "vel = int(input(\"Digite a velocidade do link de internet em Megabits por segundo: \"))\n",
    "print(\"Velocidade da internet: {}Mbps\".format(vel))\n",
    "segundos = float((tam*8)/vel)\n",
    "MIN = 0\n",
    "if(segundos<=60):\n",
    "    print(\"O tempo aproximado de download é menor do que um minuto, correpondente a {} segundos.\".format(math.ceil(segundos)))\n",
    "else:\n",
    "    while(segundos>60):\n",
    "        MIN += 1\n",
    "        segundos -= 60\n",
    "    print(\"O tempo aproximado de download em minutos é de {}min e {}seg.\".format(MIN,math.ceil(segundos)))"
   ]
  },
  {
   "cell_type": "markdown",
   "id": "660060d6-c855-4890-ba54-6bdaca50bd5b",
   "metadata": {},
   "source": [
    "--------------------------------------------------------Lista 2 - Estrutura de Decisão---------------------------------------------------------------\n",
    "-----------------------------------------------------------------------------------------------------------------------------------------------------\n",
    "\n",
    "1)Faça um Programa que peça dois números e imprima o maior deles."
   ]
  },
  {
   "cell_type": "code",
   "execution_count": null,
   "id": "fa5cdf7d-d3a9-4e1d-9e6b-489bcb8577ad",
   "metadata": {},
   "outputs": [],
   "source": [
    "A = int(input(\"Digite um número para atribuir A: \"))\n",
    "B = int(input(\"Digite outro número para atribuir B: \"))\n",
    "\n",
    "if(A>B):\n",
    "    print(\"A é maior que B\")\n",
    "elif(A==B):\n",
    "    print(\"A e B são iguais\")\n",
    "else:\n",
    "    print(\"B é maior que A\")"
   ]
  },
  {
   "cell_type": "markdown",
   "id": "e671aa8e-98b7-408c-a1ca-a44c659563f2",
   "metadata": {},
   "source": [
    "2)Faça um Programa que peça um valor e mostre na tela se o valor é positivo ou negativo."
   ]
  },
  {
   "cell_type": "code",
   "execution_count": null,
   "id": "1ef6bd34-2421-45ea-bdd8-3e22ee65b3a8",
   "metadata": {},
   "outputs": [],
   "source": [
    "A = int(input(\"Digite um número para atribuir A \"))\n",
    "\n",
    "if(A>0):\n",
    "    print(\"A é positivo\")\n",
    "elif(A<0):\n",
    "    print(\"A é negativo\")\n",
    "else:\n",
    "    print(\"A é nulo\")"
   ]
  },
  {
   "cell_type": "markdown",
   "id": "fd20e255-53ef-4d3c-8053-6c041f31b64c",
   "metadata": {},
   "source": [
    "3)Faça um Programa que verifique se uma letra digitada é \"F\" ou \"M\". Conforme a letra escrever: F - Feminino, M - Masculino, Sexo Inválido."
   ]
  },
  {
   "cell_type": "code",
   "execution_count": null,
   "id": "629cb300-32ac-401d-803e-eeafd5890c80",
   "metadata": {},
   "outputs": [],
   "source": [
    "letra = input(\"Digite F ou M: \")\n",
    "\n",
    "if(letra==\"F\" or letra==\"f\"):\n",
    "    print(\"Feminino\")\n",
    "elif(letra==\"M\" or letra==\"m\"):\n",
    "    print(\"Masculino\")\n",
    "else:\n",
    "    print(\"Sexo Inválido\")\n",
    "print(\"end\")"
   ]
  },
  {
   "cell_type": "markdown",
   "id": "6fac5968-4194-4932-a234-7b81fdcd8940",
   "metadata": {},
   "source": [
    "4)Faça um Programa que verifique se uma letra digitada é vogal ou consoante."
   ]
  },
  {
   "cell_type": "code",
   "execution_count": null,
   "id": "75c1123e-0fc8-49cd-b230-061e17a3bbab",
   "metadata": {},
   "outputs": [],
   "source": [
    "letra = input(\"Digite uma letra: \").upper()\n",
    "\n",
    "if(letra==\"A\" or letra==\"E\" or letra==\"I\" or letra==\"O\" or letra==\"U\"):\n",
    "    print(\"{} é vogal\".format(letra))\n",
    "else:\n",
    "    print(\"{} é consoante\".format(letra))\n",
    "    \n",
    "print(\"end\")"
   ]
  },
  {
   "cell_type": "markdown",
   "id": "1bfa1091-0ae3-4fe8-bdf5-4a3c923d1883",
   "metadata": {},
   "source": [
    "5)Faça um programa para a leitura de duas notas parciais de um aluno. O programa deve calcular a média alcançada por aluno e apresentar:\r\n",
    "A mensagem \"Aprovado\", se a média alcançada for maior ou igual a sete;\r\n",
    "A mensagem \"Reprovado\", se a média for menor do que sete;\r\n",
    "A mensagem \"Aprovado com Distinção\", se a média for igual a dez."
   ]
  },
  {
   "cell_type": "code",
   "execution_count": null,
   "id": "57070190-7167-4c83-9253-b9a0be6af4fb",
   "metadata": {},
   "outputs": [],
   "source": [
    "N1 = float(input(\"Digite a primeira nota parciaL: \"))\n",
    "N2 = float(input(\"Digite a segunda nota parciaL: \"))\n",
    "media = (N1+N2)/2\n",
    "\n",
    "if(media==10):\n",
    "    print(\"Aprovado com Distinção\")\n",
    "elif(media>=7):\n",
    "    print(\"Aprovado\")\n",
    "else:\n",
    "    print(\"Reprovado\")\n",
    "\n",
    "print(\"end\")"
   ]
  },
  {
   "cell_type": "markdown",
   "id": "76fd88a1-bf9e-49c2-907b-39abfd71642d",
   "metadata": {},
   "source": [
    "6)Faça um Programa que leia três números e mostre o maior deles."
   ]
  },
  {
   "cell_type": "code",
   "execution_count": null,
   "id": "47a8621b-a3fc-4887-8bfc-3f229cf935d7",
   "metadata": {},
   "outputs": [],
   "source": [
    "A = int(input(\"Digite um número para atribuir A: \"))\n",
    "B = int(input(\"Digite um número para atribuir B: \"))\n",
    "C = int(input(\"Digite um número para atribuir C: \"))\n",
    "\n",
    "if(A>B):\n",
    "    if(A>C):\n",
    "        print(\"A é o maior\")\n",
    "    elif(A==C):\n",
    "        print(\"A e C são os maiores\")\n",
    "    else:\n",
    "        print(\"C é o maior\")\n",
    "else:\n",
    "    if(A==B and B==C):\n",
    "        print(\"Não há maior, todos são iguais\")\n",
    "    elif(B==C):\n",
    "        print(\"B e C são os maiores\")\n",
    "    elif(B==A):\n",
    "        print(\"A e B são os maiores\")\n",
    "    elif(B>C):\n",
    "        print(\"B é o maior\")\n",
    "    else:\n",
    "        print(\"C é o maior\")\n",
    "\n",
    "print()\n",
    "print(\"end\")"
   ]
  },
  {
   "cell_type": "markdown",
   "id": "4986cde7-1edd-4838-b1e9-3dff2ad8d0f2",
   "metadata": {},
   "source": [
    "7)Faça um Programa que leia três números e mostre o maior e o menor deles."
   ]
  },
  {
   "cell_type": "code",
   "execution_count": null,
   "id": "c80a2fcd-6993-4ca1-88c3-7732afdb2f10",
   "metadata": {},
   "outputs": [],
   "source": [
    "A = int(input(\"Digite um número para atribuir A: \"))\n",
    "B = int(input(\"Digite um número para atribuir B: \"))\n",
    "C = int(input(\"Digite um número para atribuir C: \"))\n",
    "if(A>B):\n",
    "    #B é o menor\n",
    "    if(A>C):\n",
    "        print(\"A é o maior\")\n",
    "        print(\"e\")\n",
    "        print(\"B é o menor\")\n",
    "    elif(A==C):\n",
    "        print(\"A e C são os maiores\")\n",
    "        print(\"e\")\n",
    "        print(\"B é o menor\")\n",
    "    else:\n",
    "        print(\"C é o maior\")\n",
    "        print(\"e\")\n",
    "        print(\"B é o menor\")\n",
    "else:\n",
    "    if(A==B and B==C):\n",
    "        print(\"Não há maior, todos são iguais\")\n",
    "    elif(B==C):\n",
    "        print(\"B e C são os maiores\")\n",
    "        print(\"e\")\n",
    "        print(\"A é o menor\")\n",
    "    elif(B==A):\n",
    "        print(\"A e B são os maiores\")\n",
    "        print(\"e\")\n",
    "        print(\"C é o menor\")\n",
    "    elif(B>C):\n",
    "        print(\"B é o maior\")\n",
    "        print(\"e\")\n",
    "        print(\"A é o menor\")\n",
    "    else:\n",
    "        print(\"C é o maior\")\n",
    "        print(\"e\")\n",
    "        print(\"A é o menor\")\n",
    "\n",
    "print()\n",
    "print(\"end\")"
   ]
  },
  {
   "cell_type": "markdown",
   "id": "e3e2116e-86de-4ffe-adaf-2b8f02910f27",
   "metadata": {},
   "source": [
    "8)Faça um programa que pergunte o preço de três produtos e informe qual produto você deve comprar, sabendo que a decisão é sempre pelo mais barato."
   ]
  },
  {
   "cell_type": "code",
   "execution_count": null,
   "id": "81dc00d9-0cfb-461a-a75b-77d2f5e3e625",
   "metadata": {},
   "outputs": [],
   "source": [
    "A = float(input(\"Digite o preço de um produto A: \"))\n",
    "B = float(input(\"Digite o preço de um produto B: \"))\n",
    "C = float(input(\"Digite o preço de um produto C: \"))\n",
    "if(A<B):\n",
    "    if(A<C):\n",
    "        print(\"Compre o produto A.\")\n",
    "    else:\n",
    "        print(\"Compre o produto C.\")\n",
    "else:\n",
    "    if(B<C):\n",
    "        print(\"Compre o produto B.\")\n",
    "    else:\n",
    "        print(\"Compre o produto C.\")\n",
    "\n",
    "print()\n",
    "print(\"end\")"
   ]
  },
  {
   "cell_type": "markdown",
   "id": "ff833d60-3027-45df-a0a2-baa532b27ad5",
   "metadata": {},
   "source": [
    "9)Faça um Programa que leia três números e mostre-os em ordem decrescente."
   ]
  },
  {
   "cell_type": "code",
   "execution_count": null,
   "id": "26f0fe4f-5054-42c4-9a2c-82a9470752b3",
   "metadata": {},
   "outputs": [],
   "source": [
    "A = int(input(\"Digite um número: \"))\n",
    "B = int(input(\"Digite outro número: \"))\n",
    "C = int(input(\"Digite um último número: \"))\n",
    "ordem = []\n",
    "\n",
    "if(A>B):\n",
    "    #A maior que B\n",
    "    if(A>C):\n",
    "        #A maior que C\n",
    "        if(B<C):\n",
    "            #B menor que C\n",
    "            ordem = [B,C,A]\n",
    "        else:\n",
    "            ordem = [C,B,A]\n",
    "    else:\n",
    "        #A menor que C e maior B\n",
    "        ordem = [B,A,C]\n",
    "else:\n",
    "    #A menor que B\n",
    "    if(B>C):\n",
    "        #B e maior que C\n",
    "        if(C>A):\n",
    "            ordem = [A,C,B]\n",
    "        else:\n",
    "            ordem = [C,A,B]\n",
    "        #B e menor que C\n",
    "    else:\n",
    "        ordem = [A,B,C]\n",
    "print(ordem)"
   ]
  },
  {
   "cell_type": "markdown",
   "id": "20c3de1b-09c0-44b9-a425-3dba843146f2",
   "metadata": {},
   "source": [
    "10)Faça um Programa que pergunte em que turno você estuda. Peça para digitar M-matutino ou V-Vespertino ou N- Noturno. Imprima a mensagem \"Bom Dia!\", \"Boa Tarde!\" ou \"Boa Noite!\" ou \"Valor Inválido!\", conforme o caso."
   ]
  },
  {
   "cell_type": "code",
   "execution_count": null,
   "id": "5128807d-c658-4847-a9cc-de58c920e42f",
   "metadata": {},
   "outputs": [],
   "source": [
    "letra = input(\"Digite M ou V ou N: \").upper()\n",
    "\n",
    "if(letra==\"M\"):\n",
    "    print(\"Bom Dia!\")\n",
    "elif(letra==\"V\"):\n",
    "    print(\"Boa tarde!\")\n",
    "elif(letra==\"N\"):\n",
    "    print(\"Boa Noite!\")\n",
    "else:\n",
    "    print(\"Valor Inválido\")\n",
    "print(\"end\")"
   ]
  },
  {
   "cell_type": "markdown",
   "id": "d97c14e3-202d-462e-a8b7-54149e42bb29",
   "metadata": {},
   "source": [
    "11)As Organizações Tabajara resolveram dar um aumento de salário aos seus colaboradores e lhe contraram para desenvolver o programa que calculará os reajustes.\n",
    "Faça um programa que recebe o salário de um colaborador e o reajuste segundo o seguinte critério, baseado no salário atual:\n",
    "salários até R$ 280,00 (incluindo) : aumento de 20%\n",
    "salários entre R$ 280,00 e R$ 700,00 : aumento de 15%\n",
    "salários entre R$ 700,00 e R$ 1500,00 : aumento de 10%\n",
    "salários de R$ 1500,00 em diante : aumento de 5% \n",
    "Após o aumento ser realizado, informe na tela:\n",
    "o salário antes do reajuste;\n",
    "o percentual de aumento aplicado;\n",
    "o valor do aumento;\n",
    "o novo salário, após o aumento."
   ]
  },
  {
   "cell_type": "code",
   "execution_count": null,
   "id": "be01d81b-62e1-4bc8-b94e-9cc7b4eb9484",
   "metadata": {},
   "outputs": [],
   "source": [
    "S = int(input(\"Digite o salário atual do funcionário em reais: \"))\n",
    "perc = 0\n",
    "if(S<200):\n",
    "    perc = 20\n",
    "elif(S<700):\n",
    "    perc = 15\n",
    "elif(S<1500):\n",
    "    perc = 10\n",
    "else:\n",
    "    perc = 5\n",
    "\n",
    "print(\"Salário antes do reajuste     : R${}\".format(S))\n",
    "print(\"Percentual de aumento aplicado: {}%\".format(perc))\n",
    "print(\"Valor do aumento              : R${}\".format((S/100)*perc))\n",
    "print(\"Novo salário após reajuste    : R${}\".format(S + (S/100)*perc))\n",
    "print()\n",
    "print(\"end\")"
   ]
  },
  {
   "cell_type": "markdown",
   "id": "3440b204-9a6f-4b60-94bb-c57b2390baf1",
   "metadata": {},
   "source": [
    "12)Faça um programa para o cálculo de uma folha de pagamento, sabendo que os descontos são do Imposto de Renda, que depende do salário bruto (conforme tabela abaixo) e 3% para o Sindicato e que o FGTS corresponde a 11% do Salário Bruto, mas não é descontado (é a empresa que deposita). O Salário Líquido corresponde ao Salário Bruto menos os descontos. O programa deverá pedir ao usuário o valor da sua hora e a quantidade de horas trabalhadas no mês.\n",
    "Desconto do IR:\n",
    "Salário Bruto até 900 (inclusive) - isento\n",
    "Salário Bruto até 1500 (inclusive) - desconto de 5%\n",
    "Salário Bruto até 2500 (inclusive) - desconto de 10%\n",
    "Salário Bruto acima de 2500 - desconto de 20% Imprima na tela as informações, dispostas conforme o exemplo abaixo. No exemplo o valor da hora é 5 e a quantidade de hora é 220.\n",
    "        Salário Bruto: (5 * 220)        : R$ 1100,00\n",
    "        (-) IR (5%)                     : R$   55,00  \n",
    "        (-) INSS ( 10%)                 : R$  110,00\n",
    "        FGTS (11%)                      : R$  121,00\n",
    "        Total de descontos              : R$  165,00\n",
    "        Salário Liquido                 : R$  935,00"
   ]
  },
  {
   "cell_type": "code",
   "execution_count": null,
   "id": "76ea89aa-4e8f-43c7-82a6-d9280b23a440",
   "metadata": {},
   "outputs": [],
   "source": [
    "GanHora = int(input(\"Digite o valor remunerado por hora em reais: \"))\n",
    "Horas   = int(input(\"Digite a quantidade de horas trabalhadas no mês: \"))\n",
    "IR = 0\n",
    "DescontoIR = 0\n",
    "SalBruto = GanHora*Horas\n",
    "FGTS = ((SalBruto/100)*11)\n",
    "INSS = ((SalBruto/100)*10)\n",
    "Sind = ((SalBruto/100)*3)\n",
    "\n",
    "if(SalBruto>900):\n",
    "    if(SalBruto<=1500):\n",
    "        IR=5\n",
    "        DescontoIR = ((SalBruto/100)*IR)\n",
    "    elif(SalBruto<=2500):\n",
    "        IR=10\n",
    "        DescontoIR = ((SalBruto/100)*IR)\n",
    "    else:\n",
    "        IR=20\n",
    "        DescontoIR = ((SalBruto/100)*IR)\n",
    "\n",
    "Liquid = SalBruto - (FGTS+INSS+DescontoIR+Sind)\n",
    "\n",
    "print()\n",
    "print(\"-------Folha de Pagamento-------\")\n",
    "print()\n",
    "print(\"Salário Bruto: ({} * {})  : R${}\".format(GanHora,Horas,SalBruto))\n",
    "print(\"(-) IR ({}%)               : R${}\".format(IR,round(DescontoIR),2))\n",
    "print(\"(-) INSS (10%)             : R${}\".format(round((INSS),2)))\n",
    "print(\"FGTS (11%)                 : R${}\".format(round((FGTS),2)))\n",
    "print(\"Sindicato (3%)             : R${}\".format(round((Sind),2)))\n",
    "print(\"Total de descontos         : R${}\".format(round(float(DescontoIR+INSS+FGTS+Sind),2)))\n",
    "print(\"---------------------------------\")\n",
    "print(\"Salário Líquido            : R${}\".format(round(Liquid),2))\n",
    "print()\n",
    "print(\"Fim de programa\")"
   ]
  },
  {
   "cell_type": "markdown",
   "id": "47881be7-0c25-4d55-bde1-91c0a37e8fa5",
   "metadata": {},
   "source": [
    "13)Faça um Programa que leia um número e exiba o dia correspondente da semana. (1-Domingo, 2- Segunda, etc.), se digitar outro valor deve aparecer valor inválido."
   ]
  },
  {
   "cell_type": "code",
   "execution_count": null,
   "id": "9142a246-dc95-480e-a82a-4d541015a359",
   "metadata": {},
   "outputs": [],
   "source": [
    "number = int(input(\"Digite um número entre 1 e 7: \"))\n",
    "while(number>7 or number<1):\n",
    "    print(\"valor inválido\")\n",
    "    number = int(input(\"Digite um número entre 1 e 7: \"))\n",
    "if(number==1):\n",
    "    print()\n",
    "    print(\"Domingo\")\n",
    "elif(number==2):\n",
    "    print()\n",
    "    print(\"Segunda\")\n",
    "elif(number==3):\n",
    "    print()\n",
    "    print(\"Terça\")\n",
    "elif(number==4):\n",
    "    print()\n",
    "    print(\"Quarta\")\n",
    "elif(number==5):\n",
    "    print()\n",
    "    print(\"Quinta\")\n",
    "elif(number==6):\n",
    "    print()\n",
    "    print(\"Sexta\")\n",
    "elif(number==7):\n",
    "    print()\n",
    "    print(\"Sábado\")\n",
    "print()\n",
    "print(\"Fim do programa\")"
   ]
  },
  {
   "cell_type": "markdown",
   "id": "1cd7b786-5109-4823-91ac-87c5a99e6fc9",
   "metadata": {},
   "source": [
    "14)Faça um programa que lê as duas notas parciais obtidas por um aluno numa disciplina ao longo de um semestre, e calcule a sua média. A atribuição de conceitos obedece à tabela abaixo:\r\n",
    "  Média de Aproveitamento  Conceito\r\n",
    "  Entre 9.0 e 10.0        A\r\n",
    "  Entre 7.5 e 9.0         B\r\n",
    "  Entre 6.0 e 7.5         C\r\n",
    "  Entre 4.0 e 6.0         D\r\n",
    "  Entre 4.0 e zero        E\r\n",
    "O algoritmo deve mostrar na tela as notas, a média, o conceito correspondente e a mensagem “APROVADO” se o conceito for A, B ou C ou “REPROVADO” se o conceito for D ou E."
   ]
  },
  {
   "cell_type": "code",
   "execution_count": null,
   "id": "784f5ac4-8927-4e15-8274-7e3be730d0a3",
   "metadata": {},
   "outputs": [],
   "source": [
    "N1 = float(input(\"Digite a primeira nota parciaL: \"))\n",
    "N2 = float(input(\"Digite a segunda nota parciaL: \"))\n",
    "media = (N1+N2)/2\n",
    "C = \"\"\n",
    "\n",
    "if(media>=9):\n",
    "    C = \"A\"\n",
    "elif(media>=7.5):\n",
    "    C = \"B\"\n",
    "elif(media>=6):\n",
    "    C = \"C\"\n",
    "elif(media>=4):\n",
    "    C = \"D\"\n",
    "else:\n",
    "    C = \"E\"\n",
    "\n",
    "print()\n",
    "print(\"Notas   : {} e {}\".format(N1,N2))\n",
    "print(\"Média   : {}\".format(media))\n",
    "print(\"Conceito: {}\".format(C))\n",
    "if(C==\"D\" or C==\"E\"):\n",
    "    print(\"Reprovado\")\n",
    "else:\n",
    "    print(\"Aprovado\")\n",
    "print()\n",
    "print(\"End\")"
   ]
  },
  {
   "cell_type": "markdown",
   "id": "1f2ea892-3b88-4556-8202-c7c5568e616d",
   "metadata": {},
   "source": [
    "15)Faça um Programa que peça os 3 lados de um triângulo. O programa deverá informar se os valores podem ser um triângulo. Indique, caso os lados formem um triângulo, se o mesmo é: equilátero, isósceles ou escaleno.\n",
    "Dicas:\n",
    "Três lados formam um triângulo quando a soma de quaisquer dois lados for maior que o terceiro;\n",
    "Triângulo Equilátero: três lados iguais;\n",
    "Triângulo Isósceles: quaisquer dois lados iguais;\n",
    "Triângulo Escaleno: três lados diferentes;"
   ]
  },
  {
   "cell_type": "code",
   "execution_count": null,
   "id": "156229a7-9628-481f-8cdf-17f8620ad2f7",
   "metadata": {},
   "outputs": [],
   "source": [
    "A = int(input(\"Digite o Lado A de um triângulo: \"))\n",
    "B = int(input(\"Digite o Lado B de um triângulo: \"))\n",
    "C = int(input(\"Digite o Lado C de um triângulo: \"))\n",
    "\n",
    "if(A>B+C or B>A+C or C>A+B):\n",
    "    print(\"Os lados digitados não formam um triângulo.\")\n",
    "else:\n",
    "    if(A==B):\n",
    "        if(A==C):\n",
    "            print(\"Triângulo Equilátero\")\n",
    "        else:\n",
    "            print(\"Triângulo Isósceles\")\n",
    "    else:\n",
    "        if(A==C):\n",
    "            print(\"Triângulo Isósceles\")\n",
    "        else:\n",
    "            print(\"Triângulo Escaleno\")\n",
    "\n",
    "print()\n",
    "print(\"End\")"
   ]
  },
  {
   "cell_type": "markdown",
   "id": "59e474dc-2d13-4b38-b334-b4f6b84b9125",
   "metadata": {},
   "source": [
    "16)Faça um programa que calcule as raízes de uma equação do segundo grau, na forma ax²+ bx + c. O programa deverá pedir os valores de a, b e c e fazer as consistências, informando ao usuário nas seguintes situações:\n",
    "Se o usuário informar o valor de A igual a zero, a equação não é do segundo grau e o programa não deve pedir os demais valores, sendo encerrado;\n",
    "Se o delta calculado for negativo, a equação não possui raizes reais. Informe ao usuário e encerre o programa;\n",
    "Se o delta calculado for igual a zero a equação possui apenas uma raiz real; informe-a ao usuário;\n",
    "Se o delta for positivo, a equação possui duas raiz reais; informe-as ao usuário;"
   ]
  },
  {
   "cell_type": "code",
   "execution_count": null,
   "id": "3356e104-7b1c-4257-9d5d-dfd07f55fee1",
   "metadata": {},
   "outputs": [],
   "source": [
    "A = int(input(\"Digite o valor A da equação: \"))\n",
    "if(A==0):\n",
    "    print(\"A equação não é de segundo grau se A for igual a 0\")\n",
    "else:\n",
    "    Delta = 0\n",
    "    Raiz = 0\n",
    "    RaizA = 0\n",
    "    B = int(input(\"Digite o valor B da equação: \"))\n",
    "    C = int(input(\"Digite o valor C da equação: \"))\n",
    "    Delta = ((B**2) - (4*A*C))\n",
    "    print(\"Delta: {}\".format(Delta))\n",
    "    if(Delta==0):\n",
    "        print(\"A equação possui apenas uma raiz real\")\n",
    "        Raiz = (-B + Delta**(1/2))/(2*A)\n",
    "        print(\"A raiz real é {}.\".format(round(Raiz)))\n",
    "    elif(Delta>0):\n",
    "        print(\"A equação possui duas raizes reais\")\n",
    "        Raiz = (-B + Delta**(1/2))/(2*A)\n",
    "        RaizA = (-B + Delta**(1/2))/(2*A)\n",
    "        print(\"As raízes reais são {} e {}.\".format(round(Raiz),round(RaizA)))\n",
    "    else:\n",
    "        print(\"A equação não possui raízes reais porque o Delta é negativo\")\n",
    "        \n",
    "print(\"End\")"
   ]
  },
  {
   "cell_type": "markdown",
   "id": "5912c42c-1f13-4284-b2bc-e3da94bd3cd9",
   "metadata": {},
   "source": [
    "17)Faça um Programa que peça um número correspondente a um determinado ano e em seguida informe se este ano é ou não bissexto."
   ]
  },
  {
   "cell_type": "code",
   "execution_count": null,
   "id": "2a5ef626-7822-432d-b396-faf46e1af7f6",
   "metadata": {},
   "outputs": [],
   "source": [
    "ano = int(input(\"Digite um ano qualquer: \"))\n",
    "#multíplo de 4 e não multiplo por 100 ou multiplo de 400\n",
    "\n",
    "if(ano%4==0 and ano%100!=0 or ano%400==0):\n",
    "    print(\"{} é ano bissexto\".format(ano))\n",
    "else:\n",
    "    print(\"{} não é ano bissexto\".format(ano))\n",
    "print(\"end\")"
   ]
  },
  {
   "cell_type": "markdown",
   "id": "c095f84e-fa79-403a-8c79-a4230762a4d8",
   "metadata": {},
   "source": [
    "18)Faça um Programa que peça uma data no formato dd/mm/aaaa e determine se a mesma é uma data válida."
   ]
  },
  {
   "cell_type": "code",
   "execution_count": null,
   "id": "445b6767-a31c-4feb-b054-15db5b1c9feb",
   "metadata": {},
   "outputs": [],
   "source": [
    "dia = input(\"Digite uma data no formato: dd/mm/aaaa\")\n",
    "if(\"/\" in dia):\n",
    "    Data = [] \n",
    "    Data = (dia.split(sep=\"/\",maxsplit=4)) #método que separa a string com a barra, mas e se não tiver barra?\n",
    "\n",
    "    for i, elemento in enumerate(Data): #transforma string para int\n",
    "        Data[i] = int(elemento)\n",
    "\n",
    "    if(Data[2]%4==0 and Data[2]%100!=0  or Data[2]%400==0):#ano bissexto\n",
    "        if(Data[0]>29 and Data[1]==2):#fevereiro tem 29 dias\n",
    "            print(\"Data Incorreta\")\n",
    "        else:\n",
    "            if(Data[1]>12): #12 meses\n",
    "                print(\"Data incorreta\")\n",
    "            elif(Data[2]<0): #ano menor que 0\n",
    "                print(\"Data Incorreta\")\n",
    "            elif(Data[0]>30 and Data[1]==(4 or 6 or 9 or 11)):#MESES COM 30 DIAS\n",
    "                print(\"Data Incorreta\")\n",
    "            elif(Data[0]>31):#DIAS NORMAIS EM UM MÊS\n",
    "                print(\"Data Incorreta\")\n",
    "                \n",
    "            print(\"Data correta: {}/{}/{}\".format(Data[0],Data[1],Data[2]))\n",
    "    else:#NAO bissexto\n",
    "        if(Data[1]>12): #12 meses\n",
    "            print(\"Data incorreta\")\n",
    "        elif(Data[2]<0): #ano menor que 0\n",
    "            print(\"Data Incorreta\")\n",
    "        elif(Data[0]>28 and Data[1]==2):#fevereiro tem 28 dias normalmente\n",
    "            print(\"Data Incorreta\")\n",
    "        elif(Data[0]>30 and Data[1]==4,6,9,11):#MESES COM 30 DIAS\n",
    "            print(\"Data Incorreta\")\n",
    "        elif(Data[0]>31):#DIAS NORMAIS EM UM MÊS\n",
    "            print(\"Data Incorreta\")\n",
    "        else:\n",
    "            print(\"Data correta: {}/{}/{}\".format(Data[0],Data[1],Data[2]))\n",
    "        \n",
    "else:\n",
    "    print(\"Formato incorreto, digite a data com '/'\")\n",
    "\n",
    "print(\"end\")"
   ]
  },
  {
   "cell_type": "markdown",
   "id": "5db794d8-3b69-4dad-b25b-3644f879ffc2",
   "metadata": {},
   "source": [
    "19)Faça um Programa que leia um número inteiro menor que 1000 e imprima a quantidade de centenas, dezenas e unidades do mesmo.\r\n",
    "Observando os termos no plural a colocação do \"e\", da vírgula entre outros. Exemplo:\r\n",
    "326 = 3 centenas, 2 dezenas e 6 unidades\r\n",
    "12 = 1 dezena e 2 unidades Testar com: 326, 300, 100, 320, 310,305, 301, 101, 311, 111, 25, 20, 10, 21, 11, 1, 7 e 16"
   ]
  },
  {
   "cell_type": "code",
   "execution_count": null,
   "id": "9e71b7b0-123d-45d7-a218-7f46fea67041",
   "metadata": {},
   "outputs": [],
   "source": [
    "num = int(input(\"Digite um número entre 0 e 1000: \"))\n",
    "\n",
    "while(num >= 1000 or num <= 0):#verificacao se digitou certo\n",
    "    print(\"Número digitado incorreto\")\n",
    "    num = int(input(\"Digite novamente um número entre 0 e 1000\"))\n",
    "\n",
    "\n",
    "numS = str(num)#converte int pra str\n",
    "if(num<100):#adicionando o caracter nulo de centena\n",
    "    numS = \"0\" + numS\n",
    "    if(num<10):#adicionando o caracter nulo de dezena\n",
    "        numS = \"0\" + numS\n",
    "lista = list(numS)##separa cada caracter\n",
    "\n",
    "for i, elemento in enumerate(lista): #transforma string para int dentro da lista\n",
    "    lista[i] = int(elemento)\n",
    "\n",
    "if(lista[0]>0):\n",
    "    if(lista[0]<=1):# UMA centena\n",
    "        if(lista[1]<=1):# UMA dezena\n",
    "            if(lista[2]<=1):# UMA unidade\n",
    "                print(f\"{num} = {lista[0]} centena, {lista[1]} dezena e {lista[2]} unidade.\")\n",
    "            else:\n",
    "                print(f\"{num} = {lista[0]} centena, {lista[1]} dezena e {lista[2]} unidades.\")\n",
    "        else:#mais de uma dezena\n",
    "            if(lista[2]<=1):# UMA unidade\n",
    "                print(f\"{num} = {lista[0]} centena, {lista[1]} dezenas e {lista[2]} unidade.\")\n",
    "            else:\n",
    "                print(f\"{num} = {lista[0]} centena, {lista[1]} dezenas e {lista[2]} unidades.\")\n",
    "    else:\n",
    "        if(lista[1]<=1):# UMA dezena\n",
    "            if(lista[2]<=1):# UMA unidade\n",
    "                print(f\"{num} = {lista[0]} centenas, {lista[1]} dezena e {lista[2]} unidade.\")\n",
    "            else:\n",
    "                print(f\"{num} = {lista[0]} centenas, {lista[1]} dezena e {lista[2]} unidades.\")\n",
    "        else:#mais de uma dezena\n",
    "            if(lista[2]<=1):# UMA unidade\n",
    "                print(f\"{num} = {lista[0]} centenas, {lista[1]} dezenas e {lista[2]} unidade.\")\n",
    "            else:\n",
    "                print(f\"{num} = {lista[0]} centenas, {lista[1]} dezenas e {lista[2]} unidades.\")\n",
    "else:\n",
    "    if(lista[1]<=1):# UMA dezena\n",
    "        if(lista[2]<=1):# UMA unidade\n",
    "            print(f\"{num} = {lista[0]} centena, {lista[1]} dezena e {lista[2]} unidade.\")\n",
    "        else:\n",
    "            print(f\"{num} = {lista[0]} centena, {lista[1]} dezena e {lista[2]} unidades.\")\n",
    "    else:#mais de uma dezena\n",
    "        if(lista[2]<=1):# UMA unidade\n",
    "            print(f\"{num} = {lista[0]} centena, {lista[1]} dezenas e {lista[2]} unidade.\")\n",
    "        else:\n",
    "            print(f\"{num} = {lista[0]} centena, {lista[1]} dezenas e {lista[2]} unidades.\")\n",
    "print(\"End\")"
   ]
  },
  {
   "cell_type": "markdown",
   "id": "0e7f8f45-a827-4565-bea8-b9cb03465ea4",
   "metadata": {},
   "source": [
    "20)Faça um Programa para leitura de três notas parciais de um aluno. O programa deve calcular a média alcançada por aluno e presentar:\r\n",
    "A mensagem \"Aprovado\", se a média for maior ou igual a 7, com a respectiva média alcançada;\r\n",
    "A mensagem \"Reprovado\", se a média for menor do que 7, com a respectiva média alcançada;\r\n",
    "A mensagem \"Aprovado com Distinção\", se a média for igual a 10."
   ]
  },
  {
   "cell_type": "code",
   "execution_count": null,
   "id": "3c5f002b-f552-4be1-83dc-c07d7e64c626",
   "metadata": {},
   "outputs": [],
   "source": [
    "n1 = float(input(\"Digite a primeira nota parcial: \"))\n",
    "n2 = float(input(\"Digite a segunda nota parcial: \"))\n",
    "n3 = float(input(\"Digite a terceira nota parcial: \"))\n",
    "media = (n1+n2+n3)/3\n",
    "\n",
    "if(media==10):\n",
    "    print(\"Aprovado com Distinção. Média: {}\".format(round(media,2)))\n",
    "else:\n",
    "    if(media>=7):\n",
    "        print(\"Aprovado. Média: {}\".format(round(media,2)))\n",
    "    else:\n",
    "        print(\"Reprovado. Média: {}\".format(round(media,2)))"
   ]
  },
  {
   "cell_type": "markdown",
   "id": "c15a5750-636c-4c0b-a83b-2ed3f7757387",
   "metadata": {},
   "source": [
    "21)Faça um Programa para um caixa eletrônico. O programa deverá perguntar ao usuário a valor do saque e depois informar quantas notas de cada valor serão fornecidas. As notas disponíveis serão as de 1, 5, 10, 50 e 100 reais. O valor mínimo é de 10 reais e o máximo de 600 reais. O programa não deve se preocupar com a quantidade de notas existentes na máquina.\r\n",
    "Exemplo 1: Para sacar a quantia de 256 reais, o programa fornece duas notas de 100, uma nota de 50, uma nota de 5 e uma nota de 1;\r\n",
    "Exemplo 2: Para sacar a quantia de 399 reais, o programa fornece três notas de 100, uma nota de 50, quatro notas de 10, uma nota de 5 e quatro notas de 1."
   ]
  },
  {
   "cell_type": "code",
   "execution_count": null,
   "id": "0be5b31a-bec5-448e-8138-02ff1d346efb",
   "metadata": {},
   "outputs": [],
   "source": [
    "saque = int(input(\"Digite o valor do saque em reais: R$\"))\n",
    "N100 = 0\n",
    "N50 = 0\n",
    "N10 = 0\n",
    "N5= 0\n",
    "N1= 0\n",
    "while(saque<10 or saque>600):#bloqueia os valores especificos\n",
    "    saque = int(input(\"Valor bloqueado, digite o valor do saque novamente: R$\"))\n",
    "    \n",
    "s = saque\n",
    "while(saque>=100):\n",
    "    saque -= 100\n",
    "    N100  += 1\n",
    "while(saque>=50):\n",
    "    saque -= 50\n",
    "    N50   += 1\n",
    "while(saque>=10):\n",
    "    saque -= 10\n",
    "    N10   += 1\n",
    "while(saque>=5):\n",
    "    saque -= 5\n",
    "    N5   += 1\n",
    "while(saque>=1):\n",
    "    saque -= 1\n",
    "    N1   += 1\n",
    "\n",
    "if(N100>0):\n",
    "    if(N50>0):\n",
    "        if(N10>0):\n",
    "            if(N5>0):\n",
    "                if(N1>0):\n",
    "                    print(f\"Valor do saque: R${s}. Notas Recebidas: {N100} de R$100.00, {N50} de R$50.00, {N10} de R$10.00, {N5} de R$5.00 e {N1} de R$1.00.\")\n",
    "                else:\n",
    "                    print(f\"Valor do saque: R${s}. Notas Recebidas: {N100} de R$100.00, {N50} de R$50.00, {N10} de R$10.00 e {N5} de R$5.00.\")\n",
    "            else:\n",
    "                if(N1>0):\n",
    "                    print(f\"Valor do saque: R${s}. Notas Recebidas: {N100} de R$100.00, {N50} de R$50.00, {N10} de R$10.00 e {N1} de R$1.00.\")\n",
    "                else:\n",
    "                    print(f\"Valor do saque: R${s}. Notas Recebidas: {N100} de R$100.00, {N50} de R$50.00 e {N10} de R$10.00.\")\n",
    "        else:\n",
    "            if(N5>0):\n",
    "                if(N1>0):\n",
    "                    print(f\"Valor do saque: R${s}. Notas Recebidas: {N100} de R$100.00, {N50} de R$50.00, {N5} de R$5.00 e {N1} de R$1.00.\")\n",
    "                else:\n",
    "                    print(f\"Valor do saque: R${s}. Notas Recebidas: {N100} de R$100.00, {N50} de R$50.00 e {N5} de R$5.00.\")\n",
    "            else:\n",
    "                if(N1>0):\n",
    "                    print(f\"Valor do saque: R${s}. Notas Recebidas: {N100} de R$100.00, {N50} de R$50.00 e {N1} de R$1.00.\")\n",
    "                else:\n",
    "                    print(f\"Valor do saque: R${s}. Notas Recebidas: {N100} de R$100.00 e {N50} de R$50.00.\")\n",
    "    else:\n",
    "        if(N10>0):\n",
    "            if(N5>0):\n",
    "                if(N1>0):\n",
    "                    print(f\"Valor do saque: R${s}. Notas Recebidas: {N100} de R$100.00, {N10} de R$10.00, {N5} de R$5.00 e {N1} de R$1.00.\")\n",
    "                else:\n",
    "                    print(f\"Valor do saque: R${s}. Notas Recebidas: {N100} de R$100.00, {N10} de R$10.00 e {N5} de R$5.00.\")\n",
    "            else:\n",
    "                if(N1>0):\n",
    "                    print(f\"Valor do saque: R${s}. Notas Recebidas: {N100} de R$100.00, {N10} de R$10.00 e {N1} de R$1.00.\")\n",
    "                else:\n",
    "                    print(f\"Valor do saque: R${s}. Notas Recebidas: {N100} de R$100.00 e {N10} de R$10.00.\")\n",
    "        else:\n",
    "            if(N5>0):\n",
    "                if(N1>0):\n",
    "                    print(f\"Valor do saque: R${s}. Notas Recebidas: {N100} de R$100.00, {N5} de R$5.00 e {N1} de R$1.00.\")\n",
    "                else:\n",
    "                    print(f\"Valor do saque: R${s}. Notas Recebidas: {N100} de R$100.00 e {N5} de R$5.00.\")\n",
    "            else:\n",
    "                if(N1>0):\n",
    "                    print(f\"Valor do saque: R${s}. Notas Recebidas: {N100} de R$100.00 e {N1} de R$1.00.\")\n",
    "                else:\n",
    "                    print(f\"Valor do saque: R${s}. Notas Recebidas: {N100} de R$100.00.\")\n",
    "else:\n",
    "    if(N50>0):\n",
    "        if(N10>0):\n",
    "            if(N5>0):\n",
    "                if(N1>0):\n",
    "                    print(f\"Valor do saque: R${s}. Notas Recebidas: {N50} de R$50.00, {N10} de R$10.00, {N5} de R$5.00 e {N1} de R$1.00.\")\n",
    "                else:\n",
    "                    print(f\"Valor do saque: R${s}. Notas Recebidas: {N50} de R$50.00, {N10} de R$10.00 e {N5} de R$5.00.\")\n",
    "            else:\n",
    "                if(N1>0):\n",
    "                    print(f\"Valor do saque: R${s}. Notas Recebidas: {N50} de R$50.00, {N10} de R$10.00 e {N1} de R$1.00.\")\n",
    "                else:\n",
    "                    print(f\"Valor do saque: R${s}. Notas Recebidas: {N50} de R$50.00 e {N10} de R$10.00.\")\n",
    "        else:\n",
    "            if(N5>0):\n",
    "                if(N1>0):\n",
    "                    print(f\"Valor do saque: R${s}. Notas Recebidas: {N50} de R$50.00, {N5} de R$5.00 e {N1} de R$1.00.\")\n",
    "                else:\n",
    "                    print(f\"Valor do saque: R${s}. Notas Recebidas: {N50} de R$50.00 e {N5} de R$5.00.\")\n",
    "            else:\n",
    "                if(N1>0):\n",
    "                    print(f\"Valor do saque: R${s}. Notas Recebidas: {N50} de R$50.00 e {N1} de R$1.00.\")\n",
    "                else:\n",
    "                    print(f\"Valor do saque: R${s}. Notas Recebidas: {N50} de R$50.00.\")\n",
    "    else:\n",
    "        if(N10>0):\n",
    "            if(N5>0):\n",
    "                if(N1>0):\n",
    "                    print(f\"Valor do saque: R${s}. Notas Recebidas: {N10} de R$10.00, {N5} de R$5.00 e {N1} de R$1.00.\")\n",
    "                else:\n",
    "                    print(f\"Valor do saque: R${s}. Notas Recebidas: {N10} de R$10.00 e {N5} de R$5.00.\")\n",
    "            else:\n",
    "                if(N1>0):\n",
    "                    print(f\"Valor do saque: R${s}. Notas Recebidas: {N10} de R$10.00 e {N1} de R$1.00.\")\n",
    "                else:\n",
    "                    print(f\"Valor do saque: R${s}. Notas Recebidas: {N10} de R$10.00.\")\n",
    "        else:\n",
    "            if(N5>0):\n",
    "                if(N1>0):\n",
    "                    print(f\"Valor do saque: R${s}. Notas Recebidas: {N5} de R$5.00 e {N1} de R$1.00.\")\n",
    "                else:\n",
    "                    print(f\"Valor do saque: R${s}. Notas Recebidas: {N5} de R$5.00.\")\n",
    "            else:\n",
    "                if(N1>0):\n",
    "                    print(f\"Valor do saque: R${s}. Notas Recebidas: {N1} de R$1.00.\")\n",
    "\n",
    "print(\"end\")"
   ]
  },
  {
   "cell_type": "markdown",
   "id": "76e19c48-4c41-475a-9e53-75277fde3278",
   "metadata": {},
   "source": [
    "22)Faça um Programa que peça um número inteiro e determine se ele é par ou impar. Dica: utilize o operador módulo (resto da divisão)."
   ]
  },
  {
   "cell_type": "code",
   "execution_count": null,
   "id": "4cd0bbc8-4599-4080-b646-1962831d5f63",
   "metadata": {},
   "outputs": [],
   "source": [
    "num = int(input(\"Digite um número inteiro: \"))\n",
    "\n",
    "if(num%2==0):\n",
    "    print(\"{} é par\".format(num))\n",
    "else:\n",
    "    print(\"{} é ímpar\".format(num))"
   ]
  },
  {
   "cell_type": "markdown",
   "id": "36c2b885-e703-4988-840c-d5f4664a86a9",
   "metadata": {},
   "source": [
    "23)Faça um programa que peça um número e informe se o número é inteiro ou decimal. Dica: utilize uma função de arredondamento."
   ]
  },
  {
   "cell_type": "code",
   "execution_count": null,
   "id": "72e2b57e-72b5-4b64-a36d-53d2bdd303f7",
   "metadata": {},
   "outputs": [],
   "source": [
    "num = float(input(\"Digite um número qualquer: \"))\n",
    "\n",
    "if(num.is_integer()):\n",
    "    print(\"{} é um número inteiro.\".format(int(num)))\n",
    "else:\n",
    "    print(\"{} é um número decimal.\".format(num))"
   ]
  },
  {
   "cell_type": "markdown",
   "id": "b70cf5f8-f719-4325-8af5-43e4f3bd3e1c",
   "metadata": {},
   "source": [
    "24)Faça um Programa que leia 2 números e em seguida pergunte ao usuário qual operação ele deseja realizar. O resultado da operação deve ser acompanhado de uma frase que diga se o número é:\r\n",
    "par ou ímpar;\r\n",
    "positivo ou negativo;\r\n",
    "inteiro ou decimal."
   ]
  },
  {
   "cell_type": "code",
   "execution_count": null,
   "id": "9abc4502-486b-45d6-b678-952db87bf467",
   "metadata": {},
   "outputs": [],
   "source": [
    "A = int(input(\"Digite um número: \"))\n",
    "B = int(input(\"Digite outro número: \"))\n",
    "print(\"{} e {}\".format(A,B))\n",
    "\n",
    "OP = input(\"Digite a operação que deseja realizar( + ou - ou X ou / ): \")\n",
    "\n",
    "while(OP != \"+\" and OP != \"-\" and OP.upper()!=\"X\" and OP != \"/\"):#verifica se operacao e valida\n",
    "    print(\"Operação inválida!\")\n",
    "    OP = input(\"Digite a operação que deseja realizar( + ou - ou X ou / ): \")\n",
    "    \n",
    "result = 0\n",
    "if(OP == \"+\"): #faz a operacao\n",
    "    result = A + B\n",
    "    print(\"Operação: {} + {} = {}\".format(A,B,result))\n",
    "elif(OP == \"-\"):\n",
    "    result = A - B\n",
    "    print(\"Operação: {} - {} = {}\".format(A,B,result))\n",
    "elif(OP.upper() == \"X\"):\n",
    "    result = A*B\n",
    "    print(\"Operação: {} x {} = {}\".format(A,B,result))\n",
    "else:\n",
    "    result = A/B\n",
    "    print(\"Operação: {} / {} = {}\".format(A,B,result))\n",
    "    \n",
    "if(result.is_integer()):\n",
    "    if(result%2==0):\n",
    "        if(result>0):\n",
    "            print(\"{} é Inteiro,Par e Positivo.\".format(result))\n",
    "        else:\n",
    "            print(\"{} é Inteiro,Par e Negativo.\".format(result))\n",
    "    else:\n",
    "        if(result>0):\n",
    "            print(\"{} é Inteiro,Impar e Positivo.\".format(result))\n",
    "        else:\n",
    "            print(\"{} é Inteiro,Impar e Negativo.\".format(result))\n",
    "else:\n",
    "    if(result%2==0):\n",
    "        if(result>0):\n",
    "            print(\"{} é Decimal,Par e Positivo.\".format(result))\n",
    "        else:\n",
    "            print(\"{} é Decimal,Par e Negativo.\".format(result))\n",
    "    else:\n",
    "        if(result>0):\n",
    "            print(\"{} é Decimal,Impar e Positivo.\".format(result))\n",
    "        else:\n",
    "            print(\"{} é Decimal,Impar e Negativo.\".format(result))\n",
    "print()\n",
    "print(\"End\")"
   ]
  },
  {
   "cell_type": "markdown",
   "id": "98e67deb-bc3c-4ef8-9ecd-c84066085e4a",
   "metadata": {},
   "source": [
    "25)Faça um programa que faça 5 perguntas para uma pessoa sobre um crime. As perguntas são:\r\n",
    "\"Telefonou para a vítima?\"\r\n",
    "\"Esteve no local do crime?\"\r\n",
    "\"Mora perto da vítima?\"\r\n",
    "\"Devia para a vítima?\"\r\n",
    "\"Já trabalhou com a víti\n",
    "ma?\" O programa deve no final emitir uma classificação sobre a participação da pessoa no crime. Se a pessoa responder positivamente a 2 questões ela deve ser classificada como \"Suspeita\", entre 3 e 4 como \"Cúmplice\" e 5 como \"Assassino\". Caso contrário, ele será classificado como \"Inocente\"."
   ]
  },
  {
   "cell_type": "code",
   "execution_count": null,
   "id": "d56be317-2be2-4bc4-930b-c2f0f86f7c0a",
   "metadata": {},
   "outputs": [],
   "source": [
    "print(\"Iniciando interrogação...responda apenas com S para SIM e N para NÃO\")\n",
    "S = 0\n",
    "Rpt =  input(\"Você telefonou para a vítima? \")\n",
    "Rpt += input(\"Você esteve no local do crime? \")\n",
    "Rpt += input(\"Você mora perto daa vítima? \")\n",
    "Rpt += input(\"Você devia algo para a vítima? \")\n",
    "Rpt += input(\"Você já trabalhou com a vítima? \")\n",
    "\n",
    "lista = list(Rpt.upper())\n",
    "\n",
    "for i,resposta in enumerate(lista):#conto as resposta Sim na lista\n",
    "    if(lista[i] == \"S\"):\n",
    "        S+=1\n",
    "\n",
    "if(S==2):\n",
    "    print(\"Você é Suspeita\")\n",
    "else:\n",
    "    if(S==3 or S==4):\n",
    "        print(\"Você é Cúmplice\")\n",
    "    elif(S==5):\n",
    "        print(\"Você é o Assassino\")\n",
    "    else:\n",
    "        print(\"Você é inocente\")\n",
    "\n",
    "print(\"end\")"
   ]
  },
  {
   "cell_type": "markdown",
   "id": "974ad794-c245-4f80-bb29-56dd8006a6b5",
   "metadata": {},
   "source": [
    "26)Um posto está vendendo combustíveis com a seguinte tabela de descontos:\n",
    "Álcool:\n",
    "até 20 litros, desconto de 3% por litro\n",
    "acima de 20 litros, desconto de 5% por litro\n",
    "Gasolina:\n",
    "até 20 litros, desconto de 4% por litro\n",
    "acima de 20 litros, desconto de 6% por litro \n",
    "Escreva um algoritmo que leia o número de litros vendidos, o tipo de combustível (codificado da seguinte forma: A-álcool, G-gasolina), calcule e imprima o valor a ser pago pelo cliente sabendo-se que o preço do litro da gasolina é R$ 2,50 e o preço do litro do álcool é R$ 1,90."
   ]
  },
  {
   "cell_type": "code",
   "execution_count": null,
   "id": "3a5cc8e0-d194-4260-9b84-4c0317b6c1eb",
   "metadata": {},
   "outputs": [],
   "source": [
    "gas = float(input(\"Digite a quantidade de combustível abastecido em Litros: \"))\n",
    "tipo = input(\"Qual o combustível abastecido? (G ou A)\")\n",
    "\n",
    "while(tipo.upper() != \"A\" and tipo.upper() != \"G\"):\n",
    "    print(\"Comando errado, digite novamente\")\n",
    "    tipo = input(\"Qual o combustível abastecido? (G ou A)\")\n",
    "\n",
    "if(tipo == \"A\"):\n",
    "    if(gas<=20):\n",
    "        print(f\"{gas} litros abastecidos. Valor a ser pago: R${round(((gas*1.90)-((gas/100)*3)),2)}\")\n",
    "    else:\n",
    "         print(f\"{gas} litros abastecidos. Valor a ser pago: R${round(((gas*1.90)-((gas/100)*5)),2)}\")\n",
    "else:\n",
    "    if(gas<=20):\n",
    "        print(f\"{gas} litros abastecidos. Valor a ser pago: R${round(((gas*1.90)-((gas/100)*4)),2)}\")\n",
    "    else:\n",
    "         print(f\"{gas} litros abastecidos. Valor a ser pago: R${round(((gas*1.90)-((gas/100)*6)),2)}\")\n",
    "\n",
    "print(\"end\")"
   ]
  },
  {
   "cell_type": "markdown",
   "id": "6da4cf17-d673-4e62-9355-fcf4c759d7c1",
   "metadata": {},
   "source": [
    "27)Uma fruteira está vendendo frutas com a seguinte tabela de preços:\r\n",
    "                    Até 5 Kg            Acima de 5 Kg\r\n",
    "Morango         R$ 2,50 por Kg          R$ 2,20 por Kg\r\n",
    "Maçã            R$ 1,80 por Kg          R$ 1,50 por Kg\r\n",
    "Se o cliente comprar mais de 8 Kg em frutas ou o valor total da compra ultrapassar R$ 25,00, receberá ainda um desconto de 10% sobre este total. Escreva um algoritmo para ler a quantidade (em Kg) de morangos e a quantidade (em Kg) de maças adquiridas e escreva o valor a ser pago pelo cliente."
   ]
  },
  {
   "cell_type": "code",
   "execution_count": null,
   "id": "6b784d9c-ad52-438b-a053-7c677d7fe358",
   "metadata": {},
   "outputs": [],
   "source": [
    "morango = int(input(\"Digite a quantidade em Kgs de morangos comprados: \"))\n",
    "maca = int(input(\"Digite a quantidade em Kgs de maças comprados: \"))\n",
    "preco = 0\n",
    "\n",
    "if(morango<=5):\n",
    "    preco += morango*2.5\n",
    "elif(morango>5):\n",
    "    preco += morango*2.2\n",
    "\n",
    "if(maca<=5):\n",
    "    preco += maca*1.8\n",
    "elif(maca>5):\n",
    "    preco += maca*1.5\n",
    "\n",
    "if(morango+maca>8 or preco>25):\n",
    "    print(\"Valor promocional a ser pago: R${}\".format(round((preco - ((preco/100)*10)),2)))\n",
    "else:\n",
    "    print(\"Valor a ser pago: R${}\".format(preco))\n",
    "\n",
    "print(\"end\")"
   ]
  },
  {
   "cell_type": "markdown",
   "id": "34befcff-b9a8-4c4e-ada2-7440fcf5dc59",
   "metadata": {},
   "source": [
    "28)O Hipermercado Tabajara está com uma promoção de carnes que é imperdível. Confira:\n",
    "\n",
    "                      Até 5 Kg           Acima de 5 Kg\n",
    "File Duplo      R$ 4,90 por Kg          R$ 5,80 por Kg\n",
    "Alcatra         R$ 5,90 por Kg          R$ 6,80 por Kg\n",
    "Picanha         R$ 6,90 por Kg          R$ 7,80 por Kg\n",
    "\n",
    "Para atender a todos os clientes, cada cliente poderá levar apenas um dos tipos de carne da promoção, porém não há limites para a quantidade de carne por cliente. Se compra for feita no cartão Tabajara o cliente receberá ainda um desconto de 5% sobre o total da compra. \n",
    "Escreva um programa que peça o tipo e a quantidade de carne comprada pelo usuário e gere um cupom fiscal, contendo as informações da compra: tipo e quantidade de carne, preço total, tipo de pagamento, valor do desconto e valor a pagar."
   ]
  },
  {
   "cell_type": "code",
   "execution_count": null,
   "id": "baed5739-2c90-45bd-b83e-433b7dbbfe1e",
   "metadata": {},
   "outputs": [],
   "source": [
    "tipo = input(\"Digite o tipo de carne comprada (FD - Filé Duplo ou A - Alcatra ou P - Picanha: \")\n",
    "while(tipo.upper() != \"FD\" and tipo.upper() != \"A\" and tipo.upper() != \"P\"):\n",
    "    print(\"Tipo de carne inválida, digite novamente\")\n",
    "    print()\n",
    "    tipo = input(\"Digite o tipo de carne comprada (FD - Filé Duplo ou A - Alcatra ou P - Picanha: \")\n",
    "    \n",
    "qtd = int(input(\"Digite a quantidade em Kgs de carne comprada: \"))\n",
    "preco = 0\n",
    "\n",
    "if(tipo == \"FD\"):\n",
    "    if(qtd<=5):\n",
    "        preco = qtd*4.9\n",
    "    else:\n",
    "        preco = qtd*5.8\n",
    "    print(f\"Carne Comprada: Filé Duplo. Quantidade: {qtd}Kg. Preço Total: R${preco}. Valor com desconto Tabajara: R${preco - (preco/100)*5}\")\n",
    "elif(tipo == \"A\"):\n",
    "    if(qtd<=5):\n",
    "        preco = qtd*5.9\n",
    "    else:\n",
    "        preco = qtd*6.8\n",
    "    print(f\"Carne Comprada: Alcatra. Quantidade: {qtd}Kg. Preço Total: R${preco}. Valor com desconto Tabajara: R${preco - (preco/100)*5}\")\n",
    "elif(tipo == \"P\"):\n",
    "    if(qtd<=5):\n",
    "        preco = qtd*6.9\n",
    "    else:\n",
    "        preco = qtd*7.8\n",
    "    print(f\"Carne Comprada: Picanha. Quantidade: {qtd}Kg. Preço Total: R${preco}. Valor com desconto Tabajara: R${preco - (preco/100)*5}\")\n",
    "\n",
    "print(\"end\")"
   ]
  },
  {
   "cell_type": "markdown",
   "id": "34bdc72b-3876-4f25-bb07-26096eb067fd",
   "metadata": {},
   "source": [
    "--------------------------------------------------------Lista 3 - Estrutura de Repetição----------------------------------------------------------------\n",
    "--------------------------------------------------------------------------------------------------------------------------------------------------------\n",
    "\n",
    "1)Faça um programa que peça uma nota, entre zero e dez. Mostre uma mensagem caso o valor seja inválido e continue pedindo até que o usuário informe um valor válido."
   ]
  },
  {
   "cell_type": "code",
   "execution_count": null,
   "id": "3feedd5d-5908-4a5f-975c-7b13c6c0d075",
   "metadata": {},
   "outputs": [],
   "source": [
    "nota = int(input(\"Digite uma nota entre zero e dez: \"))\n",
    "\n",
    "while(nota< 0 or nota > 10):\n",
    "    print(\"valor inválido, digite novamente\")\n",
    "    nota = int(input(\"Digite uma nota entre zero e dez: \"))\n",
    "\n",
    "print(\"end\")\n"
   ]
  },
  {
   "cell_type": "markdown",
   "id": "8a519f5e-36fa-4611-b676-87cef2da3c7f",
   "metadata": {},
   "source": [
    "2)Faça um programa que leia um nome de usuário e a sua senha e não aceite a senha igual ao nome do usuário, mostrando uma mensagem de erro e voltando a pedir as informações"
   ]
  },
  {
   "cell_type": "code",
   "execution_count": null,
   "id": "4663e8ed-3418-4332-883e-eaa1ade59b88",
   "metadata": {},
   "outputs": [],
   "source": [
    "nome = input(\"Digite o nome de usuário: \")\n",
    "senha = input(\"Digite a senha do usuário: \")\n",
    "while(senha == nome):\n",
    "    print(\"Senha inválida\")\n",
    "    senha = input(\"Digite a senha do usuário: \")\n",
    "\n",
    "print(\"end\")"
   ]
  },
  {
   "cell_type": "markdown",
   "id": "2ed9effd-439e-45e9-b028-bb19db10137d",
   "metadata": {},
   "source": [
    "3)Faça um programa que leia e valide as seguintes informações:\r\n",
    "Nome: maior que 3 caracteres;\r\n",
    "Idade: entre 0 e 150;\r\n",
    "Salário: maior que zero;\r\n",
    "Sexo: 'f' ou 'm';\r\n",
    "Estado Civil: 's', 'c', 'v',\n",
    " 'd';"
   ]
  },
  {
   "cell_type": "code",
   "execution_count": null,
   "id": "df678849-4c4b-482b-ad44-10f1082e9c8a",
   "metadata": {},
   "outputs": [],
   "source": [
    "nome = input(\"Digite seu nome: \")\n",
    "while(len(nome) < 3):\n",
    "    print(\"Nome inválido\")\n",
    "    nome = input(\"Digite seu nome: \")\n",
    "\n",
    "age = int(input(\"Digite sua idade: \"))\n",
    "while(age < 0 or age > 150):\n",
    "    print(\"Idade inválida\")\n",
    "    age = int(input(\"Digite sua idade: \"))\n",
    "\n",
    "S = int(input(\"Digite seu salário em reais: R$\"))\n",
    "while(S<=0):\n",
    "    print(\"Salário inválido\")\n",
    "    S = int(input(\"Digite seu salário em reais: R$\"))\n",
    "\n",
    "Sexo = input(\"Digite seu sexo (F - Feminino ou M - Masculino): \")\n",
    "while(Sexo.upper() != \"F\" and Sexo.upper() != \"M\"):\n",
    "    print(\"Sexo Inválido\")\n",
    "    Sexo = input(\"Digite seu sexo (F - Feminino ou M - Masculino): \")\n",
    "\n",
    "Est = input(\"Digite seu estado civil (S ou C ou V ou D): \")\n",
    "while(Est.upper() != \"S\" and Est.upper() != \"C\" and Est.upper() != \"V\" and Est.upper() != \"D\"):\n",
    "    print(\"Estado Civil inválido\")\n",
    "    Est = input(\"Digite seu estado civil (S ou C ou V ou D): \")\n",
    "\n",
    "print(\"end\")"
   ]
  },
  {
   "cell_type": "markdown",
   "id": "d9b7ca0c-71ca-4d40-aa75-e1374151912d",
   "metadata": {},
   "source": [
    "4)Supondo que a população de um país A seja da ordem de 80000 habitantes com uma taxa anual de crescimento de 3% e que a população de B seja 200000 habitantes com uma taxa de crescimento de 1.5%. Faça um programa que calcule e escreva o número de anos necessários para que a população do país A ultrapasse ou iguale a população do país B, mantidas as taxas de crescimento."
   ]
  },
  {
   "cell_type": "code",
   "execution_count": null,
   "id": "4ca65d13-b3eb-4871-b58f-4bd5b89bf039",
   "metadata": {},
   "outputs": [],
   "source": [
    "import math\n",
    "A = 80000\n",
    "B = 200000\n",
    "\n",
    "while A<B:\n",
    "    A += A*(3/100)\n",
    "    B += B*(1.5/100)\n",
    "    print(f\"População de A: {round(A,2)} habitantes.\")\n",
    "    print(f\"População de B: {round(B,2)} habitantes.\")\n",
    "    print(\"A em Crescimento, B em Crescimento\")\n",
    "    print()\n",
    "print(\"A ultrapassou B\")"
   ]
  },
  {
   "cell_type": "markdown",
   "id": "9d4c0609-9fa3-4ae7-a393-3d02fefd0ece",
   "metadata": {},
   "source": [
    "5)Altere o programa anterior permitindo ao usuário informar as populações e as taxas de crescimento iniciais. Valide a entrada e permita repetir a operação."
   ]
  },
  {
   "cell_type": "code",
   "execution_count": null,
   "id": "346c9f48-f40e-4a80-b8c0-90f6c6b47496",
   "metadata": {},
   "outputs": [],
   "source": [
    "\n",
    "A = int(input(\"Digite a quantidade de pessoas da cidade A: \"))\n",
    "tA = float(input(\"Digite a taxa de crescimento populacional da cidade A: \"))\n",
    "print()\n",
    "B = int(input(\"Digite a quantidade de pessoas da cidade B: \"))\n",
    "tB = float(input(\"Digite a taxa de crescimento populacional da cidade B: \"))\n",
    "answer = \"s\"\n",
    "\n",
    "while A>B or tA<tB:\n",
    "    \n",
    "    print(\"Valores incompatíveis\")\n",
    "    A = int(input(\"Digite a quantidade de pessoas da cidade A: \"))\n",
    "    tA = float(input(\"Digite a taxa de crescimento populacional da cidade A: \"))\n",
    "    print()\n",
    "    B = int(input(\"Digite a quantidade de pessoas da cidade B: \"))\n",
    "    tB = float(input(\"Digite a taxa de crescimento populacional da cidade B: \"))\n",
    "\n",
    "\n",
    "while answer.upper() == \"S\":\n",
    "    \n",
    "    print()\n",
    "    A += A*(tA/100)\n",
    "    B += B*(tB/100)\n",
    "    print(f\"População de A: {round(A,2)} habitantes.\")\n",
    "    print(f\"População de B: {round(B,2)} habitantes.\")\n",
    "    print(\"A em Crescimento, B em Crescimento\")\n",
    "    \n",
    "    if(A>B):\n",
    "        print(\"A ultrapassou B\")\n",
    "        answer = input(\"Deseja continuar? S para Sim e N para Não: \")\n",
    "        if(answer.upper() == \"S\"):\n",
    "            A = int(input(\"Digite a quantidade de pessoas da cidade A: \"))\n",
    "            tA = float(input(\"Digite a taxa de crescimento populacional da cidade A: \"))\n",
    "            print()\n",
    "            B = int(input(\"Digite a quantidade de pessoas da cidade B: \"))\n",
    "            tB = float(input(\"Digite a taxa de crescimento populacional da cidade B: \"))\n",
    "            while A>B or tA<tB:\n",
    "                print(\"Valores incompatíveis\")\n",
    "                A = int(input(\"Digite a quantidade de pessoas da cidade A: \"))\n",
    "                tA = float(input(\"Digite a taxa de crescimento populacional da cidade A: \"))\n",
    "                print()\n",
    "                B = int(input(\"Digite a quantidade de pessoas da cidade B: \"))\n",
    "                tB = float(input(\"Digite a taxa de crescimento populacional da cidade B: \"))\n",
    "        else:\n",
    "            break\n",
    "\n",
    "print(\"End\")"
   ]
  },
  {
   "cell_type": "markdown",
   "id": "292cc9b8-b450-4258-b60f-cddc6614c6e8",
   "metadata": {},
   "source": [
    "6)Faça um programa que imprima na tela os números de 1 a 20, um abaixo do outro. Depois modifique o programa para que ele mostre os números um ao lado do outro."
   ]
  },
  {
   "cell_type": "code",
   "execution_count": null,
   "id": "c1186708-d06a-47fe-aa05-7522b6ba4efe",
   "metadata": {},
   "outputs": [],
   "source": [
    "for i in range(1,21):\n",
    "    print(i)\n",
    "print()\n",
    "for i in range(1,21):\n",
    "    print(i,end=\" \")"
   ]
  },
  {
   "cell_type": "markdown",
   "id": "339e29f4-bd58-4e1d-9f2b-52fd0ea69cb6",
   "metadata": {},
   "source": [
    "7)Faça um programa que leia 5 números e informe o maior número."
   ]
  },
  {
   "cell_type": "code",
   "execution_count": null,
   "id": "edc808a5-b2c9-4963-a19e-c262ac603ef3",
   "metadata": {},
   "outputs": [],
   "source": [
    "Xant = 0\n",
    "\n",
    "for i in range(0,5):\n",
    "    X = int(input(\"Digite um número\"))\n",
    "    if X>Xant:\n",
    "        Xant = X\n",
    "        X = 0\n",
    "\n",
    "print(f\"{Xant} é o maior\")"
   ]
  },
  {
   "cell_type": "markdown",
   "id": "e9e7bd05-e68d-4f61-aa70-9ed885dd3916",
   "metadata": {},
   "source": [
    "8)Faça um programa que leia 5 números e informe a soma e a média dos números."
   ]
  },
  {
   "cell_type": "code",
   "execution_count": null,
   "id": "4616633c-35c1-4a0a-9646-7bd0e256f1f8",
   "metadata": {},
   "outputs": [],
   "source": [
    "Soma = 0\n",
    "for i in range(0,5):\n",
    "    X = int(input(\"Digite um número\"))\n",
    "    Soma += X\n",
    "\n",
    "print(f\"A soma dos números vale {Soma} e a média {Soma/5}\")"
   ]
  },
  {
   "cell_type": "markdown",
   "id": "47d73ac3-3b84-4f6b-928c-272a61ffc34a",
   "metadata": {},
   "source": [
    "9)Faça um programa que imprima na tela apenas os números ímpares entre 1 e 50."
   ]
  },
  {
   "cell_type": "code",
   "execution_count": null,
   "id": "d9baea3b-44a6-434a-8930-9a31dccc1260",
   "metadata": {},
   "outputs": [],
   "source": [
    "for i in range(1,50):\n",
    "    if(i%2!=0):\n",
    "        print(i,end = \" \")\n",
    "print()\n",
    "print(\"end\")"
   ]
  },
  {
   "cell_type": "markdown",
   "id": "94eba97c-5c29-460e-a7b1-8a2121ccc547",
   "metadata": {},
   "source": [
    "10)Faça um programa que receba dois números inteiros e gere os números inteiros que estão no intervalo compreendido por eles."
   ]
  },
  {
   "cell_type": "code",
   "execution_count": null,
   "id": "6dd43fd9-09e9-45d4-9f47-76e8c3f563b7",
   "metadata": {},
   "outputs": [],
   "source": [
    "LInf = int(input(\"Digite o número mínimo do intervalo:\"))\n",
    "LSup = int(input(\"Digite o número máximo do intervalo:\"))\n",
    "\n",
    "while LInf>LSup:\n",
    "    print(\"Números incompatíveis\")\n",
    "    LInf = int(input(\"Digite o número mínimo do intervalo:\"))\n",
    "    LSup = int(input(\"Digite o número máximo do intervalo:\"))\n",
    "\n",
    "for i in range(LInf+1,LSup):\n",
    "    print(i)"
   ]
  },
  {
   "cell_type": "markdown",
   "id": "dd3b6f19-daf5-4842-97a7-b29654f28ea5",
   "metadata": {},
   "source": [
    "11)Altere o programa anterior para mostrar no final a soma dos números."
   ]
  },
  {
   "cell_type": "code",
   "execution_count": null,
   "id": "06c38b8c-d971-4df6-a0c0-ee24ab1ad65b",
   "metadata": {},
   "outputs": [],
   "source": [
    "LInf = int(input(\"Digite o número mínimo do intervalo:\"))\n",
    "LSup = int(input(\"Digite o número máximo do intervalo:\"))\n",
    "soma = 0\n",
    "while LInf>LSup:\n",
    "    print(\"Números incompatíveis\")\n",
    "    LInf = int(input(\"Digite o número mínimo do intervalo:\"))\n",
    "    LSup = int(input(\"Digite o número máximo do intervalo:\"))\n",
    "\n",
    "for i in range(LInf+1,LSup):\n",
    "    soma += i\n",
    "    print(i)\n",
    "\n",
    "print(f\"A soma do intervalo entre {LInf} e {LSup} vale {soma}\")"
   ]
  },
  {
   "cell_type": "markdown",
   "id": "bd7c2b1d-010e-4332-8952-df5077257473",
   "metadata": {},
   "source": [
    "12)Desenvolva um gerador de tabuada, capaz de gerar a tabuada de qualquer número inteiro entre 1 a 10. O usuário deve informar de qual numero ele deseja ver a tabuada. A saída deve ser conforme o exemplo abaixo:\r\n",
    "Tabuada de 5:\r\n",
    "5 X 1 = 5\r\n",
    "5 X 2 = 10\r\n",
    "...\r\n",
    "5 X 10 = 50"
   ]
  },
  {
   "cell_type": "code",
   "execution_count": null,
   "id": "75c9fa8f-85a6-4258-9d6e-cce2f610da06",
   "metadata": {},
   "outputs": [],
   "source": [
    "num = int(input(\"Digite um número inteiro entre 1 e 10: \"))\n",
    "\n",
    "while num<1 or num>10:\n",
    "    print(\"Número incompatível\")\n",
    "    num = int(input(\"Digite um número inteiro entre 1 e 10: \"))\n",
    "\n",
    "for i in range(1,11):\n",
    "    print(f\"{num} X {i} = {num*i}\")\n",
    "\n",
    "print(\"end\")"
   ]
  },
  {
   "cell_type": "markdown",
   "id": "e05eace1-ade9-4598-b7f7-fa13f68ad167",
   "metadata": {},
   "source": [
    "13)Faça um programa que peça dois números, base e expoente, calcule e mostre o primeiro número elevado ao segundo número. \n",
    "Não utilize a função de potência da linguagem."
   ]
  },
  {
   "cell_type": "code",
   "execution_count": null,
   "id": "d21d3d62-71ec-4691-8298-aa9397a1cb21",
   "metadata": {},
   "outputs": [],
   "source": [
    "B = int(input(\"Digite o valor da Base: \"))\n",
    "E = int(input(\"Digite o valor do Expoente: \"))\n",
    "num = B\n",
    "for i in range(1,E):\n",
    "    num = num*B\n",
    "\n",
    "print(num)"
   ]
  },
  {
   "cell_type": "markdown",
   "id": "9e0079cc-b464-4287-ac1e-986d3b1634d1",
   "metadata": {},
   "source": [
    "14)Faça um programa que peça 10 números inteiros, calcule e mostre a quantidade de números pares e a quantidade de números impares."
   ]
  },
  {
   "cell_type": "code",
   "execution_count": null,
   "id": "8980b187-f803-4c9b-8ff0-dd1e7185a755",
   "metadata": {},
   "outputs": [],
   "source": [
    "Npar = 0\n",
    "NImpar = 0\n",
    "X = 0\n",
    "for i in range(0,10):\n",
    "    X = int(input(\"Digite um número inteiro:\"))\n",
    "    if(X%2==0):\n",
    "        Npar += 1\n",
    "    else:\n",
    "        NImpar += 1\n",
    "\n",
    "print(f\"{Npar} números pares e {NImpar} ímpares foram digitados.\")"
   ]
  },
  {
   "cell_type": "markdown",
   "id": "be495ffa-b360-4297-9166-c4e5d4204edb",
   "metadata": {},
   "source": [
    "15)A série de Fibonacci é formada pela seqüência 1,1,2,3,5,8,13,21,34,55,... Faça um programa capaz de gerar a série até o n−ésimo termo."
   ]
  },
  {
   "cell_type": "code",
   "execution_count": null,
   "id": "2e859e82-4284-4b4f-a5dc-160cc46616df",
   "metadata": {},
   "outputs": [],
   "source": [
    "n = int(input(\"Digite a posição do termo de Fibonacci: \"))\n",
    "Fibonacci = 1\n",
    "FibonacciA = 1\n",
    "FibonacciA2 = 1\n",
    "\n",
    "print(Fibonacci, end = \",\")\n",
    "while (n>1):\n",
    "    FibonacciA2 = FibonacciA\n",
    "    FibonacciA = Fibonacci\n",
    "    n -= 1\n",
    "    Fibonacci = FibonacciA + FibonacciA2\n",
    "    print(Fibonacci,end=\",\")"
   ]
  },
  {
   "cell_type": "markdown",
   "id": "d69d48a1-f5be-4750-a9a5-c698cdcf9e4d",
   "metadata": {},
   "source": [
    "16)A série de Fibonacci é formada pela seqüência 0,1,1,2,3,5,8,13,21,34,55,... Faça um programa que gere a série até que o valor seja maior que 500."
   ]
  },
  {
   "cell_type": "code",
   "execution_count": null,
   "id": "8b03f932-0dd4-4abc-83bc-ea899204bca7",
   "metadata": {},
   "outputs": [],
   "source": [
    "Fibonacci = 1\n",
    "FibonacciA = 1\n",
    "FibonacciA2 = 1\n",
    "\n",
    "print(Fibonacci, end = \",\")\n",
    "while (Fibonacci<500):\n",
    "    FibonacciA2 = FibonacciA\n",
    "    FibonacciA = Fibonacci\n",
    "    Fibonacci = FibonacciA + FibonacciA2\n",
    "    print(Fibonacci,end=\",\")"
   ]
  },
  {
   "cell_type": "markdown",
   "id": "6fe9f21b-9fa0-47ba-9dbe-88d11cb02ab0",
   "metadata": {},
   "source": [
    "17)Faça um programa que calcule o fatorial de um número inteiro fornecido pelo usuário. Ex.: 5!=5.4.3.2.1=120"
   ]
  },
  {
   "cell_type": "code",
   "execution_count": null,
   "id": "bab51c8b-6ee8-4f1d-9a40-ce9af8b4a6e2",
   "metadata": {},
   "outputs": [],
   "source": [
    "f = 1\n",
    "c = 1\n",
    "n = int(input(\"Digite um número inteiro: \"))\n",
    "\n",
    "while c <= n:\n",
    "    f = f*c\n",
    "    c += 1\n",
    "    \n",
    "print(f\"Fatorial vale: {n}!={f}\")"
   ]
  },
  {
   "cell_type": "markdown",
   "id": "b76c4939-4690-4560-bbe8-4c01f3a62f67",
   "metadata": {},
   "source": [
    "18)Faça um programa que, dado um conjunto de N números, determine o menor valor, o maior valor e a soma dos valores."
   ]
  },
  {
   "cell_type": "code",
   "execution_count": null,
   "id": "132241ce-baf3-4f10-b8b0-206d60b16837",
   "metadata": {},
   "outputs": [],
   "source": [
    "a = \"s\"\n",
    "soma = 0\n",
    "X = int(input(\"Digite um valor qualquer: \"))\n",
    "Nmin = X\n",
    "NMax = X\n",
    "soma += X\n",
    "\n",
    "while a.upper() == \"S\":\n",
    "    print()\n",
    "    X = int(input(\"Digite um valor qualquer: \"))\n",
    "    if(X<Nmin):\n",
    "        Nmin = X\n",
    "    if(X>NMax):\n",
    "        NMax = X\n",
    "    soma += X\n",
    "\n",
    "    a = input(\"Deseja continuar? S para sim ou N para não:\")\n",
    "\n",
    "print(f\"A soma dos números digitados vale {soma}, o maior número digitado foi {NMax} e o menor {Nmin}.\")"
   ]
  },
  {
   "cell_type": "markdown",
   "id": "b2684b58-b44a-41c5-9aa8-db2b7a90eda9",
   "metadata": {},
   "source": [
    "19)Altere o programa anterior para que ele aceite apenas números entre 0 e 1000."
   ]
  },
  {
   "cell_type": "code",
   "execution_count": null,
   "id": "de51efe9-8ebd-4fe1-99ef-10dbfaf7f5c9",
   "metadata": {},
   "outputs": [],
   "source": [
    "a = \"s\"\n",
    "soma = 0\n",
    "X = int(input(\"Digite um valor entre 0 e 1000: \"))\n",
    "\n",
    "while X<0 or X>1000:\n",
    "    print(\"Valor incorreto\")\n",
    "    X = int(input(\"Digite um valor entre 0 e 1000: \"))\n",
    "\n",
    "Nmin = X\n",
    "NMax = X\n",
    "soma += X\n",
    "\n",
    "while a.upper() == \"S\":\n",
    "    print()\n",
    "    X = int(input(\"Digite um valor entre 0 e 1000: \"))\n",
    "    \n",
    "    while X<0 or X>1000:\n",
    "        print(\"Valor incorreto\")\n",
    "        X = int(input(\"Digite um valor entre 0 e 1000: \"))\n",
    "    \n",
    "    if(X<Nmin):\n",
    "        Nmin = X\n",
    "    if(X>NMax):\n",
    "        NMax = X\n",
    "    soma += X\n",
    "\n",
    "    a = input(\"Deseja continuar? S para sim ou N para não:\")\n",
    "\n",
    "print(f\"A soma dos números digitados vale {soma}, o maior número digitado foi {NMax} e o menor {Nmin}.\")"
   ]
  },
  {
   "cell_type": "markdown",
   "id": "d50d66d3-1e2f-4abe-893b-8f3d73fc4733",
   "metadata": {},
   "source": [
    "20)Altere o programa de cálculo do fatorial, permitindo ao usuário calcular o fatorial várias vezes e limitando o fatorial a números inteiros positivos e menores que 16."
   ]
  },
  {
   "cell_type": "code",
   "execution_count": null,
   "id": "0a553d0d-9057-432a-902e-a6ef9c3a8789",
   "metadata": {},
   "outputs": [],
   "source": [
    "A = \"S\"\n",
    "while (A == \"S\"):\n",
    "    n = int(input(\"Digite um número inteiro positivo e menor que 16: \"))\n",
    "    f = 1\n",
    "    c = 1\n",
    "\n",
    "    while(n>16 or n<1):\n",
    "        print('número incorreto, digite novamente: ')\n",
    "        n = int(input(\"Digite um número inteiro positivo e menor que 16: \"))\n",
    "\n",
    "    while c <= n:\n",
    "        f = f*c\n",
    "        c += 1\n",
    "    print(f\"Fatorial vale: {n}!={f}\")\n",
    "    A = input(\"Deseja Continuar? S para Sim e N para Não: \").upper()\n",
    "\n",
    "print(\"end\")"
   ]
  },
  {
   "cell_type": "markdown",
   "id": "7d149386-20c9-4054-ad15-d92b898086eb",
   "metadata": {},
   "source": [
    "21)Faça um programa que peça um número inteiro e determine se ele é ou não um número primo. Um número primo é aquele que é divisível somente por ele mesmo e por 1"
   ]
  },
  {
   "cell_type": "code",
   "execution_count": null,
   "id": "04c5fe48-c48e-47aa-8629-141bb8207a31",
   "metadata": {},
   "outputs": [],
   "source": [
    "n = int(input(\"Digite um número inteiro qualquer: \"))\n",
    "\n",
    "if n > 1:\n",
    "    for i in range(2, n):\n",
    "        if n % i == 0:\n",
    "            print(n, 'não é primo')\n",
    "            break\n",
    "    else:\n",
    "        print(n, 'é primo')"
   ]
  },
  {
   "cell_type": "markdown",
   "id": "5fa0a7ba-4b6e-44d5-bc7b-3e344dbd04de",
   "metadata": {},
   "source": [
    "22)Altere o programa de cálculo dos números primos, informando, caso o número não seja primo, por quais número ele é divisível."
   ]
  },
  {
   "cell_type": "code",
   "execution_count": null,
   "id": "6ca338e8-fede-4296-8477-500be5dc4a3b",
   "metadata": {},
   "outputs": [],
   "source": [
    "n = int(input(\"Digite um número inteiro qualquer: \"))\n",
    "lista = [1]\n",
    "if n > 1:\n",
    "    for i in range(2, n):\n",
    "        if n % i == 0:\n",
    "            print(n, 'não é primo')\n",
    "            for i in range(2,n):\n",
    "                if n % i == 0:\n",
    "                    lista.append(i)\n",
    "            lista.append(n)\n",
    "            print(f\"{n} é divisível por {lista}.\")\n",
    "            break\n",
    "    else:\n",
    "        print(n, 'é primo')"
   ]
  },
  {
   "cell_type": "markdown",
   "id": "527a3cf8-e4ca-4b46-a82a-de287c361f77",
   "metadata": {},
   "source": [
    "23)Faça um programa que mostre todos os primos entre 1 e N sendo N um número inteiro fornecido pelo usuário. O programa deverá mostrar também o número de divisões que ele executou para encontrar os números primos. Serão avaliados o funcionamento, o estilo e o número de testes (divisões) executados."
   ]
  },
  {
   "cell_type": "code",
   "execution_count": null,
   "id": "9c07daf2-ea3f-441c-b432-cd896717bc51",
   "metadata": {},
   "outputs": [],
   "source": [
    "X = int(input(\"Digite um número inteiro maior que 1: \"))\n",
    "div = 0\n",
    "\n",
    "while X<=1:\n",
    "    print(\"Número incorreto\")\n",
    "    X = int(input(\"Digite um número inteiro maior que 1: \"))\n",
    "\n",
    "for i in range(1,X+1):\n",
    "    \n",
    "    for T in range(2, i):\n",
    "        div+=1\n",
    "        if i % T == 0:\n",
    "            print(i, 'não é número primo')\n",
    "            break\n",
    "    else:\n",
    "        print(i, 'é número primo')\n",
    "print()\n",
    "print(f\"{div} divisões feitas.\")"
   ]
  },
  {
   "cell_type": "markdown",
   "id": "fb013316-c3ca-41ce-a821-2ebe515d30b1",
   "metadata": {},
   "source": [
    "24)Faça um programa que calcule o mostre a média aritmética de N notas."
   ]
  },
  {
   "cell_type": "code",
   "execution_count": null,
   "id": "856e83b0-c9b4-4eb0-bb11-ce6723d4cb97",
   "metadata": {},
   "outputs": [],
   "source": [
    "a = \"s\"\n",
    "soma = 0\n",
    "nums = 0\n",
    "while a.upper() == \"S\":\n",
    "    print()\n",
    "    soma += int(input(\"Digite uma nota: \"))\n",
    "    nums += 1\n",
    "    \n",
    "    a = input(\"Deseja continuar? S para sim ou N para não:\")\n",
    "    \n",
    "\n",
    "print(f\"A média aritmética das notas vale: {soma/nums}\")"
   ]
  },
  {
   "cell_type": "markdown",
   "id": "a9797809-c185-4710-b729-6255a5cb0491",
   "metadata": {},
   "source": [
    "25)Faça um programa que peça para n pessoas a sua idade, ao final o programa devera verificar se a média de idade da turma varia entre 0 e 25,26 e 60 e maior que 60; e então, dizer se a turma é jovem, adulta ou idosa, conforme a média calculada"
   ]
  },
  {
   "cell_type": "code",
   "execution_count": null,
   "id": "ca89723b-768f-4ff2-a46e-d8a0fd917bbd",
   "metadata": {},
   "outputs": [],
   "source": [
    "a = \"s\"\n",
    "soma = 0\n",
    "pessoas = 0\n",
    "while a.upper() == \"S\":\n",
    "    print()\n",
    "    soma += int(input(\"Digite a idade de uma pessoa da turma: \"))\n",
    "    pessoas += 1\n",
    "    \n",
    "    a = input(\"Deseja continuar? S para sim ou N para não:\")\n",
    "\n",
    "if(soma/pessoas<=25):\n",
    "    print(\"Turma com média de idades jovem\")\n",
    "elif(soma/pessoas<=60):\n",
    "    print(\"Turma com média de idades adulta\")\n",
    "else:\n",
    "    print(\"Turma com média de idades idosa\")\n"
   ]
  },
  {
   "cell_type": "markdown",
   "id": "25d1d1f7-4969-46bf-b298-71adf66adb91",
   "metadata": {},
   "source": [
    "26)Numa eleição existem três candidatos. Faça um programa que peça o número total de eleitores. Peça para cada eleitor votar e ao final mostrar o número de votos de cada candidato.\n"
   ]
  },
  {
   "cell_type": "code",
   "execution_count": null,
   "id": "4e823117-f7bc-41e8-9e27-dd7d330b1ce5",
   "metadata": {},
   "outputs": [],
   "source": [
    "Et = int(input(\"Digite o número total de eleitores: \"))\n",
    "A = \"\"\n",
    "C1 = 0\n",
    "C2 = 0\n",
    "C3 = 0\n",
    "for i in range(0,Et):\n",
    "    A = input(\"Digite o código de seu candidato(C1/C2/C3): \")\n",
    "    \n",
    "    while A.upper() != \"C1\" and A.upper() != \"C2\" and A.upper() != \"C3\":\n",
    "        print(\"Código de candidato incorreto\")\n",
    "        A = input(\"Digite o código de seu candidato(C1/C2/C3): \")\n",
    "\n",
    "    if(A.upper() == \"C1\"):\n",
    "        print(\"Voto computado!\")\n",
    "        print()\n",
    "        C1 += 1\n",
    "    elif(A.upper() == \"C2\"):\n",
    "        print(\"Voto computado!\")\n",
    "        print()\n",
    "        C2 += 1\n",
    "    elif(A.upper() == \"C3\"):\n",
    "        print(\"Voto computado!\")\n",
    "        print()\n",
    "        C3 += 1\n",
    "\n",
    "\n",
    "print()\n",
    "print(\"Fim de Votação\")\n",
    "print(\"Imprimindo resultados...\")\n",
    "print(f\"Candidato C1: {C1} votos\")\n",
    "print(f\"Candidato C2: {C2} votos\")\n",
    "print(f\"Candidato C3: {C3} votos\")\n",
    "print()"
   ]
  },
  {
   "cell_type": "markdown",
   "id": "661f69c9-23b2-4a82-b4b7-7dda23977ee5",
   "metadata": {},
   "source": [
    "27)Faça um programa que calcule o número médio de alunos por turma. Para isto, peça a quantidade de turmas e a quantidade de alunos para cada turma. As turmas não podem ter mais de 40 alunos."
   ]
  },
  {
   "cell_type": "code",
   "execution_count": null,
   "id": "53c95f36-1f0d-4dd8-a403-49e4071764d3",
   "metadata": {},
   "outputs": [],
   "source": [
    "NT = int(input(\"Digite o número de turmas: \"))\n",
    "Soma = 0\n",
    "X = 0\n",
    "for i in range(1,NT+1):\n",
    "    print(f\"Registrando {i}º turma:\")\n",
    "    X = int(input(\"Digite a quantidade de alunos na turma atual: \"))\n",
    "    while X>40 or X<1:\n",
    "        print(\"Turma com alunos incompatíveis, digite novamente:\")\n",
    "        X = int(input(\"Digite a quantidade de alunos na turma atual: \"))\n",
    "\n",
    "    Soma += X\n",
    "\n",
    "print(f\"A média de alunos das {NT} turmas vale {Soma/NT}\")"
   ]
  },
  {
   "cell_type": "markdown",
   "id": "a5fb3b43-d8db-4b63-a87d-8dbe08dd7869",
   "metadata": {},
   "source": [
    "28)Faça um programa que calcule o valor total investido por um colecionador em sua coleção de CDs e o valor médio gasto em cada um deles. \n",
    "O usuário deverá informar a quantidade de CDs e o valor para em cada um."
   ]
  },
  {
   "cell_type": "code",
   "execution_count": null,
   "id": "1abd6f32-c780-42f9-ac0d-5c04db37e216",
   "metadata": {},
   "outputs": [],
   "source": [
    "Cds = int(input(\"Digite o número de CDs na coleção: \"))\n",
    "Soma = 0\n",
    "X = 0\n",
    "for i in range(1,Cds+1):\n",
    "    print(f\"Registrando {i}º cd:\")\n",
    "    X = int(input(\"Digite o valor do cd atual em reais: \"))\n",
    "    \n",
    "    while X<1:\n",
    "        print(\"Valor incorreto\")\n",
    "        X = int(input(\"Digite o valor do cd atual em reais: \"))\n",
    "\n",
    "    Soma += X\n",
    "\n",
    "print()\n",
    "print(f\"A coleção tem valor total de R${Soma} e o valor médio gasto por cada CD é de R${Soma/Cds}.\")\n",
    "print()\n",
    "print(\"end\")"
   ]
  },
  {
   "cell_type": "markdown",
   "id": "f5be7d54-c65d-4c34-aae7-2d6019530e37",
   "metadata": {},
   "source": [
    "29)O Sr. Manoel Joaquim possui uma grande loja de artigos de R$ 1,99, com cerca de 10 caixas. Para agilizar o cálculo de quanto cada cliente deve pagar ele desenvolveu um tabela que contém o número de itens que o cliente comprou e ao lado o valor da conta. Desta forma a atendente do caixa precisa apenas contar quantos itens o cliente está levando e olhar na tabela de preços. Você foi contratado para desenvolver o programa que monta esta tabela de preços, que conterá os preços de 1 até 50 produtos, conforme o exemplo abaixo:\n",
    "\n",
    "Lojas Quase Dois - Tabela de preços.\n",
    "1 - R$ 1.99\n",
    "2 - R$ 3.98\n",
    "...\n",
    "50 - R$ 99.50"
   ]
  },
  {
   "cell_type": "code",
   "execution_count": null,
   "id": "1d97bc84-284b-4a52-9067-4f477b9aa28e",
   "metadata": {},
   "outputs": [],
   "source": [
    "print(\"Lojas Quase Dois - Tabela de preços.\")\n",
    "for i in range(1,51):\n",
    "    print(f\"{i} - R$ {(i*1.99)}\")\n",
    "    print()"
   ]
  },
  {
   "cell_type": "markdown",
   "id": "a5556193-cce6-493d-9d74-c1cd51eb49e4",
   "metadata": {},
   "source": [
    "30)O Sr. Manoel Joaquim acaba de adquirir uma panificadora e pretende implantar a metodologia da tabelinha, que já é um sucesso na sua loja de 1,99. Você foi contratado para desenvolver o programa que monta a tabela de preços de pães, de 1 até 50 pães, a partir do preço do pão informado pelo usuário, conforme o exemplo abaixo:\n",
    "\n",
    "Preço do pão: R$ 0.18\n",
    "Panificadora Pão de Ontem - Tabela de preços\n",
    "1 - R$ 0.18\n",
    "2 - R$ 0.36\n",
    "...\n",
    "50 - R$ 9.00"
   ]
  },
  {
   "cell_type": "code",
   "execution_count": null,
   "id": "a89375b2-8586-4d9a-920b-22149e2ee5be",
   "metadata": {},
   "outputs": [],
   "source": [
    "p = float(input(\"Digite o valor pago pela unidade de pão em reais: R$\"))\n",
    "print(\"Panificadora Pão de Ontem - Tabela de preços\")\n",
    "for i in range(1,51):\n",
    "    print(f\"{i} - R$ {round((i*p),2)}\")\n",
    "    print()"
   ]
  },
  {
   "cell_type": "markdown",
   "id": "d1f31ecc-9a1d-4e50-8ab8-e0bebe7f6c60",
   "metadata": {},
   "source": [
    "31)O Sr. Manoel Joaquim expandiu seus negócios para além dos negócios de 1,99 e agora possui uma loja de conveniências. Faça um programa que implemente uma caixa registradora rudimentar. O programa deverá receber um número desconhecido de valores referentes aos preços das mercadorias. Um valor zero deve ser informado pelo operador para indicar o final da compra. \n",
    "O programa deve então mostrar o total da compra e perguntar o valor em dinheiro que o cliente forneceu, para então calcular e mostrar o valor do troco. Após esta operação, o programa deverá voltar ao ponto inicial, para registrar a próxima compra. A saída deve ser conforme o exemplo abaixo:\n",
    "\r\n",
    "Lojas Tabajara \r\n",
    "Produto 1: R$ 2.20\r\n",
    "Produto 2: R$ 5.80\r\n",
    "Produto 3: R$ 0\r\n",
    "Total: R$ 9.00\r\n",
    "Dinheiro: R$ 20.00\r\n",
    "Troco: R.00\r\n",
    "..."
   ]
  },
  {
   "cell_type": "code",
   "execution_count": null,
   "id": "635bb0d1-a3c7-4bf8-b84d-dc31f64eb6ca",
   "metadata": {},
   "outputs": [],
   "source": [
    "listaP = []\n",
    "prod = 1\n",
    "soma = 0\n",
    "d = 0\n",
    "a = \"s\"\n",
    "while a.upper() == \"S\":\n",
    "    listaP = []\n",
    "    soma = 0\n",
    "    prod = 1\n",
    "    while prod != 0:\n",
    "        prod = float(input(\"Digite o valor do produto: R$\"))\n",
    "        if(prod!=0):\n",
    "            listaP.append(prod)\n",
    "        soma += prod\n",
    "\n",
    "    for i in range(0,len(listaP)):\n",
    "        print(f\"Produto {i+1}: R${listaP[i]}\")\n",
    "\n",
    "    print(f\"Total: R${soma}\")\n",
    "    print()\n",
    "    d = float(input(\"Digite o valor de dinheiro pago pelo cliente em reais: R$\"))\n",
    "    \n",
    "    while d<soma:\n",
    "        print(\"Valor insuficiente\")\n",
    "        d = float(input(\"Digite o valor de dinheiro pago pelo cliente em reais: R$\"))\n",
    "    print()\n",
    "    print(f\"Troco: R${d-soma}\")\n",
    "    print(\"--------------------------------------\")\n",
    "    a = input(\"Nova Compra? S - Sim N - Não: \")\n",
    "\n",
    "print(\"end\")"
   ]
  },
  {
   "cell_type": "markdown",
   "id": "5eb5d7ae-2e1c-440c-a13c-c82ac26ac245",
   "metadata": {},
   "source": [
    "32)Faça um programa que calcule o fatorial de um número inteiro fornecido pelo usuário. Ex.: 5!=5.4.3.2.1=120. A saída deve ser conforme o exemplo abaixo:\r\n",
    "Fatorial de: 5\r\n",
    "5! =  5 . 4 . 3 . 2 . 1 = 120"
   ]
  },
  {
   "cell_type": "code",
   "execution_count": null,
   "id": "d7822f0d-a039-4d2f-b761-e3d1a00ad321",
   "metadata": {},
   "outputs": [],
   "source": [
    "num = int(input(\"Digite um número inteiro: \"))\n",
    "\n",
    "for i in range(num,1,-1):\n",
    "    print(i, end = \" x \")\n",
    "    \n",
    "c = 1\n",
    "fact = 1\n",
    "while c <= num:\n",
    "    fact = fact*c\n",
    "    c += 1\n",
    "\n",
    "print(1, end = \" \")\n",
    "print(f\"= {fact}\")"
   ]
  },
  {
   "cell_type": "markdown",
   "id": "57e4eeed-e3df-489c-86e8-32c6d17a9293",
   "metadata": {},
   "source": [
    "33)O Departamento Estadual de Meteorologia lhe contratou para desenvolver um programa que leia as um conjunto indeterminado de temperaturas, e informe ao final a menor e a maior temperaturas informadas, bem como a média das temperaturas."
   ]
  },
  {
   "cell_type": "code",
   "execution_count": null,
   "id": "a2ac7124-08ed-4f00-867a-5d1ae4a14fca",
   "metadata": {},
   "outputs": [],
   "source": [
    "soma = 0\n",
    "num = 1\n",
    "temp = 0.0\n",
    "tempMax = 0 \n",
    "a = \"s\"\n",
    "tempMin = float(input(\"Digite uma temperatura em graus celsius: ºC\"))\n",
    "tempMax = tempMin\n",
    "soma += tempMin \n",
    "while a.upper() == \"S\":\n",
    "    temp = float(input(\"Digite uma temperatura em graus celsius: ºC\"))\n",
    "    num += 1\n",
    "    soma += temp\n",
    "    print()\n",
    "    if(temp>tempMax):\n",
    "        tempMax = temp\n",
    "    if(temp<tempMin):\n",
    "        tempMin = temp\n",
    "    a = input(\"Deseja continuar? S para Sim e N para Não: \")\n",
    "    print()\n",
    "\n",
    "print(f\"A maior temperatura foi ºC{tempMax} e a menor ºC{tempMin}. A média de temperaturas vale: ºC{round((soma/num),2)}\")"
   ]
  },
  {
   "cell_type": "markdown",
   "id": "8adf7da9-4bc0-4d84-b674-e9e7d26f4835",
   "metadata": {},
   "source": [
    "34)Os números primos possuem várias aplicações dentro da Computação, por exemplo na Criptografia. Um número primo é aquele que é divisível apenas por um e por ele mesmo. Faça um programa que peça um número inteiro e determine se ele é ou não um número primo. (questão repetida?)"
   ]
  },
  {
   "cell_type": "code",
   "execution_count": null,
   "id": "c10d821e-60ad-4f09-9346-ee185d0fa3cf",
   "metadata": {},
   "outputs": [],
   "source": [
    "num = int(input(\"Digite um número inteiro qualquer: \"))\n",
    "\n",
    "if num > 1:\n",
    "    for i in range(2, num):\n",
    "        if num % i == 0:\n",
    "            print(num, 'não é primo')\n",
    "            break\n",
    "    else:\n",
    "        print(num, 'é primo')"
   ]
  },
  {
   "cell_type": "markdown",
   "id": "4505dad0-da81-46c9-8e54-e98a10d73924",
   "metadata": {},
   "source": [
    "35)Encontrar números primos é uma tarefa difícil. Faça um programa que gera uma lista dos números primos existentes entre 1 e um número inteiro informado pelo usuário."
   ]
  },
  {
   "cell_type": "code",
   "execution_count": null,
   "id": "c64d80f6-f71c-4bda-9a69-b3f4fc787b2b",
   "metadata": {},
   "outputs": [],
   "source": [
    "X = int(input(\"Digite um número inteiro maior que 1: \"))\n",
    "\n",
    "while X<=1:\n",
    "    print(\"Número incorreto\")\n",
    "    X = int(input(\"Digite um número inteiro maior que 1: \"))\n",
    "\n",
    "for i in range(1,X+1):\n",
    "    \n",
    "    for T in range(2, i):\n",
    "        if i % T == 0:\n",
    "            print(i, 'não é número primo')\n",
    "            break\n",
    "    else:\n",
    "        print(i, 'é número primo')\n",
    "print()"
   ]
  },
  {
   "cell_type": "markdown",
   "id": "aa163931-67e8-4d17-a24a-0915a8a45a30",
   "metadata": {},
   "source": [
    "36)Desenvolva um programa que faça a tabuada de um número qualquer inteiro que será digitado pelo usuário, mas a tabuada não deve necessariamente iniciar em 1 e terminar em 10, o valor inicial e final devem ser informados também pelo usuário, conforme exemplo abaixo:\r\n",
    "Montar a tabuada de: 5\r\n",
    "Começar por: 4\r\n",
    "Terminar em: 7\r\n",
    "\r\n",
    "Vou montar a tabuada de 5 começando em 4 e terminando em 7:\r\n",
    "5 X 4 = 20\r\n",
    "5 X 5 = 25\r\n",
    "5 X 6 = 30\r\n",
    "5 X 7 = 35\r\n",
    "Obs: Você deve verificar se o usuário não digitou o final menor que o inicial."
   ]
  },
  {
   "cell_type": "code",
   "execution_count": null,
   "id": "c01a59d2-3d76-4097-a729-d99ba2700cb6",
   "metadata": {},
   "outputs": [],
   "source": [
    "tab = int(input(\"Montar a tabudade de: \"))\n",
    "Ini = int(input(\"Começar por: \"))\n",
    "Fim = int(input(\"Terminar em: \"))\n",
    "while Fim<=Ini:\n",
    "    print(\"Valores incorretos\")\n",
    "    Ini = int(input(\"Começar por: \"))\n",
    "    Fim = int(input(\"Terminar em: \"))\n",
    "\n",
    "print(f'Montando a tabuada de {tab} começando em {Ini} e terminando em {Fim}:')\n",
    "\n",
    "for i in range(Ini,Fim+1):\n",
    "    print(f\"{tab} X {i} = {tab*i}\")\n",
    "\n",
    "print('end')"
   ]
  },
  {
   "cell_type": "markdown",
   "id": "4d5b3a94-49e8-4776-985a-0c597458fd0b",
   "metadata": {},
   "source": [
    "37)Uma academia deseja fazer um senso entre seus clientes para descobrir: o mais alto, o mais baixo, a mais gordo e o mais magro\n",
    "Para isto você deve fazer um programa que pergunte a cada um dos clientes da academia seu código, sua altura e seu peso. O final da digitação de dados deve ser dada quando o usuário digitar 0 (zero) no campo código. \n",
    "\n",
    "Ao encerrar o programa também deve ser informados os códigos e valores do cliente mais alto, do mais baixo, do mais gordo e do mais magro, além da média das alturas e dos pesos dos clientes"
   ]
  },
  {
   "cell_type": "code",
   "execution_count": null,
   "id": "9e396cd8-995a-4dd2-bac8-bbe8d24cd20a",
   "metadata": {},
   "outputs": [],
   "source": [
    "sumHeight = 0\n",
    "sumWeight = 0\n",
    "clients = 0\n",
    "\n",
    "codeMaxH = 0\n",
    "codeMaxW = 0\n",
    "codeMinH = 0\n",
    "codeMinW = 0\n",
    "\n",
    "Hmax = 0\n",
    "Hmin = 0\n",
    "Wmax = 0\n",
    "Wmin = 0\n",
    "\n",
    "code = 1\n",
    "codelist = []\n",
    "height = 0\n",
    "weight = 0\n",
    "\n",
    "while code != 0:\n",
    "    print(\"---------------------------------------\")\n",
    "    \n",
    "    code = int(input(\"Digite seu código de cliente: \"))\n",
    "    \n",
    "    if code == 0:\n",
    "        break\n",
    "    else:\n",
    "        \n",
    "        while(code in codelist):\n",
    "            print('código já computado')\n",
    "            code = int(input(\"Digite seu código de cliente: \"))\n",
    "        \n",
    "        codelist.append(code)\n",
    "        clients += 1\n",
    "        height = float(input(\"Digite sua altura em Metros: \"))\n",
    "        sumHeight += height\n",
    "        weight = float(input(\"Digite seu peso em quilos: \"))\n",
    "        sumWeight += weight\n",
    "\n",
    "        if(height>Hmax):\n",
    "            Hmax = height\n",
    "            codeMaxH = code\n",
    "        \n",
    "        if(Hmin==0):\n",
    "            Hmin=height\n",
    "            codeMinH = code\n",
    "        elif(height<Hmin):\n",
    "            Hmin = height\n",
    "            codeMinH = code\n",
    "        \n",
    "        if(weight>Wmax):\n",
    "            Wmax = weight\n",
    "            codeMaxW = code\n",
    "            \n",
    "        if(Wmin==0):\n",
    "            Wmin = weight\n",
    "            codeMinW = code\n",
    "        elif(weight<Wmin):\n",
    "            Wmin = weight\n",
    "            codeMinW = code\n",
    "\n",
    "print('Estimando dados...')\n",
    "\n",
    "print(f\"Cliente mais alto:   Código {codeMaxH}, altura {Hmax}m\")\n",
    "print(f\"Cliente mais baixo:  Código {codeMinH}, altura {Hmin}m\")\n",
    "print(f\"Cliente mais pesado: Código {codeMaxW}, peso   {Wmax}Kgs\")\n",
    "print(f\"Cliente mais magro:  Código {codeMinW}, peso   {Wmin}Kgs\")\n",
    "print()\n",
    "print(f\"A média das alturas é {round((sumHeight/clients),2)}m e a média dos pesos é {round((sumWeight/clients),2)}Kgs\")\n",
    "print()\n",
    "print('end')"
   ]
  },
  {
   "cell_type": "markdown",
   "id": "a3dfd58a-b2d0-40f3-86fd-0746a61dffb4",
   "metadata": {},
   "source": [
    "38)Um funcionário de uma empresa recebe aumento salarial anualmente: \n",
    "Sabe-se que:\r\n",
    "Esse funcionário foi contratado em 1995, com salário inicial de R$ 1.000,00;\r\n",
    "Em 1996 recebeu aumento de 1,5% sobre seu salário inicial;\r\n",
    "A partir de 1997 (inclusive), os aumentos salariais sempre correspondem DOBRO ro do percentual do ano anterio\n",
    "r. Faça um programa que determine o salário atual desse funcionário. Após concluir isto, altere o programa permitindo que o usuário digite o salário inicial do funcionário."
   ]
  },
  {
   "cell_type": "code",
   "execution_count": null,
   "id": "211944fc-7979-4e8a-8da4-ffa2dc9abc09",
   "metadata": {},
   "outputs": [],
   "source": [
    "ini = int(input(\"Digite o salário inicial do funcionário:\"))\n",
    "perc = 0.015\n",
    "print('Percentual:',perc)\n",
    "for i in range(1996,2024+1):\n",
    "    ini = ini + (ini*perc)\n",
    "    print(f\"Ano: {i} Salário: {round(ini,2)}\")\n",
    "    perc = (perc*2)\n",
    "    print('Novo Percentual:', perc)\n",
    "    print()"
   ]
  },
  {
   "cell_type": "markdown",
   "id": "7adfcd31-4a47-41b0-9e20-b45c08ebb7fd",
   "metadata": {},
   "source": [
    "39)Faça um programa que leia dez conjuntos de dois valores, o primeiro representando o número do aluno e o segundo representando a sua altura em centímetros. Encontre o aluno mais alto e o mais baixo. Mostre o número do aluno mais alto e o número do aluno mais baixo, junto com suas alturas."
   ]
  },
  {
   "cell_type": "code",
   "execution_count": null,
   "id": "0a10e49e-aff0-4fbb-858e-1cd069495da9",
   "metadata": {},
   "outputs": [],
   "source": [
    "numMax = 0\n",
    "numMin = 0\n",
    "num = 0\n",
    "\n",
    "hMax = 0\n",
    "hMin = 0\n",
    "h = 0\n",
    "for i in range(0,10):\n",
    "    num = int(input(\"Digite o número do aluno:\"))\n",
    "    h = float(input(\"Digite a altura em metros do aluno:\"))\n",
    "\n",
    "    if(h>hMax):\n",
    "        hMax = h\n",
    "        numMax = num\n",
    "\n",
    "    if(hMin==0):\n",
    "        hMin = h\n",
    "        numMin = num\n",
    "    elif(h<hMin):\n",
    "        hMin = 0\n",
    "        numMin = num\n",
    "    print()\n",
    "\n",
    "print(f'Aluno mais alto: Num {numMax}. Altura {hMax}')\n",
    "print(f'Aluno mais baixo: Num {numMin}. Altura {hMin}')"
   ]
  },
  {
   "cell_type": "markdown",
   "id": "b6477a8c-9978-4e3d-a6a6-6ed8a1d128d6",
   "metadata": {},
   "source": [
    "40)Foi feita uma estatística em cinco cidades brasileiras para coletar dados sobre acidentes de trânsito. Foram obtidos os seguintes dados:\n",
    "Código da cidade;\n",
    "Número de veículos de passeio (em 1999);\n",
    "Número de acidentes de trânsito com vítimas (em 1999). Deseja-se saber:\n",
    "\n",
    "Qual o maior e menor ÍNDICE DE ACIDENTES (MÉDIA) de transito e a que cidade pertence;\n",
    "Qual a média de veículos nas cinco cidades juntas;\n",
    "Qual a média de acidentes de trânsito nas cidades com menos de 2.000 veículos de passeio.\n"
   ]
  },
  {
   "cell_type": "code",
   "execution_count": null,
   "id": "3d58864f-3e47-4b21-a639-40e6e731e07a",
   "metadata": {},
   "outputs": [],
   "source": [
    "code = 0\n",
    "codeMax = 0\n",
    "codeMin = 0\n",
    "numV = 0\n",
    "numAc = 0\n",
    "AcMax = 0\n",
    "AcMin = 0\n",
    "sumV = 0\n",
    "sumAc2k = 0\n",
    "for i in range(0,5):\n",
    "    print(\"-------------------------------------------------------------\")\n",
    "    code = int(input(\"Digite o código da cidade: \"))\n",
    "    numV = int(input(\"Digite o número de veículos de passeio: \"))\n",
    "    numAc = int(input(\"Digite o número de acidentes de trânsito com vítimas: \"))\n",
    "    sumV += numV\n",
    "    \n",
    "    \n",
    "    if(numV<2000):\n",
    "        sumAc2k += numAc/numV\n",
    "    \n",
    "    if((numAc/numV)>AcMax):\n",
    "        AcMax = numAc/numV\n",
    "        codeMax = code\n",
    "        \n",
    "    if(AcMin==0):\n",
    "        AcMin=numAc/numV\n",
    "        codeMin = code\n",
    "    elif((numAc/numV)<AcMin):\n",
    "        AcMin=numAc/numV\n",
    "        codeMin = code\n",
    "\n",
    "print(\"computando...\")\n",
    "\n",
    "print(f\"A cidade com o maior índice de acidentes é {codeMax} com {round((AcMax*100),2)}% de acidentes em média.\")\n",
    "print(f\"A cidade com o menor índice de acidentes é {codeMin} com {round((AcMin*100),2)}% de acidentes em média.\")\n",
    "print(f'A média de veículos nas cinco cidades juntas é de {sumV/5} veículos.')\n",
    "print(f'A média de acidentes de trânsito nas cidades com menos de 2000 veículos de passeio é {round((sumAc2k*100),2)}%')"
   ]
  },
  {
   "cell_type": "markdown",
   "id": "6d1f49a7-81e4-4db7-ac01-b0a55e55327e",
   "metadata": {},
   "source": [
    "41)Faça um programa que receba o valor de uma dívida e mostre uma tabela com os seguintes dados: \n",
    "\n",
    "valor da dívida, valor dos juros, quantidade de parcelas e valor da parcela.\r\n",
    "Os juros e a quantidade de parcelas seguem a tabela abaixo\n",
    ":\r\n",
    "Quantidade de Parcela/s  % de Juros sobre o valor inicial da dívida\r\n",
    "1       0\r\n",
    "3       10\r\n",
    "6       15\r\n",
    "9       20\r\n",
    "12 \n",
    "     25\r\n",
    "Exemplo de saída do programa:\r\n",
    "Valor da Dívida Valor dos Juros Quantidade de Parcelas  Valor da Parcela\r\n",
    "R$ 1.000,00     0               1                       R$  1.000,00\r\n",
    "R$ 1.100,00     100             3                       R$    366,00\r\n",
    "R$ 1.150,00     150             6                       R$    191,67"
   ]
  },
  {
   "cell_type": "code",
   "execution_count": null,
   "id": "6250b549-f409-4022-b2ed-5e2951a3b487",
   "metadata": {},
   "outputs": [],
   "source": [
    "divIni = float(input(\"Digite o valor da dívida em reais: R$\"))\n",
    "print('Valor da Dívida|Valor dos Juros|Quantidade de Parcelas|Valor da Parcela')\n",
    "J = 0\n",
    "P = 1\n",
    "sumJ = 0\n",
    "for i in range(1,6):\n",
    "    \n",
    "    if(J==0):\n",
    "        print(f'{divIni}         | R${J}           |   {P} parcela         | R${divIni/P}')\n",
    "        P += 2\n",
    "        J = 5*i\n",
    "    else:\n",
    "        J = 5*i\n",
    "        sumJ = divIni*J/100\n",
    "        div = divIni + (divIni*J/100)\n",
    "        print(f'{round(div,2)}         | R${round(sumJ,2)}       |   {P} parcelas        | R${round((div/P),2)}')\n",
    "        P+=3"
   ]
  },
  {
   "cell_type": "markdown",
   "id": "d7d4d412-fed6-4b43-91e8-e9a4c84abfa4",
   "metadata": {},
   "source": [
    "42)Faça um programa que leia uma quantidade indeterminada de números positivos e conte quantos deles estão nos seguintes intervalos: [0-25], [26-50], [51-75] e [76-100]. A entrada de dados deverá terminar quando for lido um número negativo."
   ]
  },
  {
   "cell_type": "code",
   "execution_count": null,
   "id": "da49107f-324e-4c24-a639-afacf6e2b38e",
   "metadata": {},
   "outputs": [],
   "source": [
    "int1 = 0\n",
    "int2 = 0\n",
    "int3 = 0\n",
    "int4 = 0\n",
    "\n",
    "while True:\n",
    "    num = int(input(\"Digite um número qualquer: \"))\n",
    "    print()\n",
    "    if(num<0):\n",
    "        break\n",
    "    else:\n",
    "        if(0<= num <=25):\n",
    "            int1 += 1\n",
    "        elif(26<= num <=50):\n",
    "            int2 += 1\n",
    "        elif(51<= num <=75):\n",
    "            int3 += 1\n",
    "        elif(76<= num <=100):\n",
    "            int4 += 1\n",
    "\n",
    "print(f'{int1} números estão no intervalo de [0-25]')\n",
    "print(f'{int2} números estão no intervalo de [26-50]')\n",
    "print(f'{int3} números estão no intervalo de [51-75]')\n",
    "print(f'{int4} números estão no intervalo de [76-100]')\n",
    "print('end')"
   ]
  },
  {
   "cell_type": "markdown",
   "id": "dc9559d8-93f2-43fd-9860-da087beb4aff",
   "metadata": {},
   "source": [
    "43)O cardápio de uma lanchonete é o seguinte:\r\n",
    "Especificação   Código  Preço\r\n",
    "Cachorro Quente 100     R$ 1,20\r\n",
    "Bauru Simples   101     R$ 1,30\r\n",
    "Bauru com ovo   102     R$ 1,50\r\n",
    "Hambúrguer      103     R$ 1,20\r\n",
    "Cheeseburguer   104     R$ 1,30\r\n",
    "Refrigerante    105     \n",
    "R$ 1,00\r\n",
    "Faça um programa que leia o código dos itens pedidos e as quantidades desejadas. Calcule e mostre o valor a ser pago por item (preço * quantidade) e o total geral do pedido. Considere que o cliente deve informar quando o pedido deve ser enerrado.\r\n"
   ]
  },
  {
   "cell_type": "code",
   "execution_count": null,
   "id": "519bae4b-81ed-408e-99fd-b7d6e5ab6603",
   "metadata": {},
   "outputs": [],
   "source": [
    "codes = [100,101,102,103,104,105]\n",
    "ped = 0\n",
    "qtd = 0\n",
    "soma = 0\n",
    "while True:\n",
    "    ped = int(input(\"Digite o código do produto: (999 para fechar)\"))\n",
    "    if ped == 999:\n",
    "        break\n",
    "    while ped not in codes:\n",
    "        print(\"Código inválido\")\n",
    "        ped = int(input(\"Digite o código do produto: \"))\n",
    "    print()\n",
    "    qtd = int(input(\"Digite a quantidade desejada: \"))\n",
    "    while qtd<1:\n",
    "        print(\"Quantidade Inválida\")\n",
    "        qtd = int(input(\"Digite a quantidade desejada: \"))\n",
    "    print()\n",
    "    if(ped == codes[0]):\n",
    "        print(f'Pedido de Cachorro Quente: {qtd} x R$1,20 = R${round((qtd*1.20),2)}')\n",
    "        soma += qtd*1.20\n",
    "    elif(ped == codes[1]):\n",
    "        print(f'Pedido de Bauru Simples: {qtd} x R$1,30 = R${round((qtd*1.30),2)}')\n",
    "        soma += qtd*1.30\n",
    "    elif(ped == codes[2]):\n",
    "        print(f'Pedido de Bauru com ovo: {qtd} x R$1,50 = R${round((qtd*1.50),2)}')\n",
    "        soma += qtd*1.50\n",
    "    elif(ped == codes[3]):\n",
    "        print(f'Pedido de Hambúrguer: {qtd} x R$1,20 = R${round((qtd*1.20),2)}')\n",
    "        soma += qtd*1.20\n",
    "    elif(ped == codes[4]):\n",
    "        print(f'Pedido de Cheeseburguer: {qtd} x R$1,30 = R${round((qtd*1.30),2)}')\n",
    "        soma += qtd*1.30\n",
    "    elif(ped == codes[5]):\n",
    "        print(f'Pedido de Refrigerante: {qtd} x R$1,00 = R${round((qtd*1),2)}')\n",
    "        soma += qtd*1\n",
    "    print()\n",
    "    print(f'Valor do pedido: R${round(soma,2)}')\n",
    "    print('------------------------------------')\n",
    "\n",
    "print()\n",
    "print(f'Subtotal do pedido: R${round(soma,2)}')"
   ]
  },
  {
   "cell_type": "markdown",
   "id": "d42002f3-6c1f-40ba-a4f5-a293242af59a",
   "metadata": {},
   "source": [
    "44)Em uma eleição presidencial existem quatro candidatos. Os votos são informados por meio de código. Os códigos utilizados são:\r\n",
    "1 , 2, 3, 4  - Votos para os respectivos candidatos \r\n",
    "(você deve montar a tabela ex: 1 - Jose/ 2- João/etc)\r\n",
    "5 - Voto Nulo\r\n",
    "6 - Voto e Br\n",
    "anco\r\n",
    "Faça um programa que calcule e mostre:\r\n",
    "O total de votos para cada candidato;\r\n",
    "O total de votos nulos;\r\n",
    "O total de votos em branco;\r\n",
    "A percentagem de votos nulos sobre o total de votos;\r\n",
    "A percentagem de votos em branco sobr o total \n",
    "\n",
    "\n",
    "de votos. Para finalizar o conjunto de votos tem-se o valor zero."
   ]
  },
  {
   "cell_type": "code",
   "execution_count": null,
   "id": "0127272a-afdd-4ecf-9188-f8a04700a0b9",
   "metadata": {},
   "outputs": [],
   "source": [
    "# total = 0\n",
    "v1 = 0\n",
    "v2 = 0\n",
    "v3 = 0\n",
    "v4 = 0\n",
    "vN = 0\n",
    "vB = 0\n",
    "vote = 0\n",
    "print('iniciando votação...')\n",
    "while True:\n",
    "    print('VOTAÇÃO ELEITORAL')\n",
    "    print('-----------------')\n",
    "    print('CóDIGO | CANDIDATO')     \n",
    "    print(' 1     | Pitãozinho')\n",
    "    print(' 2     | Joanelson')\n",
    "    print(' 3     | Milton')\n",
    "    print(' 4     | Betinho')\n",
    "    print(' 5     | Voto Nulo')\n",
    "    print(' 6     | Voto Branco')\n",
    "    print()\n",
    "    vote = int(input(\"Digite seu voto:\"))\n",
    "    \n",
    "    while vote not in range(0,7):\n",
    "        print('código de voto incorreto!')\n",
    "        vote = int(input(\"Digite seu voto:\"))\n",
    "    \n",
    "    if(vote == 0):\n",
    "        break\n",
    "    else:\n",
    "        total+=1\n",
    "        if(vote==1):\n",
    "            v1+=1\n",
    "        elif(vote==2):\n",
    "            v2+=1\n",
    "        elif(vote==3):\n",
    "            v3+=1\n",
    "        elif(vote==4):\n",
    "            v4+=1\n",
    "        elif(vote==5):\n",
    "            vN+=1\n",
    "        elif(vote==6):\n",
    "            vB+=1\n",
    "\n",
    "print('votação encerrada')\n",
    "print('RESULTADOS VOTAÇÃO')\n",
    "print('-----------------')\n",
    "print(' VOTOS     | CANDIDATO')     \n",
    "print(f' {v1}     | Pitãozinho')\n",
    "print(f' {v2}     | Joanelson')\n",
    "print(f' {v3}     | Milton')\n",
    "print(f' {v4}     | Betinho')\n",
    "print(f' {vN}     | Voto Nulo')\n",
    "print(f' {vB}     | Voto Branco')\n",
    "print()\n",
    "print(f'Porcentagem de votos nulos sobre o total de votos: {round(((vN/total)*100),2)}%')\n",
    "print(f'Porcentagem de votos brancos sobre o total de votos: {round(((vB/total)*100),2)}%')\n",
    "print()\n",
    "print('end')"
   ]
  },
  {
   "cell_type": "markdown",
   "id": "f2ef6b03-5cfc-4723-b72b-c4c9de1f2616",
   "metadata": {},
   "source": [
    "45)Desenvolver um programa para verificar a nota do aluno em uma prova com 10 questões, \n",
    "o programa deve perguntar ao aluno a resposta de cada questão e ao final comparar com o gabarito da prova e assim calcular o total de acertos e a nota (atribuir 1 ponto por resposta certa). \n",
    "Após cada aluno utilizar o sistema deve ser feita uma pergunta se outro aluno vai utilizar o sistema. Após todos os alunos terem respondido informar:\n",
    "\n",
    "Maior e Menor Acerto;\n",
    "\n",
    "Total de Alunos que utilizaram o sistema;\n",
    "\n",
    "A Média das Notas da Turma.\n",
    "\n",
    "Gabarito da Prova:\n",
    "01 - A\n",
    "02 - B\n",
    "03 - C\n",
    "04 - D\n",
    "05 - E\n",
    "06 - E\n",
    "07 - D\n",
    "08 - C\n",
    "09 - B\n",
    "10 - A\n",
    "\n",
    "Após concluir isto você poderia incrementar o programa permitindo que o professor digite o gabarito da prova antes dos alunos usarem o programa."
   ]
  },
  {
   "cell_type": "code",
   "execution_count": null,
   "id": "d26e8569-5fb9-4388-b613-d11600fd2e5c",
   "metadata": {},
   "outputs": [],
   "source": [
    "max_acerto = 0\n",
    "min_acerto = 0\n",
    "alunos = 0\n",
    "somatorio = 0\n",
    "acerto = 0\n",
    "answer = ''\n",
    "gabarito = []\n",
    "print(\"Computando Gabarito...\")\n",
    "for i in range(0,10):\n",
    "    \n",
    "    print(f'Digite a resposta da questão {i+1}: [A B C D E]',end=\"\")\n",
    "    answer = input()\n",
    "    \n",
    "    while answer.upper() not in ['A','B','C','D','E']:\n",
    "        print('Isso não é uma resposta')\n",
    "        print(f'Digite a resposta da questão {i+1}: [A B C D E]',end=\"\")\n",
    "        answer = input()\n",
    "\n",
    "    gabarito.append(answer.upper())\n",
    "\n",
    "while True:\n",
    "    print()\n",
    "    print(\"iniciando avaliação...\")\n",
    "    acerto = 0\n",
    "    alunos += 1\n",
    "    answer = ''\n",
    "    for i in range(0,10):\n",
    "        print(f'Digite sua resposta para a questão {i+1}:',end=\"\")\n",
    "        answer = input()\n",
    "        \n",
    "        while answer.upper() not in ['A','B','C','D','E']:\n",
    "            print('Isso não é uma resposta')\n",
    "            print(f'Digite sua resposta para a questão {i+1}: [A B C D E]',end=\"\")\n",
    "            answer = input()\n",
    "        \n",
    "        if(answer.upper() == gabarito[i]):\n",
    "            acerto += 1\n",
    "        \n",
    "    print('fim de prova')\n",
    "    print('Outro aluno vai continuar? S para Sim e N para não', end = '')\n",
    "    answer = input()\n",
    "\n",
    "    if(min_acerto == 0):\n",
    "        min_acerto = acerto\n",
    "    elif(acerto<min_acerto):\n",
    "        min_acerto = acerto\n",
    "        \n",
    "    if(acerto>max_acerto):\n",
    "        max_acerto = acerto\n",
    "\n",
    "    somatorio += acerto\n",
    "\n",
    "    if(answer.upper() == 'N' or answer.upper() != 'S'):\n",
    "        break\n",
    "\n",
    "print(\"fim de contabilidade\")\n",
    "print()\n",
    "print(f'A maior quantidade de acertos foi {max_acerto}')\n",
    "print(f'A menor quantidade de acertos foi {min_acerto}')\n",
    "print()\n",
    "print(f'Um total de {alunos} alunos utilizaram o sistema')\n",
    "print(f'A média de notas da turma foi {round(somatorio/alunos,2)}')"
   ]
  },
  {
   "cell_type": "markdown",
   "id": "be5b07d0-bd17-4fe0-8bdb-617dacc26b52",
   "metadata": {},
   "source": [
    "46)Em uma competição de salto em distância cada atleta tem direito a cinco saltos. No final da série de saltos de cada atleta, o melhor e o pior resultados são eliminados. O seu resultado fica sendo a média dos três valores restantes. Você deve fazer um programa que receba \n",
    "o nome e as cinco distâncias alcançadas pelo atleta em seus saltos e depois informe a média dos saltos conforme a descrição acima informada \n",
    "(retirar o melhor e o pior salto e depois calcular a média). \n",
    "Faça uso de uma lista para armazenar os saltos. Os saltos são informados na ordem da execução, portanto não são ordenados. \n",
    "O programa deve ser encerrado quando não for informado o nome do atleta. A saída do programa deve ser conforme o exemplo abaixo:\n",
    "Atleta: Rodrigo Curvêllo\n",
    "\n",
    "Primeiro Salto: 6.5 m\n",
    "Segundo Salto: 6.1 m\n",
    "Terceiro Salto: 6.2 m\n",
    "Quarto Salto: 5.4 m\n",
    "Quinto Salto: 5.3 m\n",
    "\n",
    "Melhor salto:  6.5 m\n",
    "Pior salto: 5.3 m\n",
    "Média dos demais saltos: 5.9 m\n",
    "\n",
    "Resultado final:\n",
    "Rodrigo Curvêllo: 5.9 m"
   ]
  },
  {
   "cell_type": "code",
   "execution_count": null,
   "id": "cff09879-eaed-43ac-9579-d4799612a206",
   "metadata": {},
   "outputs": [],
   "source": [
    "saltos = []\n",
    "media = 0\n",
    "soma = 0\n",
    "nome = ''\n",
    "nota = 0.0\n",
    "while True:\n",
    "    nome = input('Digite o nome do atleta:')\n",
    "    if(nome.strip() == ''):\n",
    "        break\n",
    "    soma = 0\n",
    "    media = 0\n",
    "    saltos.clear()\n",
    "    for i in range(0,5):\n",
    "        nota = float(input(f\"Digite a distância do {i+1}º salto:\"))\n",
    "        \n",
    "        while (nota<0 or nota>10):\n",
    "            print('nota invalida')\n",
    "            nota = float(input(f\"Digite a distância do {i+1}º salto: [0-10]\"))\n",
    "        \n",
    "        saltos.append(nota)\n",
    "    \n",
    "    print(f'Atleta: {nome}')\n",
    "    print()\n",
    "    print(f'Primeiro Salto:  {saltos[0]}m')\n",
    "    print(f'Segundo Salto:  {saltos[1]}m')\n",
    "    print(f'Terceiro Salto:  {saltos[2]}m')\n",
    "    print(f'Quarto Salto:  {saltos[3]}m')\n",
    "    print(f'Quinto Salto:  {saltos[4]}m')\n",
    "    print()\n",
    "    print(f'Melhor Salto: {max(saltos)}m')\n",
    "    print(f'Piorr Salto: {min(saltos)}m')\n",
    "    media = sum(saltos) - (max(saltos) + min(saltos))\n",
    "    print(f'Média dos demais Saltos: {round(media/3,1)}m')\n",
    "    print()\n",
    "    print('Resultado Final:')\n",
    "    print(f'{nome}: {round(media/3,1)}m')"
   ]
  },
  {
   "cell_type": "markdown",
   "id": "dee06df9-9709-45e3-9b7a-c0bceecf5d97",
   "metadata": {},
   "source": [
    "47)Em uma competição de ginástica, cada atleta recebe votos de sete jurados. A melhor e a pior nota são eliminadas. A sua nota fica sendo a média dos votos restantes. Você deve fazer um programa que receba o nome do ginasta e as notas dos sete jurados alcançadas pelo atleta em sua apresentação e depois informe a sua média, conforme a descrição acima informada (retirar o melhor e o pior salto e depois calcular a média com as notas restantes). As notas não são informados ordenadas. Um exemplo de saída do programa deve ser conforme o exemplo abaixo:\n",
    "Atleta: Aparecido Parente\n",
    "Nota: 9.9\n",
    "Nota: 7.5\n",
    "Nota: 9.5\n",
    "Nota: 8.5\n",
    "Nota: 9.0\n",
    "Nota: 8.5\n",
    "Nota: 9.7\n",
    "\n",
    "Resultado final:\n",
    "Atleta: Aparecido Parente\n",
    "Melhor nota: 9.9\n",
    "Pior nota: 7.5\n",
    "Média: 9,04"
   ]
  },
  {
   "cell_type": "code",
   "execution_count": null,
   "id": "ed0b5c78-86cf-4026-bbbe-db6dc7d9eed0",
   "metadata": {},
   "outputs": [],
   "source": [
    "nome = input('Digite o nome da atleta:')\n",
    "notas = []\n",
    "nota = 0\n",
    "media = 0\n",
    "for i in range(0,7):\n",
    "    nota = float(input(f\"Digite a nota do {i+1}º jurado: \"))\n",
    "    \n",
    "    while (nota<0 or nota>10):\n",
    "        print('nota invalida')\n",
    "        nota = float(input(f\"Digite a nota do {i+1}º jurado: [0-10]\"))\n",
    "        \n",
    "    notas.append(nota)\n",
    "\n",
    "print(f'Atleta: {nome}')\n",
    "for i in range(0,7):\n",
    "    print(f'Nota: {notas[i]}')\n",
    "print('Resultado FInal')\n",
    "print()\n",
    "print(f'Atleta: {nome}')\n",
    "print(f'Melhor Nota: {max(notas)}')\n",
    "print(f'Pior Nota: {min(notas)}')\n",
    "media = sum(notas) - (max(notas) + min(notas))\n",
    "print(f'Média: {round(media/5,1)}')\n",
    "print()\n",
    "print('end')"
   ]
  },
  {
   "cell_type": "markdown",
   "id": "81875717-6a98-42c4-b442-2acf2b7e1e48",
   "metadata": {},
   "source": [
    "48)Faça um programa que peça um numero inteiro positivo e em seguida mostre este numero invertido.\n",
    "Exemplo:\n",
    "  12376489\n",
    "  => 98467321"
   ]
  },
  {
   "cell_type": "code",
   "execution_count": null,
   "id": "7f88fb3b-ba6b-4933-9944-1dd032faa907",
   "metadata": {},
   "outputs": [],
   "source": [
    "num = input('digite um número inteiro positivo: ')\n",
    "reverso = ''\n",
    "for i in range(len(num)-1,-1,-1):\n",
    "    reverso = reverso + num[i]\n",
    "print('número invertido:', reverso)"
   ]
  },
  {
   "cell_type": "markdown",
   "id": "94796906-80ac-407b-b538-b6063fe8fce6",
   "metadata": {},
   "source": [
    "49)Faça um programa que mostre os n termos da Série a seguir:\n",
    "  S = 1/1 + 2/3 + 3/5 + 4/7 + 5/9 + ... + n/m. \n",
    "Imprima no final a soma da série."
   ]
  },
  {
   "cell_type": "code",
   "execution_count": null,
   "id": "4ad3f737-d6dd-4c7e-a40c-7a8138b3ff29",
   "metadata": {},
   "outputs": [],
   "source": [
    "m = 1\n",
    "nT = int(input('digite a posição do n Termo: '))\n",
    "\n",
    "print('S = ',end='')\n",
    "print(f\" {1}/{m} +\",end='')\n",
    "soma = 1/m \n",
    "for i in range(2,nT+1):\n",
    "    m+=2\n",
    "    if(i==nT):\n",
    "        print(f\" {i}/{m}.\")\n",
    "    else:\n",
    "        print(f\" {i}/{m} +\",end='')\n",
    "    soma += i/m\n",
    "\n",
    "print('o valor da série é ',round(soma,3))"
   ]
  },
  {
   "cell_type": "markdown",
   "id": "ae7dbc0e-353d-4193-9b0e-cbb970adf007",
   "metadata": {},
   "source": [
    "50)Sendo H= 1 + 1/2 + 1/3 + 1/4 + ... + 1/N, Faça um programa que calcule o valor de H com N termos."
   ]
  },
  {
   "cell_type": "code",
   "execution_count": null,
   "id": "29400e58-dceb-4270-ba59-399839efcb69",
   "metadata": {},
   "outputs": [],
   "source": [
    "m = 1\n",
    "soma = 1\n",
    "nT = int(input('digite a posição do n Termo: '))\n",
    "print(f'H = 1 + ',end='')\n",
    "for i in range(0,nT-1):\n",
    "    m+=1\n",
    "    if(i==nT-2):\n",
    "        print(f' 1/{m}')\n",
    "    else:\n",
    "        print(f' 1/{m} +',end='')\n",
    "    soma += 1/m\n",
    "\n",
    "print('O valor de H é:',round(soma,3))"
   ]
  },
  {
   "cell_type": "markdown",
   "id": "2e26ec75-5c09-40fd-9eb1-8456ff60d7e1",
   "metadata": {},
   "source": [
    "51)Faça um programa que mostre os n termos da Série a seguir:\n",
    "  S = 1/1 + 2/3 + 3/5 + 4/7 + 5/9 + ... + n/m. \n",
    "Imprima no final a soma da série."
   ]
  },
  {
   "cell_type": "code",
   "execution_count": null,
   "id": "decfb85a-a7c0-4f9c-a02c-be34dab00a3d",
   "metadata": {},
   "outputs": [],
   "source": [
    "#exercício repetido\n",
    "m = 1\n",
    "nT = int(input('digite a posição do n Termo: '))\n",
    "\n",
    "print('S = ',end='')\n",
    "print(f\" {1}/{m} +\",end='')\n",
    "soma = 1/m \n",
    "for i in range(2,nT+1):\n",
    "    m+=2\n",
    "    if(i==nT):\n",
    "        print(f\" {i}/{m}.\")\n",
    "    else:\n",
    "        print(f\" {i}/{m} +\",end='')\n",
    "    soma += i/m\n",
    "\n",
    "print('o valor da série é ',round(soma,3))"
   ]
  },
  {
   "cell_type": "markdown",
   "id": "5d0add8b-5458-4457-a373-3b01df7ebf69",
   "metadata": {},
   "source": [
    "--------------------------------------------------------Lista 4 - Estrutura com Listas------------------------------------------------------------------\n",
    "--------------------------------------------------------------------------------------------------------------------------------------------------------\n",
    "\n",
    "1)Faça um Programa que leia um vetor de 5 números inteiros e mostre-os."
   ]
  },
  {
   "cell_type": "code",
   "execution_count": null,
   "id": "a51fecd5-8ba5-4a8e-8b86-8dc7180a4048",
   "metadata": {},
   "outputs": [],
   "source": [
    "vetor = input('Digite um vetor de 5 númerosinteiros: ')\n",
    "print(f'vetor = {vetor.split(sep=None, maxsplit=-1)}')"
   ]
  },
  {
   "cell_type": "markdown",
   "id": "55ff05e8-2d98-41c9-b128-863a34bae97e",
   "metadata": {},
   "source": [
    "2)Faça um Programa que leia um vetor de 10 números reais e mostre-os na ordem inversa."
   ]
  },
  {
   "cell_type": "code",
   "execution_count": null,
   "id": "188f495d-4970-4e9e-b7aa-5c0f1533b197",
   "metadata": {},
   "outputs": [],
   "source": [
    "vetor = input('Digite um vetor de 10 números reais: ').split(sep=None, maxsplit=-1)\n",
    "vetor = list(reversed(vetor))\n",
    "print(vetor)"
   ]
  },
  {
   "cell_type": "markdown",
   "id": "3fe4cca3-51bf-4596-b2a9-86eb67022354",
   "metadata": {},
   "source": [
    "3)Faça um Programa que leia 4 notas, mostre as notas e a média na tela."
   ]
  },
  {
   "cell_type": "code",
   "execution_count": null,
   "id": "49d92808-b80e-4370-8949-90ee09be0f31",
   "metadata": {},
   "outputs": [],
   "source": [
    "notas = []\n",
    "for i in range(0,4):\n",
    "    notas.append(int(input('digite uma nota: ')))\n",
    "print(f' notas: {notas} , média: {sum(notas)/len(notas)}')"
   ]
  },
  {
   "cell_type": "markdown",
   "id": "703cdaea-0b15-4cf2-9be5-dc412de96f83",
   "metadata": {},
   "source": [
    "4)Faça um Programa que leia um vetor de 10 caracteres, e diga quantas consoantes foram lidas. imprima as consoantes."
   ]
  },
  {
   "cell_type": "code",
   "execution_count": null,
   "id": "850ce845-219e-44f5-870a-312e54906a55",
   "metadata": {},
   "outputs": [],
   "source": [
    "vetor = input('Digite um vetor de 10 caracteres: ').split(sep=None, maxsplit=1)\n",
    "listab = []\n",
    "\n",
    "if(len(vetor)>1):\n",
    "    for i in range(0,len(vetor)):\n",
    "       if vetor[i] not in ['a','e','i','o','u']:\n",
    "           listab.append(vetor[i])\n",
    "else:\n",
    "    for i in vetor[0]:\n",
    "       if i notin ['a','e','i','o','u']:\n",
    "            listab.append(i)\n",
    "\n",
    "print('a quantidade de consoantes no vetor é:',len(listab))\n",
    "print('Lista de Consoantes: ',listab)"
   ]
  },
  {
   "cell_type": "markdown",
   "id": "b32bd361-abea-4ec4-ba5e-aba5a347305c",
   "metadata": {},
   "source": [
    "5)Faça um Programa que leia 20 números inteiros e armazene-os num vetor. Armazene os números pares no vetor PAR e os números iMPARES no vetor impar.imprima os três vetores"
   ]
  },
  {
   "cell_type": "code",
   "execution_count": null,
   "id": "1db8f3d9-daa4-46a7-9c85-848a4b021887",
   "metadata": {},
   "outputs": [],
   "source": [
    "vetor = input('Digite um vetor de 20 númerosinteiros [SEPARADOS por ESPAÇO]: ').split(sep=None, maxsplit=-1)\n",
    "vetorpar = []\n",
    "vetorimpar = []\n",
    "\n",
    "for i in range(0,len(vetor)):    \n",
    "   if float(vetor[i]) % 2 == 0:\n",
    "        vetorpar.append(int(vetor[i]))\n",
    "    else:\n",
    "        vetorimpar.append(int(vetor[i]))\n",
    "        \n",
    "print('Inicial:',vetor)\n",
    "print('Par:',vetorpar)\n",
    "print('Impar:',vetorimpar)"
   ]
  },
  {
   "cell_type": "markdown",
   "id": "1d5628fc-4db7-433e-9639-0415c75dcda1",
   "metadata": {},
   "source": [
    "6)Faça um Programa que peça as quatro notas de 10 alunos, calcule e armazene num vetor a média de cada aluno,imprima o número de alunos com média maior ouigual a 7.0."
   ]
  },
  {
   "cell_type": "code",
   "execution_count": null,
   "id": "d2fb475c-cb10-413a-8252-475e92fcb022",
   "metadata": {},
   "outputs": [],
   "source": [
    "nota = 0\n",
    "media = 0\n",
    "vetor = []\n",
    "soma = 0\n",
    "for i in range(0,10):\n",
    "    print('---------------------------------------')\n",
    "    for i in range(0,4):\n",
    "        nota = float(input(f\"Digite a {i+1}ª nota:\"))\n",
    "        media += nota\n",
    "    vetor.append(round(media/4,2))\n",
    "    media = 0\n",
    "\n",
    "for i in range(0,len(vetor)):\n",
    "   if vetor[i] >= 7:\n",
    "        soma += 1\n",
    "print()\n",
    "print('médias: ',vetor)\n",
    "print(f'A quantidade de alunos com média maior ouigual a 7 é de {soma} alunos')"
   ]
  },
  {
   "cell_type": "markdown",
   "id": "eebf9b91-c8b3-47e9-bb73-07a3c8d2f790",
   "metadata": {},
   "source": [
    "7)Faça um Programa que leia um vetor de 5 númerosinteiros, mostre a soma, a multiplicação e os números."
   ]
  },
  {
   "cell_type": "code",
   "execution_count": null,
   "id": "9fce3611-444b-4324-9848-56a59702057a",
   "metadata": {},
   "outputs": [],
   "source": [
    "vetor = input('Digite um vetor de 5 númerosinteiros [SEPARADOS por ESPAÇO]: ').split(sep=None, maxsplit=-1)\n",
    "soma = 0\n",
    "multi = 1\n",
    "for i in range(0,len(vetor)):\n",
    "    soma += int(vetor[i])\n",
    "    multi *= int(vetor[i])\n",
    "print('A soma do vetor vale: ', soma)\n",
    "print('A multiplicação dos números do vetor vale: ', multi)\n",
    "print('Os números do vetor são: ', vetor)"
   ]
  },
  {
   "cell_type": "markdown",
   "id": "5282fee4-6490-4ccb-988b-28d0a5b47660",
   "metadata": {},
   "source": [
    "8)Faça um Programa que peça aidade e a altura de 5 pessoas, armazene cadainformação no seu respectivo vetor.imprima aidade e a altura na ordem inversa a ordem lida"
   ]
  },
  {
   "cell_type": "code",
   "execution_count": null,
   "id": "af1933cd-3b3d-422b-8ac6-64e32e99b354",
   "metadata": {},
   "outputs": [],
   "source": [
    "AgeL = []\n",
    "HeightL = []\n",
    "for i in range(0,5):\n",
    "    AgeL.append(int(input('Digite suaidade em anos: ')))\n",
    "    HeightL.append(float(input('Digite sua altura em metros: ')))\n",
    "AgeL = list(reversed(AgeL))\n",
    "HeightL = list(reversed(HeightL))\n",
    "print()\n",
    "print('Inversed Ages: ', AgeL)\n",
    "print('Inversed Heights: ', HeightL)"
   ]
  },
  {
   "cell_type": "markdown",
   "id": "615b23de-5aa6-4c4f-9f8b-d7cda980bdae",
   "metadata": {},
   "source": [
    "9)Faça um Programa que leia um vetor A com 10 números inteiros, calcule e mostre a soma dos quadrados dos elementos do vetor."
   ]
  },
  {
   "cell_type": "code",
   "execution_count": null,
   "id": "285ec5ef-9b17-4e3c-8494-0f59e83c69b1",
   "metadata": {},
   "outputs": [],
   "source": [
    "vetor = input('Digite um vetor de 10 númerosinteiros [SEPARADOS por ESPAÇO]: ').split(sep=None, maxsplit=-1)\n",
    "somaSq = 0\n",
    "listSq = []\n",
    "for i in range(0,len(vetor)):\n",
    "    somaSq += (int(vetor[i]))**2\n",
    "    listSq.append(int(vetor[i])**2)\n",
    "print('A soma dos quadrados dos elementos do vetor vale: ', somaSq)\n",
    "print()\n",
    "print('Elementos do vetor ao Quadrado: ', listSq)"
   ]
  },
  {
   "cell_type": "markdown",
   "id": "e0b117a8-fb1d-41c3-8476-d0d989391541",
   "metadata": {},
   "source": [
    "10)Faça um Programa que leia dois vetores com 10 elementos cada. \n",
    "Gere um terceiro vetor de 20 elementos, cujos valores deverão ser compostos pelos elementos intercalados dos dois outros vetores."
   ]
  },
  {
   "cell_type": "code",
   "execution_count": null,
   "id": "27bb7146-ce5c-43d1-afe9-37b27daf0fa4",
   "metadata": {},
   "outputs": [],
   "source": [
    "vetorA =input('Digite um vetor de 10 elementos [SEPARADOS por ESPAÇO]: ').split(sep=None, maxsplit=-1)\n",
    "vetorB= input('Digite um vetor de 10 elementos [SEPARADOS por ESPAÇO]: ').split(sep=None, maxsplit=-1)\n",
    "vetorM = []\n",
    "pos = 0\n",
    "if(len(vetorA)>len(vetorB)):\n",
    "    for i in range(0,len(vetorB)):\n",
    "        vetorM.append(vetorA[i])\n",
    "        vetorM.append(vetorB[i])\n",
    "        pos =i\n",
    "    for i in range(pos,len(vetorA)):\n",
    "        vetorM.append(vetorA[i])\n",
    "elif(len(vetorB)>len(vetorA)):\n",
    "    for i in range(0,len(vetorA)):\n",
    "        vetorM.append(vetorA[i])\n",
    "        vetorM.append(vetorB[i])\n",
    "        pos =i\n",
    "    for i in range(pos,len(vetorB)):\n",
    "        vetorM.append(vetorB[i])\n",
    "else:\n",
    "    for i in range(0,len(vetorA)):\n",
    "        vetorM.append(vetorA[i])\n",
    "        vetorM.append(vetorB[i])\n",
    "print('Vetorintercalado: ', vetorM)"
   ]
  },
  {
   "cell_type": "markdown",
   "id": "f194a0a9-0772-4fb1-8348-39f2c3a55df9",
   "metadata": {},
   "source": [
    "11)Altere o programa anterior,intercalando 3 vetores de 10 elementos cada."
   ]
  },
  {
   "cell_type": "code",
   "execution_count": null,
   "id": "23cdab51-d6a7-4dd7-8b52-98b298bb5437",
   "metadata": {},
   "outputs": [],
   "source": [
    "vetorA =input('Digite um vetor de 10 elementos [SEPARADOS por ESPAÇO]: ').split(sep=None, maxsplit=-1)\n",
    "vetorB= input('Digite um vetor de 10 elementos [SEPARADOS por ESPAÇO]: ').split(sep=None, maxsplit=-1)\n",
    "vetorC= input('Digite um vetor de 10 elementos [SEPARADOS por ESPAÇO]: ').split(sep=None, maxsplit=-1)\n",
    "vetorM = []\n",
    "\n",
    "for i in range(0,5):\n",
    "    vetorM.append(vetorA[i])\n",
    "    vetorM.append(vetorB[i])\n",
    "    vetorM.append(vetorC[i])\n",
    "\n",
    "print(vetorM)"
   ]
  },
  {
   "cell_type": "markdown",
   "id": "50cfbe9b-772a-4475-b6d2-6e4fb3976c21",
   "metadata": {},
   "source": [
    "12)Foram anotadas as idades e alturas de 30 alunos. \n",
    "Faça um Programa que determine quantos alunos com mais de 13 anos possuem altura inferior à média de altura desses alunos."
   ]
  },
  {
   "cell_type": "code",
   "execution_count": null,
   "id": "831af6b8-8e27-49d9-8f17-504d6df967af",
   "metadata": {},
   "outputs": [],
   "source": [
    "AgeL = []\n",
    "HeightL = []\n",
    "media = 0\n",
    "soma = 0\n",
    "for i in range(0,30):\n",
    "    print('-------------------------------------------')\n",
    "    AgeL.append(int(input('Digite suaidade em anos: ')))\n",
    "    HeightL.append(float(input('Digite sua altura em metros: ')))\n",
    "    media += HeightL[i]/30\n",
    "print()\n",
    "for i in range(0,30):\n",
    "   if (AgeL[i]>13 and HeightL[i] < media):\n",
    "        print(f'Idade: {AgeL[i]} Altura: {HeightL[i]} Média: {round(media,2)}')\n",
    "        soma += 1\n",
    "print()\n",
    "print(f'A quantidade de alunos com mais de 13 anos com alturainferior à média é de {soma} alunos')"
   ]
  },
  {
   "cell_type": "markdown",
   "id": "8239cd30-c362-4fca-b204-33e39e6bc5cd",
   "metadata": {},
   "source": [
    "13)Faça um programa que receba a temperatura média de cada mês do ano e armazene-as em uma lista. \n",
    "Após isto, calcule a média anual das temperaturas e mostre todas as temperaturas acima da média anual, e em que mês elas ocorreram (mostrar o mês por extenso: 1 – Janeiro, 2 – Fevereiro, . . . )"
   ]
  },
  {
   "cell_type": "code",
   "execution_count": null,
   "id": "aa8e39d4-716b-451b-9e00-478d2dd23ae2",
   "metadata": {},
   "outputs": [],
   "source": [
    "media = 0\n",
    "meses = ['Janeiro','Fevereiro','Março','Abril','Maio','Junho','Julho','Agosto','Setembro','Outubro','Novembro','Dezembro']\n",
    "temp = []\n",
    "\n",
    "for i in range(0,12):\n",
    "    temp.append(float(input(f\"Digite a temperatura média de {meses[i]}:\")))\n",
    "    media += temp[i]/12\n",
    "print()\n",
    "print(f'Temperaturas acima da média: {round(media,1)}ºC')\n",
    "\n",
    "for i in range(0,len(temp)):\n",
    "   if temp[i] > media:\n",
    "        print(f'{temp[i]}ºC em {meses[i]}')"
   ]
  },
  {
   "cell_type": "markdown",
   "id": "9c859831-7193-4f68-afbe-d37b02e6caa9",
   "metadata": {},
   "source": [
    "14)Utilizando listas faça um programa que faça 5 perguntas para uma pessoa sobre um crime. As perguntas são:\n",
    "\"Telefonou para a vítima?\"\n",
    "\"Esteve no local do crime?\"\n",
    "\"Mora perto da vítima?\"\n",
    "\"Devia para a vítima?\"\n",
    "\"Já trabalhou com a vít\n",
    "ma?\" O programa deve no final emitir uma classificação sobre a participação da pessoa no crime. Se a pessoa responder positivamente a 2 questões ela deve ser classificada como \"Suspeita\", entre 3 e 4 como \"Cúmplice\" e 5 como \"Asssi\n",
    "]no\". Caso contrário, ele será classificado como \"Inocente\"."
   ]
  },
  {
   "cell_type": "code",
   "execution_count": null,
   "id": "065340bb-9dc5-49c8-84ed-00c34f96e7f5",
   "metadata": {},
   "outputs": [],
   "source": [
    "ans = [] \n",
    "res = 0\n",
    "print('Responda apenas com S ou N')\n",
    "print()\n",
    "print(\"Você telefonou para a vítima?\")\n",
    "ans.append(input('Resposta:').upper())\n",
    "print(\"Você esteve no local do crime?\")\n",
    "ans.append(input('Resposta:').upper())\n",
    "print(\"Você Mora perto da vítima?\")\n",
    "ans.append(input('Resposta:').upper())\n",
    "print(\"Você devia para a vítima?\")\n",
    "ans.append(input('Resposta:').upper())\n",
    "print(\"Você Já trabalhou com a vítima?\")\n",
    "ans.append(input('Resposta:').upper())\n",
    "print()\n",
    "\n",
    "for i in range(0,len(ans)):\n",
    "   if 'S'in ans[i]:\n",
    "        res += 1\n",
    "\n",
    "if(res<2):\n",
    "    print('Status:inocente. Respostas: ', ans)\n",
    "elif(res<3):\n",
    "    print('Status: Suspeita. Respostas: ', ans)\n",
    "elif(res<5):\n",
    "    print('Status: Cúmplice. Respostas:', ans)\n",
    "else:\n",
    "    print('Status: Assasino. Respostas: ', ans)"
   ]
  },
  {
   "cell_type": "markdown",
   "id": "d78bd457-7c01-4608-b447-1e03e50e90c6",
   "metadata": {},
   "source": [
    "15)Faça um programa que leia um número indeterminado de valores, correspondentes a notas, encerrando a entrada de dados quando for informado um valor igual a -1 (que não deve ser armazenado). Após esta entrada de dados, faça:\n",
    "Mostre a quantidade de valores que foram lidos;\n",
    "Exiba todos os valores na ordem em que foram informados, um ao lado do outro;\n",
    "Exiba todos os valores na ordem inversa à que foram informados, um abaixo do outro;\n",
    "Calcule e mostre a soma dos valores;\n",
    "Calcule e mostre a média dos valores;\n",
    "Calcule e mostre a quantidade de valores acima da média calculada;\n",
    "Calcule e mostre a quantidade de valores abaixo de sete;\n",
    "Encerre o programa com uma mensagem;"
   ]
  },
  {
   "cell_type": "code",
   "execution_count": null,
   "id": "8ef5a0e2-e5c7-4085-b45f-53dc461432cc",
   "metadata": {},
   "outputs": [],
   "source": [
    "ans = 0\n",
    "lista = []\n",
    "soma = 0\n",
    "acM = 0\n",
    "ab7 = 0\n",
    "while True:\n",
    "    print('-----------------------------------------------')\n",
    "    ans = float(input('Digite uma nota qualquer: '))\n",
    "    if ans == -1:\n",
    "        break\n",
    "    lista.append(ans)\n",
    "    soma += ans\n",
    "\n",
    "for i in range(0,len(lista)):\n",
    "    \n",
    "   if(lista[i] > soma/len(lista)):\n",
    "        acM += 1\n",
    "   if lista[i] < 7:\n",
    "        ab7 += 1\n",
    "\n",
    "print('Quantidade de notas lidas: ', len(lista))\n",
    "print('Notas: ', lista)\n",
    "lista = list(reversed(lista))\n",
    "print('Notassinvertidos: ', lista)\n",
    "print('Soma das Notas: ', soma)\n",
    "print('Média das Notas: ', round(soma/len(lista),2))\n",
    "print('Quantidade de Notas acima da média: ', acM)\n",
    "print('Quantidade de Notas abaixo de sete: ', ab7)\n",
    "print()\n",
    "print('Encerrado')"
   ]
  },
  {
   "cell_type": "markdown",
   "id": "94b021b8-e3c1-496b-a936-71174ad1d00c",
   "metadata": {},
   "source": [
    "16)Utilize uma lista para resolver o problema a seguir. \n",
    "Uma empresa paga seus vendedores com base em comissões.  \n",
    "O vendedor recebe $200 por semana mais 9 por cento de suas vendas brutas daquela semana.\n",
    "\n",
    "Por exemplo, um vendedor que teve vendas brutas de $3000 \n",
    "em uma semana recebe $200 mais 9 por cento de $3000, ou seja, um total de $470.\n",
    "Escreva um programa (usando um array de contadores) que determine quantos vendedores receberam salários nos seguintesintervalos de valores:\n",
    "\n",
    "$200 - $299\n",
    "$300 - $399\n",
    "$400 - $499\n",
    "$500 - $599\n",
    "$600 - $699\n",
    "$700 - $799\n",
    "$800 - $899\n",
    "$900 - $999\n",
    "$1000 em diante\n",
    "\n",
    "Desafio: Crie uma fórmula para chegar na posição da lista a partir do salário, sem fazer váriosis aninhados."
   ]
  },
  {
   "cell_type": "code",
   "execution_count": null,
   "id": "8f69625e-9e7c-4e0b-89bd-7f7f6216fae8",
   "metadata": {},
   "outputs": [],
   "source": [
    "vend = [3000,4000,5000,4500,3500,2200,1100,1900,2500]\n",
    "count = [0]*9\n",
    "sals = ['$200 - $299','$300 - $399','$400 - $499','$500 - $599','$600 - $699','$700 - $799','$800 - $899','$900 - $999','$1000 em diante']\n",
    "vend.append(float(input(\"Digite o valor bruto vendido pelo vendedor na semana: \")))\n",
    "sal = 200\n",
    "for i,value in enumerate(vend):\n",
    "    sal += 0.09*vend[i]\n",
    "    print(f'vendas: {vend[i]} - salário {sal}')\n",
    "    print()\n",
    "    indice_count =int(min((sal-200) // 100, 8))\n",
    "    count[indice_count] += 1\n",
    "    sal = 200\n",
    "    \n",
    "for i in range(len(count)):\n",
    "    print(f\"Vendedores com salário entre {sals[i]}: {count[i]}\")\n",
    "    \n",
    "print('end')"
   ]
  },
  {
   "cell_type": "markdown",
   "id": "1b2d6625-eb0c-4ceb-aae1-ebe249af1bd7",
   "metadata": {},
   "source": [
    "17)Em uma competição de salto em distância cada atleta tem direito a cinco saltos. O resultado do atleta será determinado pela média dos cinco valores restantes. Você deve fazer um programa que receba o nome e as cinco distâncias alcançadas pelo atleta em seus saltos e depois informe o nome, os saltos e a média dos saltos. O programa deve ser encerrado quando não for informado o nome do atleta. A saída do programa deve ser conforme o exemplo abaixo:\n",
    "Atleta: Rodrigo Curvêllo\n",
    " \n",
    "Primeiro Salto: 6.5 m\n",
    "Segundo Salto: 6.1 m\n",
    "Terceiro Salto: 6.2 m\n",
    "Quarto Salto: 5.4 m\n",
    "Quinto Salto: 5.3 m\n",
    "\n",
    "Resultado final:\n",
    "Atleta: Rodrigo Curvêllo\n",
    "Saltos: 6.5 - 6.1 - 6.2 - 5.4 - 5.3\n",
    "Média dos saltos: 5.9 m"
   ]
  },
  {
   "cell_type": "code",
   "execution_count": null,
   "id": "fe523a90-b3ee-4640-a078-cbb5cdb6e616",
   "metadata": {},
   "outputs": [],
   "source": [
    "saltos = []\n",
    "\n",
    "while True:\n",
    "    nome =input(\"Digite o nome do atleta:\")\n",
    "    print()\n",
    "    if nome == '':\n",
    "        print('encerrando programa...')\n",
    "        break\n",
    "\n",
    "    for i in range(0,5):\n",
    "        saltos.append(float(input(f\"Digite a distância do {i+1}º salto: \")))\n",
    "        print('------------------------------------------')\n",
    "\n",
    "    for i in range(0,5):\n",
    "        print(f'{i+1}º salto: {saltos[i]} m')\n",
    "    print('Resultado final:')\n",
    "    print('Atleta: ', nome)\n",
    "    print('Saltos: ', saltos)\n",
    "    print(f'Média dos saltos: {round(sum(saltos)/len(saltos),2)} m')\n",
    "    print()"
   ]
  },
  {
   "cell_type": "markdown",
   "id": "c4dc8db6-0298-4c34-ae1b-c712b410b0cd",
   "metadata": {},
   "source": [
    "18)Uma grande emissora de televisão quer fazer uma enquete entre os seus telespectadores para saber qual o melhor jogador após cada jogo. Para isto, faz-se necessário o desenvolvimento de um programa, que será utilizado pelas telefonistas, para a computação dos votos. Sua equipe foi contratada para desenvolver este programa, utilizando a linguagem de programação py. Para computar cada voto, a telefonista digitará um número, entre 1 e 23, correspondente ao número da camisa do jogador. Um número de jogador igual zero, indica que a votação foi encerrada. Se um número inválido for digitado, o programa deve ignorá-lo, mostrando uma breve mensagem de aviso, e voltando a pedir outro número. Após o final da votação, o programa deverá exibir:\n",
    "\n",
    "O total de votos computados;\n",
    "Os númeos e respectivos votos de todos os jogadoreQUE RECEBERAM VOTOSos;\n",
    "O percentual de votos de cada um destes jogadores;\n",
    "O número do jogador escolhido como o melhor jogador da partida, juntamente com o número de votos e o percentual de votos dados a \n",
    "ele.\n",
    "Observe que os votos inválidos e o zero final não devem ser computados como votos. O resultado aparece ordenado pelo número do jogador. O programa deve fazer uso de arrays. O programa deverá executar o cálculo do percentual de cada jogador através de uma função. Esta função receberá dois parâmetros: o número de votos de um jogador e o total de votos. A função calculará o percentual e retornará o valor calculado. Abaixo segue uma tela de exemplo. O disposição das informações deve ser o mais próxima possível ao exemplo. Os dados são fictícios e podem mudar a cada execução do programa. Ao final, o programa deve ainda gravar os dados referentes ao resultado da votação em um arquivo texto no disco, obedecendo a mesma disposição apresentada na \n",
    "tela.\n",
    "Enquete: Quem foi o melhor jogador?\n",
    "\n",
    "Número do jogador (0=fim): 9\n",
    "Número do jogador (0=fim): 10\n",
    "Número do jogador (0=fim): 9\n",
    "Número do jogador (0=fim): 10\n",
    "Número do jogador (0=fim): 11\n",
    "Número do jogador (0=fim): 10\n",
    "Número do jogador (0=fim): 50\n",
    "Informe um valor entre 1 e 23 ou 0 para sair!\n",
    "Número do jogador (0=fim): 9\n",
    "Número do jogador (0=fim): 9\n",
    "Número do jogador (0=fim): 0\n",
    "\n",
    "Resultado da votação:\n",
    "\n",
    "Foram computados 8 votos.\n",
    "\n",
    "Jogador Votos           %\n",
    "9               4               50,0%\n",
    "10              3               37,5%\n",
    "11              1               12,5%\n",
    "O melhor jogador foi o número 9, com 4 votos, correspondendo a 50% do total de votos."
   ]
  },
  {
   "cell_type": "code",
   "execution_count": null,
   "id": "279c0318-d576-443b-8b46-a41165aa2393",
   "metadata": {},
   "outputs": [],
   "source": [
    "print('Enquete: Quem foi o melhor jogador?')\n",
    "print()\n",
    "votes = []\n",
    "max_votes = 0\n",
    "max_player = 0\n",
    "\n",
    "while True:\n",
    "    print('------------------------------------')\n",
    "    entry = int(input('Número do jogador (0=fim): '))\n",
    "    \n",
    "    if(entry == 0):\n",
    "        break\n",
    "    elif(entry>23):\n",
    "        print('Informe um valor entre 1 e 23 ou 0 para sair!')\n",
    "    else:\n",
    "        votes.append(entry)\n",
    "        votes.sort()\n",
    "\n",
    "RecordLine = []\n",
    "print()\n",
    "print('Resultado da votação:')\n",
    "RecordLine.append('Resultado da votação: ')\n",
    "print()\n",
    "print(f'Foram computados {len(votes)} votos.')\n",
    "RecordLine.append(f'Foram computados {len(votes)} votos.')\n",
    "print()\n",
    "print(f'Jogador-------------------Votos----------------Percentual')\n",
    "RecordLine.append(f'Jogador-------------------Votos----------------Percentual')\n",
    "print()\n",
    "\n",
    "for num in range(min(votes), max(votes)+1):\n",
    "    VOTES_i = votes.count(num)\n",
    "    if VOTES_i!=0:\n",
    "        print(f'{num}-------------------------{VOTES_i}---------------------{round(VOTES_i/len(votes)*100,2)}%')\n",
    "        RecordLine.append(f'{num}-------------------------{VOTES_i}---------------------{round(VOTES_i/len(votes)*100,2)}%')\n",
    "        print()\n",
    "        if(max_votes<VOTES_i):\n",
    "            max_votes = VOTES_i\n",
    "            max_player = num\n",
    "\n",
    "print(f'O melhor jogador foi o número {max_player}, com {max_votes} votos, correspondendo {round(max_votes/len(votes)*100,2)}% do total de votos')\n",
    "RecordLine.append(f'O melhor jogador foi o número {max_player}, com {max_votes} votos, correspondendo {round(max_votes/len(votes)*100,2)}% do total de votos')\n",
    "#with open('resultado.txt', 'w') as arq:\n",
    " #   for linha in RecordLine:\n",
    "  #      arq.write(linha + '\\n')"
   ]
  },
  {
   "cell_type": "markdown",
   "id": "f96c269f-4f08-4003-b8ca-b81bb2ccea19",
   "metadata": {},
   "source": [
    "19)Uma empresa de pesquisas precisa tabular os resultados da seguinte enquete feita a um grande quantidade de organizações: \"Qual o melhor Sistema Operacional para uso em servidores?\"\n",
    "\n",
    "As possíveis respostas são:\n",
    "\n",
    "1- Windows Server 2- Unix 3- Linux 4- Netware 5- Mac OS 6- Outro\n",
    "\n",
    "Você foi contratado para desenvolver um programa que leia o resultado da enquete e informe ao final o resultado da mesma. O programa deverá ler os valores até serinformado o valor 0, que encerra a entrada dos dados. Não deverão ser aceitos valores além dos válidos para o programa (0 a 6). Os valores referentes a cada uma das opções devem ser armazenados num vetor. Após os dados terem sido completamenteinformados, o programa deverá calcular a percentual de cada um dos concorrentes einformar o vencedor da enquete. O formato da saída foi dado pela empresa, e é o seguinte: Sistema Operacional Votos %\n",
    "\n",
    "Windows Server 1500 17% Unix 3500 40% Linux 3000 34% Netware 500 5% Mac OS 150 2% Outro 150 2%\n",
    "\n",
    "Total 8800\n",
    "\n",
    "O Sistema Operacional mais votado foi o Unix, com 3500 votos, correspondendo a 40% dos votos."
   ]
  }
 ],
 "metadata": {
  "kernelspec": {
   "display_name": "Python 3 (ipykernel)",
   "language": "python",
   "name": "python3"
  },
  "language_info": {
   "codemirror_mode": {
    "name": "ipython",
    "version": 3
   },
   "file_extension": ".py",
   "mimetype": "text/x-python",
   "name": "python",
   "nbconvert_exporter": "python",
   "pygments_lexer": "ipython3",
   "version": "3.12.4"
  }
 },
 "nbformat": 4,
 "nbformat_minor": 5
}
